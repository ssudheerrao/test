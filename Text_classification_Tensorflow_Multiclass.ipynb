{
  "nbformat": 4,
  "nbformat_minor": 0,
  "metadata": {
    "colab": {
      "name": "Text classification Tensorflow - Multiclass",
      "provenance": [],
      "include_colab_link": true
    },
    "kernelspec": {
      "name": "python3",
      "display_name": "Python 3"
    },
    "accelerator": "GPU"
  },
  "cells": [
    {
      "cell_type": "markdown",
      "metadata": {
        "id": "view-in-github",
        "colab_type": "text"
      },
      "source": [
        "<a href=\"https://colab.research.google.com/github/ssudheerrao/test/blob/master/Text_classification_Tensorflow_Multiclass.ipynb\" target=\"_parent\"><img src=\"https://colab.research.google.com/assets/colab-badge.svg\" alt=\"Open In Colab\"/></a>"
      ]
    },
    {
      "cell_type": "markdown",
      "metadata": {
        "id": "w_WSckhF77Ny",
        "colab_type": "text"
      },
      "source": [
        "\n",
        "\n",
        "```\n",
        "`# This is formatted as code`\n",
        "```\n",
        "\n",
        "Link to video explaining the code is availale at - https://youtu.be/dkpS2g4K08s"
      ]
    },
    {
      "cell_type": "code",
      "metadata": {
        "id": "fUbFvR7LDB3U",
        "colab_type": "code",
        "colab": {}
      },
      "source": [
        "from __future__ import absolute_import, division, print_function, unicode_literals\n",
        "\n",
        "import tensorflow as tf\n",
        "\n",
        "import os\n",
        "import datetime\n",
        "import tensorflow_hub as hub\n",
        "import numpy as np\n",
        "    \n",
        "import pandas as pd\n",
        "from sklearn.model_selection import train_test_split"
      ],
      "execution_count": null,
      "outputs": []
    },
    {
      "cell_type": "code",
      "metadata": {
        "id": "QDH43tw-DN4y",
        "colab_type": "code",
        "colab": {}
      },
      "source": [
        "df=pd.read_csv('https://github.com/srivatsan88/YouTubeLI/blob/master/dataset/consumer_compliants.zip?raw=true', compression='zip', sep=',', quotechar='\"')"
      ],
      "execution_count": null,
      "outputs": []
    },
    {
      "cell_type": "code",
      "metadata": {
        "id": "AewvMzr1NBJc",
        "colab_type": "code",
        "colab": {
          "base_uri": "https://localhost:8080/",
          "height": 118
        },
        "outputId": "d34c4025-f4b9-456a-b19f-c2ce36764ebb"
      },
      "source": [
        "df.columns"
      ],
      "execution_count": null,
      "outputs": [
        {
          "output_type": "execute_result",
          "data": {
            "text/plain": [
              "Index(['Date received', 'Product', 'Sub-product', 'Issue', 'Sub-issue',\n",
              "       'Consumer complaint narrative', 'Company public response', 'Company',\n",
              "       'State', 'ZIP code', 'Tags', 'Consumer consent provided?',\n",
              "       'Submitted via', 'Date sent to company', 'Company response to consumer',\n",
              "       'Timely response?', 'Consumer disputed?', 'Complaint ID'],\n",
              "      dtype='object')"
            ]
          },
          "metadata": {
            "tags": []
          },
          "execution_count": 8
        }
      ]
    },
    {
      "cell_type": "code",
      "metadata": {
        "id": "KV61L59Tnyu6",
        "colab_type": "code",
        "colab": {
          "base_uri": "https://localhost:8080/",
          "height": 218
        },
        "outputId": "a19f0c17-9780-493e-d942-be8b6dad7e40"
      },
      "source": [
        "df.Product"
      ],
      "execution_count": null,
      "outputs": [
        {
          "output_type": "execute_result",
          "data": {
            "text/plain": [
              "0              Vehicle loan or lease\n",
              "1                    Debt collection\n",
              "2              Vehicle loan or lease\n",
              "3        Checking or savings account\n",
              "4                    Debt collection\n",
              "                    ...             \n",
              "57448                   Student loan\n",
              "57449                Debt collection\n",
              "57450                Debt collection\n",
              "57451    Checking or savings account\n",
              "57452                Debt collection\n",
              "Name: Product, Length: 57453, dtype: object"
            ]
          },
          "metadata": {
            "tags": []
          },
          "execution_count": 11
        }
      ]
    },
    {
      "cell_type": "code",
      "metadata": {
        "id": "jCGEYEQJ3E9U",
        "colab_type": "code",
        "colab": {
          "base_uri": "https://localhost:8080/",
          "height": 1000
        },
        "outputId": "21b7a034-aca8-44f6-cf27-b92fc1291ff0"
      },
      "source": [
        "pd.set_option('display.max_colwidth', -1)\n",
        "df"
      ],
      "execution_count": null,
      "outputs": [
        {
          "output_type": "stream",
          "text": [
            "/usr/local/lib/python3.6/dist-packages/ipykernel_launcher.py:1: FutureWarning: Passing a negative integer is deprecated in version 1.0 and will not be supported in future version. Instead, use None to not limit the column width.\n",
            "  \"\"\"Entry point for launching an IPython kernel.\n"
          ],
          "name": "stderr"
        },
        {
          "output_type": "execute_result",
          "data": {
            "text/html": [
              "<div>\n",
              "<style scoped>\n",
              "    .dataframe tbody tr th:only-of-type {\n",
              "        vertical-align: middle;\n",
              "    }\n",
              "\n",
              "    .dataframe tbody tr th {\n",
              "        vertical-align: top;\n",
              "    }\n",
              "\n",
              "    .dataframe thead th {\n",
              "        text-align: right;\n",
              "    }\n",
              "</style>\n",
              "<table border=\"1\" class=\"dataframe\">\n",
              "  <thead>\n",
              "    <tr style=\"text-align: right;\">\n",
              "      <th></th>\n",
              "      <th>Date received</th>\n",
              "      <th>Product</th>\n",
              "      <th>Sub-product</th>\n",
              "      <th>Issue</th>\n",
              "      <th>Sub-issue</th>\n",
              "      <th>Consumer complaint narrative</th>\n",
              "      <th>Company public response</th>\n",
              "      <th>Company</th>\n",
              "      <th>State</th>\n",
              "      <th>ZIP code</th>\n",
              "      <th>Tags</th>\n",
              "      <th>Consumer consent provided?</th>\n",
              "      <th>Submitted via</th>\n",
              "      <th>Date sent to company</th>\n",
              "      <th>Company response to consumer</th>\n",
              "      <th>Timely response?</th>\n",
              "      <th>Consumer disputed?</th>\n",
              "      <th>Complaint ID</th>\n",
              "    </tr>\n",
              "  </thead>\n",
              "  <tbody>\n",
              "    <tr>\n",
              "      <th>0</th>\n",
              "      <td>4/3/2020</td>\n",
              "      <td>Vehicle loan or lease</td>\n",
              "      <td>Loan</td>\n",
              "      <td>Getting a loan or lease</td>\n",
              "      <td>Fraudulent loan</td>\n",
              "      <td>This auto loan was opened on XX/XX/2020 in XXXX, NC with BB &amp; T in my name. I have NEVER been to North Carolina and I have NEVER been a resident. I have filed a dispute twice through my credit bureaus but both times BB &amp; T has claimed that this is an accurate loan. Which I wasn't aware of until today. I have tried to contact BB &amp; T multiple times but I have never gotten through to a live person. I do n't drive and I have never owned a car before. I didn't have any knowledge of this account until I checked XXXXXXXX XXXX  and noticed it. I've tried twice to dispute it. Additionally I never received any bills or information about this account. This is my last resort in trying to remove this fraudulent loan off of my account.</td>\n",
              "      <td>Company has responded to the consumer and the CFPB and chooses not to provide a public response</td>\n",
              "      <td>TRUIST FINANCIAL CORPORATION</td>\n",
              "      <td>PA</td>\n",
              "      <td>None</td>\n",
              "      <td>None</td>\n",
              "      <td>Consent provided</td>\n",
              "      <td>Web</td>\n",
              "      <td>4/3/2020</td>\n",
              "      <td>Closed with explanation</td>\n",
              "      <td>Yes</td>\n",
              "      <td>NaN</td>\n",
              "      <td>3591341</td>\n",
              "    </tr>\n",
              "    <tr>\n",
              "      <th>1</th>\n",
              "      <td>3/12/2020</td>\n",
              "      <td>Debt collection</td>\n",
              "      <td>Payday loan debt</td>\n",
              "      <td>Attempts to collect debt not owed</td>\n",
              "      <td>Debt is not yours</td>\n",
              "      <td>In XXXX of 2019 I noticed a debt for {$620.00} on my credit which i believed was mine I thought speedy cash had bought one of my old debts and sold it to XXXX XXXX XXXX XXXX. I contacted XXXX XXXX XXXX XXXX and after several attempts of giving my full name, nothing came up in their system. I gave my social and the rep said the account popped up but DID NOT tell me that the account was under someone elses name and continued to let me make a payment. The payment was for {$120.00}. Confirmation number-XXXX. After realizing it was not my account, I called back to get my money back and inform them of the mistake. I was told i needed to mail them an FTC report and dispute letter to get my money back. I completed all of this and when i called again they said they transferred the account back to speedy cash for fraud review and I would need to contact them. After contacting them i was again told that i can not get my money back. The issue im having is this representative at XXXX XXXX played blind to obvious fraud and let an innocent person make a payment on someone elses debt and i want my money back.</td>\n",
              "      <td>None</td>\n",
              "      <td>CURO Intermediate Holdings</td>\n",
              "      <td>CO</td>\n",
              "      <td>806XX</td>\n",
              "      <td>None</td>\n",
              "      <td>Consent provided</td>\n",
              "      <td>Web</td>\n",
              "      <td>3/12/2020</td>\n",
              "      <td>Closed with explanation</td>\n",
              "      <td>Yes</td>\n",
              "      <td>NaN</td>\n",
              "      <td>3564184</td>\n",
              "    </tr>\n",
              "    <tr>\n",
              "      <th>2</th>\n",
              "      <td>2/6/2020</td>\n",
              "      <td>Vehicle loan or lease</td>\n",
              "      <td>Loan</td>\n",
              "      <td>Getting a loan or lease</td>\n",
              "      <td>Credit denial</td>\n",
              "      <td>As stated from Capital One, XXXX XX/XX/XXXX and XXXX 2018, My wife and I went to several car dealerships to request for a car loan to get a used car. However, according to their credit requirements unfortunately my credit score was insufficient for the car loan approval at that time. It seemed as though they pulled my credit report multiple times.</td>\n",
              "      <td>None</td>\n",
              "      <td>CAPITAL ONE FINANCIAL CORPORATION</td>\n",
              "      <td>OH</td>\n",
              "      <td>430XX</td>\n",
              "      <td>None</td>\n",
              "      <td>Consent provided</td>\n",
              "      <td>Web</td>\n",
              "      <td>2/6/2020</td>\n",
              "      <td>Closed with explanation</td>\n",
              "      <td>Yes</td>\n",
              "      <td>NaN</td>\n",
              "      <td>3521949</td>\n",
              "    </tr>\n",
              "    <tr>\n",
              "      <th>3</th>\n",
              "      <td>3/6/2020</td>\n",
              "      <td>Checking or savings account</td>\n",
              "      <td>Savings account</td>\n",
              "      <td>Managing an account</td>\n",
              "      <td>Banking errors</td>\n",
              "      <td>Please see CFPB case XXXX. \\n\\nCapital One, in the letter they provided ( and attached to that case as their response ) said this : \" The funds were reversed and sent back to XXXX XXXX XXXX  on XX/XX/XXXX ''. \\n\\nXXXX XXXX XXXX  ( now XXXX XXXX  ) has not received these funds. Staff at XXXX XXXX  - and also staff at the account-holder 's business - have looked for return of my money ( {$650.00} ) and find nothing. \\n\\nCapital One needs to document - actually prove - they returned the funds, as stated in their letter. Capital One must provide electronic information, if the return was made that way, or document the paper check they sent back to XXXX XXXX. \\n\\nI've left 3 messages about this problem for the person who signed the letter ( XXXX ) from Capital One. I have received no call-backs. \\n\\nSummary : Capital One said they returned my money on XX/XX/XXXX : they did not. If they continue claim they did, then they need to prove that.</td>\n",
              "      <td>None</td>\n",
              "      <td>CAPITAL ONE FINANCIAL CORPORATION</td>\n",
              "      <td>CA</td>\n",
              "      <td>None</td>\n",
              "      <td>None</td>\n",
              "      <td>Consent provided</td>\n",
              "      <td>Web</td>\n",
              "      <td>3/6/2020</td>\n",
              "      <td>Closed with explanation</td>\n",
              "      <td>Yes</td>\n",
              "      <td>NaN</td>\n",
              "      <td>3556237</td>\n",
              "    </tr>\n",
              "    <tr>\n",
              "      <th>4</th>\n",
              "      <td>2/14/2020</td>\n",
              "      <td>Debt collection</td>\n",
              "      <td>Medical debt</td>\n",
              "      <td>Attempts to collect debt not owed</td>\n",
              "      <td>Debt is not yours</td>\n",
              "      <td>This debt was incurred due to medical malpractice ( XXXX XXXX XXXX, XXXX, TX ). I asked the doctor to turn over my claim to his malpractice insurance company. This has cost me thousands of dollars to XXXX XXXX XXXX. I am still trying to collect damages from this doctor. He never responded and turned over me to collections Merchants and Professional Collection Bureau , Inc. I sent them a letter describing exactly this issue and instead of not contacting me and verifying my debt they start reporting this debt to the credit reporting agencies. They never verified the debt, like I asked and they never stopped it from being reported when I specifically told them not to, due to the circumstances above.</td>\n",
              "      <td>Company believes it acted appropriately as authorized by contract or law</td>\n",
              "      <td>Merchants and Professional Bureau, Inc.</td>\n",
              "      <td>OH</td>\n",
              "      <td>432XX</td>\n",
              "      <td>None</td>\n",
              "      <td>Consent provided</td>\n",
              "      <td>Web</td>\n",
              "      <td>2/14/2020</td>\n",
              "      <td>Closed with explanation</td>\n",
              "      <td>Yes</td>\n",
              "      <td>NaN</td>\n",
              "      <td>3531704</td>\n",
              "    </tr>\n",
              "    <tr>\n",
              "      <th>...</th>\n",
              "      <td>...</td>\n",
              "      <td>...</td>\n",
              "      <td>...</td>\n",
              "      <td>...</td>\n",
              "      <td>...</td>\n",
              "      <td>...</td>\n",
              "      <td>...</td>\n",
              "      <td>...</td>\n",
              "      <td>...</td>\n",
              "      <td>...</td>\n",
              "      <td>...</td>\n",
              "      <td>...</td>\n",
              "      <td>...</td>\n",
              "      <td>...</td>\n",
              "      <td>...</td>\n",
              "      <td>...</td>\n",
              "      <td>...</td>\n",
              "      <td>...</td>\n",
              "    </tr>\n",
              "    <tr>\n",
              "      <th>57448</th>\n",
              "      <td>2/29/2020</td>\n",
              "      <td>Student loan</td>\n",
              "      <td>Federal student loan servicing</td>\n",
              "      <td>Dealing with your lender or servicer</td>\n",
              "      <td>Trouble with how payments are being handled</td>\n",
              "      <td>I am attempting to make a payment toward my student loans on the Nelnet website today, XX/XX/20, and Nelnet will not allow me to post the payment sooner than XX/XX/20. By the time the payment posts, 2-3 days of additional interest will have accrued and my payments will apply more to interest than is due today, the day that I'm attempting to pay. My understanding was that I could make a payment at any time but this does not appear to be true. The funds are available in my bank account today regardless of whether Nelnet can collect over the weekend. I should not be penalized for this. \\n\\nI submitted complaint XXXX in XXXX for other deceptive practices with Nelnet. They have not yet resolved the issue identified in that complaint or contacted me as they said they would in their response. I believe this new issue is just one more deceptive practice by this company that causes financial harm to borrowers.</td>\n",
              "      <td>None</td>\n",
              "      <td>Nelnet, Inc.</td>\n",
              "      <td>KS</td>\n",
              "      <td>None</td>\n",
              "      <td>None</td>\n",
              "      <td>Consent provided</td>\n",
              "      <td>Web</td>\n",
              "      <td>2/29/2020</td>\n",
              "      <td>Closed with explanation</td>\n",
              "      <td>Yes</td>\n",
              "      <td>NaN</td>\n",
              "      <td>3549178</td>\n",
              "    </tr>\n",
              "    <tr>\n",
              "      <th>57449</th>\n",
              "      <td>2/11/2020</td>\n",
              "      <td>Debt collection</td>\n",
              "      <td>Other debt</td>\n",
              "      <td>Attempts to collect debt not owed</td>\n",
              "      <td>Debt was paid</td>\n",
              "      <td>Received letter for {$480.00}. Original creditor didnt contact me until past statute of limitations for insurance company recoupment per Arizona law. Debt collection is illegal for phantom debt. Additionally they are phoning my office excessively.</td>\n",
              "      <td>Company has responded to the consumer and the CFPB and chooses not to provide a public response</td>\n",
              "      <td>The Receivable Management Services LLC, New York, NY Branch</td>\n",
              "      <td>AZ</td>\n",
              "      <td>853XX</td>\n",
              "      <td>None</td>\n",
              "      <td>Consent provided</td>\n",
              "      <td>Web</td>\n",
              "      <td>2/18/2020</td>\n",
              "      <td>Closed with explanation</td>\n",
              "      <td>Yes</td>\n",
              "      <td>NaN</td>\n",
              "      <td>3527928</td>\n",
              "    </tr>\n",
              "    <tr>\n",
              "      <th>57450</th>\n",
              "      <td>2/29/2020</td>\n",
              "      <td>Debt collection</td>\n",
              "      <td>Other debt</td>\n",
              "      <td>Communication tactics</td>\n",
              "      <td>Used obscene, profane, or other abusive language</td>\n",
              "      <td>entire time 10 years until XX/XX/2020. XXXX makes my blood boil. I have called and was lied to told to provide my checking account information over the phone in order to turn my cell phone back on. i called at XXXX them at XXXX {$300.00} was added to my bill. \\n\\nScam scam scam I was told I can not call the office of the President just to write to XXXX XXXX XXXX XXXX XXXX XXXX XXXX, NM XXXX. I did three thousand times. the last letter I mailed on XX/XX/2020. Two collection agencies later. \\n\\nI chose to leave XXXX XXXX every time I called the XXXX supervisor would threaten me on a recorded line. I need peace of mind and a good Heart to beat inside of me. Im on a XXXX XXXX due to the stress at XXXX XXXX   taking all my money 4 10 years.</td>\n",
              "      <td>Company has responded to the consumer and the CFPB and chooses not to provide a public response</td>\n",
              "      <td>Convergent Resources, Inc.</td>\n",
              "      <td>NJ</td>\n",
              "      <td>8101</td>\n",
              "      <td>None</td>\n",
              "      <td>Consent provided</td>\n",
              "      <td>Web</td>\n",
              "      <td>2/29/2020</td>\n",
              "      <td>Closed with explanation</td>\n",
              "      <td>Yes</td>\n",
              "      <td>NaN</td>\n",
              "      <td>3549238</td>\n",
              "    </tr>\n",
              "    <tr>\n",
              "      <th>57451</th>\n",
              "      <td>1/16/2020</td>\n",
              "      <td>Checking or savings account</td>\n",
              "      <td>Checking account</td>\n",
              "      <td>Problem with a lender or other company charging your account</td>\n",
              "      <td>Transaction was not authorized</td>\n",
              "      <td>I am a customer with Wells Fargo Bank. Recently money was withdrawn on a couple of occasions without my permission or consent to pay for a timeshare account that was never used by me nor anyone connected to me because of unfair policies pertaining to the fees of the said timeshare. I tried cancelling the said timeshare account several times because of these fees that were never mentioned at the initiation. My account was debited to pay for the timeshare fees without my knowledge or consent several times. I tried correcting this with Wells Fargo bank with no avail. I would appreciate it if you can look into this matter for me. I was left with no funds in my account and as such I could not take care of the basic necessities of my day to day life. \\nThanks in advance,</td>\n",
              "      <td>Company has responded to the consumer and the CFPB and chooses not to provide a public response</td>\n",
              "      <td>WELLS FARGO &amp; COMPANY</td>\n",
              "      <td>AZ</td>\n",
              "      <td>852XX</td>\n",
              "      <td>None</td>\n",
              "      <td>Consent provided</td>\n",
              "      <td>Web</td>\n",
              "      <td>1/22/2020</td>\n",
              "      <td>Closed with explanation</td>\n",
              "      <td>Yes</td>\n",
              "      <td>NaN</td>\n",
              "      <td>3498566</td>\n",
              "    </tr>\n",
              "    <tr>\n",
              "      <th>57452</th>\n",
              "      <td>1/16/2020</td>\n",
              "      <td>Debt collection</td>\n",
              "      <td>Auto debt</td>\n",
              "      <td>Took or threatened to take negative or legal action</td>\n",
              "      <td>Threatened or suggested your credit would be damaged</td>\n",
              "      <td>I spoken with them several times in a year. An in XXXX they informed me yes they sold my information to a third party without my knowledge. Also, I told them that I dont owe them anything because my car was paid off by insurance XXXX an Gap an they said no. I also informed them that constantly calling me an telling me that my credit score would be damage was inappropriate. But on my credit they written several negative things. An I didnt give Exeter financial Corp no authority to sell my information to XXXX XXXX</td>\n",
              "      <td>None</td>\n",
              "      <td>Exeter Finance Corp.</td>\n",
              "      <td>SC</td>\n",
              "      <td>None</td>\n",
              "      <td>None</td>\n",
              "      <td>Consent provided</td>\n",
              "      <td>Web</td>\n",
              "      <td>1/16/2020</td>\n",
              "      <td>Closed with explanation</td>\n",
              "      <td>Yes</td>\n",
              "      <td>NaN</td>\n",
              "      <td>3498524</td>\n",
              "    </tr>\n",
              "  </tbody>\n",
              "</table>\n",
              "<p>57453 rows × 18 columns</p>\n",
              "</div>"
            ],
            "text/plain": [
              "      Date received  ... Complaint ID\n",
              "0      4/3/2020      ...  3591341    \n",
              "1      3/12/2020     ...  3564184    \n",
              "2      2/6/2020      ...  3521949    \n",
              "3      3/6/2020      ...  3556237    \n",
              "4      2/14/2020     ...  3531704    \n",
              "...          ...     ...      ...    \n",
              "57448  2/29/2020     ...  3549178    \n",
              "57449  2/11/2020     ...  3527928    \n",
              "57450  2/29/2020     ...  3549238    \n",
              "57451  1/16/2020     ...  3498566    \n",
              "57452  1/16/2020     ...  3498524    \n",
              "\n",
              "[57453 rows x 18 columns]"
            ]
          },
          "metadata": {
            "tags": []
          },
          "execution_count": 12
        }
      ]
    },
    {
      "cell_type": "code",
      "metadata": {
        "id": "U_UepjKp0fJ-",
        "colab_type": "code",
        "colab": {}
      },
      "source": [
        "X_train, X_test = train_test_split(df, test_size=0.2, random_state=111)"
      ],
      "execution_count": null,
      "outputs": []
    },
    {
      "cell_type": "code",
      "metadata": {
        "id": "r3Z_Cn0ZpB5J",
        "colab_type": "code",
        "colab": {
          "base_uri": "https://localhost:8080/",
          "height": 134
        },
        "outputId": "c67ba127-a969-4a90-c53e-dd5e50c7d9b4"
      },
      "source": [
        "df['Product'].value_counts()"
      ],
      "execution_count": null,
      "outputs": [
        {
          "output_type": "execute_result",
          "data": {
            "text/plain": [
              "Debt collection                21772\n",
              "Credit card or prepaid card    13193\n",
              "Mortgage                       9799 \n",
              "Checking or savings account    7003 \n",
              "Student loan                   2950 \n",
              "Vehicle loan or lease          2736 \n",
              "Name: Product, dtype: int64"
            ]
          },
          "metadata": {
            "tags": []
          },
          "execution_count": 18
        }
      ]
    },
    {
      "cell_type": "code",
      "metadata": {
        "id": "ZsaEw_JM-UEp",
        "colab_type": "code",
        "colab": {}
      },
      "source": [
        "from sklearn.utils import class_weight\n",
        "class_weights = list(class_weight.compute_class_weight('balanced',\n",
        "                                             np.unique(df['Product']),\n",
        "                                             df['Product']))"
      ],
      "execution_count": null,
      "outputs": []
    },
    {
      "cell_type": "code",
      "metadata": {
        "id": "4_CyTvUGAFyw",
        "colab_type": "code",
        "colab": {
          "base_uri": "https://localhost:8080/",
          "height": 134
        },
        "outputId": "c49eb781-d11d-41ca-a953-a086cd145f80"
      },
      "source": [
        "df['Product'].value_counts()"
      ],
      "execution_count": null,
      "outputs": [
        {
          "output_type": "execute_result",
          "data": {
            "text/plain": [
              "Debt collection                21772\n",
              "Credit card or prepaid card    13193\n",
              "Mortgage                       9799 \n",
              "Checking or savings account    7003 \n",
              "Student loan                   2950 \n",
              "Vehicle loan or lease          2736 \n",
              "Name: Product, dtype: int64"
            ]
          },
          "metadata": {
            "tags": []
          },
          "execution_count": 16
        }
      ]
    },
    {
      "cell_type": "code",
      "metadata": {
        "id": "-7gu2a22_neX",
        "colab_type": "code",
        "colab": {}
      },
      "source": [
        "class_weights.sort()"
      ],
      "execution_count": null,
      "outputs": []
    },
    {
      "cell_type": "code",
      "metadata": {
        "id": "I92NNAnbaEFs",
        "colab_type": "code",
        "colab": {
          "base_uri": "https://localhost:8080/",
          "height": 124
        },
        "outputId": "3e2e8255-5961-47e5-8eb3-fcf8934ce37b"
      },
      "source": [
        "class_weights"
      ],
      "execution_count": null,
      "outputs": [
        {
          "output_type": "execute_result",
          "data": {
            "text/plain": [
              "[0.43980801028844385,\n",
              " 0.7258015614340938,\n",
              " 0.9771915501581794,\n",
              " 1.3673425674710837,\n",
              " 3.2459322033898306,\n",
              " 3.4998172514619883]"
            ]
          },
          "metadata": {
            "tags": []
          },
          "execution_count": 9
        }
      ]
    },
    {
      "cell_type": "code",
      "metadata": {
        "id": "8brlwCEg0vnf",
        "colab_type": "code",
        "colab": {}
      },
      "source": [
        "weights={}"
      ],
      "execution_count": null,
      "outputs": []
    },
    {
      "cell_type": "code",
      "metadata": {
        "id": "nDvRpRbf05TV",
        "colab_type": "code",
        "colab": {}
      },
      "source": [
        "for index, weight in enumerate(class_weights) :\n",
        "  weights[index]=weight"
      ],
      "execution_count": null,
      "outputs": []
    },
    {
      "cell_type": "code",
      "metadata": {
        "id": "pwZB03P_2Vyo",
        "colab_type": "code",
        "colab": {
          "base_uri": "https://localhost:8080/",
          "height": 124
        },
        "outputId": "a29c8d9a-dcac-4761-c28a-edbfb11e8732"
      },
      "source": [
        "weights"
      ],
      "execution_count": null,
      "outputs": [
        {
          "output_type": "execute_result",
          "data": {
            "text/plain": [
              "{0: 0.43980801028844385,\n",
              " 1: 0.7258015614340938,\n",
              " 2: 0.9771915501581794,\n",
              " 3: 1.3673425674710837,\n",
              " 4: 3.2459322033898306,\n",
              " 5: 3.4998172514619883}"
            ]
          },
          "metadata": {
            "tags": []
          },
          "execution_count": 12
        }
      ]
    },
    {
      "cell_type": "code",
      "metadata": {
        "id": "hijEnYw7V_ey",
        "colab_type": "code",
        "colab": {}
      },
      "source": [
        "dataset_train = tf.data.Dataset.from_tensor_slices((X_train['Consumer complaint narrative'].values, X_train['Product'].values))\n",
        "dataset_test = tf.data.Dataset.from_tensor_slices((X_test['Consumer complaint narrative'].values, X_test['Product'].values))"
      ],
      "execution_count": null,
      "outputs": []
    },
    {
      "cell_type": "code",
      "metadata": {
        "id": "u1diITDtD9xD",
        "colab_type": "code",
        "colab": {
          "base_uri": "https://localhost:8080/",
          "height": 121
        },
        "outputId": "bc9934f2-1660-43a3-954b-fd4435a833f1"
      },
      "source": [
        "for text, target in dataset_train.take(5):\n",
        "  print ('Complaint: {}, Target: {}'.format(text, target))"
      ],
      "execution_count": null,
      "outputs": [
        {
          "output_type": "stream",
          "text": [
            "Complaint: b\"The below complaint was submitted to the CFPB numerous times prior, the Wells Fargo rep, XXXX XXXX, replies with the same general form response stating numerous attempts at resolution have been made and exhausted which is a lie. He also attempts to state he can not comment due to past litigation which is also a lie, he reverts to this reply so as to avoid detailing any supposed attempt at resolution which he can not as there is none. Further, he should be aware of resolution which is to refund fees totaling {$610.00} and has not done so, no refund received to date. Please see complaint below. The below complaint was submitted prior, a duplicate form response received from XXXX XXXX with Wells Fargo, one of several. Based on this, my complaint was not addressed. Further, a reply in XXXX was never received as was mentioned. XXXX replied by stating numerous attempts at resolution have been made but has not detailed one, there was no contact from anyone at Wells Fargo aside from XXXX XXXX whom offered a bogus settlement offer. Wells Fargo failed to honor this settlement offer made to me in XXXX by XXXX XXXX, a rep with Wells Fargo. The offer amount, {$3700.00}, was never received and it is now XXXX. Prior to this, I requested a refund in the amount of {$610.00} which includes mainly overdraft fees charged to accounts not authorized. A total of four mediation request forms were sent in, XXXX XXXX contacted me, offered settlement amount in XXXX, no payment received to date.. Since no payment was received in re, additional CFPB complaints were filed. XXXX replied most recently stating numerous attempts at resolution were made, which is a lie and seems to provide the same general form response to each and every complaint. I can assure the CPFB there were no such attempts and Wells Fargo is fully aware of resolution which has been detailed numerous times. I will reiterate again here, refund of {$610.00} will resolve matter since no settlement payment was received. I have contacted the XXXX XXXX XXXX Attorney as per instructions from a XXXX, a rep with class counsel for Wells Fargo Settlement. XXXX informed me Wells Fargo is involved in at least three class actions, XXXX Settlement, WF Settlement, also a settlement with all 50 states, the Attorney General of each state.. I have also contacted Attorney General here in Connecticut as well as California, advised them of my situation. I suspect XXXX will provide the same carbon copy reply in which case I can assure any third party Wells Fargo claims of attempts at resolution are 100 % false and bogus, he has not detailed one such attempt. Most recently as of, XX/XX/30, I spoke with XXXX XXXX in their Executive Office, she could not find any cases under my name despite numerous CFPB complaints filed as well as OCC, ( Office Of Comptroller Currency ). It appears Wells Fargo has not looked into this matter, evident in the fact they have not opened any cases in re. Another mediation request form was received recently, I've filed out a total of four of these forms, sent them in, was denied mediation. Complaints marked as unable to respond directly or due to litigation will be resubmitted\", Target: b'Checking or savings account'\n",
            "Complaint: b'The following items were all placed on my credit report at the same time. Phoenix Financial Services called and threatened to ruin by credit by placing the same item in collection multiple times. There should be only one ( 1 ) item, not four as submitted by Phoenix Financial Services. There is also an error in the Opened date. This one medical debt is several years old. I did not go to the doctor XX/XX/2019. I do not think Collection Agencies should be able to deliberately place multiple items on your credit in an effort to threaten me into paying. Can you please help me. My credit score dropped 24 points due to the four ( 4 ) Collection items added erroneously by Phoenix Financial Services. \\n\\nXXXX XXXX XXXX Phoenix Financial Servic Opened XX/XX/2019 {$1200.00} Original creditor : XXXX XXXX XXXX XXXX XXXX XXXX Phoenix Financial Servic Opened XX/XX/2019 {$1200.00} Original creditor : XXXXXXXX XXXX XXXX XXXX XXXX XXXX Phoenix Financial Servic Opened XX/XX/2019 {$1200.00} Original creditor : XXXX XXXX XXXX XXXX XXXX XXXX Phoenix Financial Servic Opened XX/XX/2019 {$1200.00} Original creditor : XXXX XXXX XXXX XXXX XXXX XXXX', Target: b'Debt collection'\n",
            "Complaint: b'Credit Management Lp. Did not contact about a debit that they received from XXXX XXXX XXXX. They did not follow Fair Debt Collection Practices Act and Consumer Credit Protection Act.', Target: b'Debt collection'\n",
            "Complaint: b'My husband and I visited XXXX for vacation from XX/XX/XXXX through XX/XX/XXXX. We have no family, friends, nor business connections in the country - we were simply there to visit a new place and experience a new culture. Except for one elegant XXXX XXXX XXXX   dinner ( {$200.00} USD ) and a cash advance to take out Euros ( {$250.00} USD ), all of our purchases were below {$70.00} USD. \\n\\nOn our final day in XXXX, XX/XX/XXXX, we were eating lunch at a restaurant and I planned to pay with my Chase Sapphire card. The waiter said there was a problem with the wireless internet and took my Chase Sapphire card inside the restaurant ( we were seated outside on the patio ). He was in possession of my Chase Sapphire care for approximately 10 minutes outside of my supervision. He returned and claimed the internet was down and said we could pay in USD or go get Euros from a specific ATM that he directed us to in the back of a neighboring store. I opted to go to the ATM and get Euros in order to pay for our lunch because we were worried we would get scammed on the exchange rate he would try and offer us if we paid in USD. \\n\\nAfter resolving the issue at the restaurant and returning home within the next couple of days, I noticed a fraudulent charge for {$5500.00} on my Chase Sapphire card and another attempted charge for about the same amount that was declined by Chase. The statement showed that the fraudulent charge was made at XXXX XXXX, and after some research online I found this to be a marble gravestone/tomb manufacturing business. The charge was made on XX/XX/XXXX, it posted to my account on XX/XX/XXXX, and I noticed the charge on XX/XX/XXXX and immediately called Chase to dispute the charge. My mind immediately jumped to the situation with the restaurant ( see above ) when the card was out of my possession for about 10 minutes and I was directed to use a specific ATM. I relayed these same facts during my dispute claim and answered all questions and provided all details they asked for, and then I waited to hear back from Chase with a resolution. In addition to disputing the fraudulent charge with Chase, I also tracked down an email for the vendor where the fraudulent charge was made, XXXX XXXX, and emailed them on multiple occasions ( XX/XX/XXXX and XX/XX/XXXX ) to explain the situation and request a refund for the fraudulent charge. I also submitted the same inquiry and request on the \" messages \\'\\' portion of their website on XX/XX/XXXX. I haven\\'t heard any response from the business as of XX/XX/XXXX. Due to their lack of response, I also left a negative, public review of the business on XXXX explaining their lack of response to my inquiries about the fraudulent charge in hopes of deterring any potential REAL customers of using their services in the future. \\n\\nOn XX/XX/XXXX, I finally received a letter from Chase saying that my fraud claim had been denied because they deemed that I had received a benefit from the fraudulent charge. I immediately started the appeal process by calling Chase. After waiting on hold for 3 hours, I was told to send an email with my credit card number and full name to XXXX in order to file an appeal. Despite my security concerns of sending my credit card number via email, I felt I had no other options and on XX/XX/XXXX, I sent an email to XXXX with my name and credit card number and requested to start the appeal process. I also requested the following information : a copy of the receipt of this fraudulent charge ( {$5500.00} on XX/XX/XXXX ) and/or all relevant information ( time, date, address, swipe/chip/punch in numbers, etc. ), a copy of the receipts of all other charges made on XX/XX/XXXX on this account and/or all relevant information ( time, date, address, swipe/chip/punch in numbers, etc. ), and a copy of the report that includes a. ) all information that I provided to Chase about this fraudulent charge and b. ) an explanation of exactly why it was denied and deemed that I received a benefit. \\n\\nAfter not hearing back from Chase, I sent another email to XXXX on XX/XX/XXXX to confirm that my appeal request had been received and to request a phone call or email to confirm that it had been received and let me know that the appeal was in process. \\n\\nI received a phone call from Chase \\'s fraud dispute review department on XX/XX/XXXX confirming that my appeal request had been received. The representative who I talked with told me that he believed my claim was indeed fraudulent and relayed that he didn\\'t believe the fraud department looked at the claim closely enough. He said that they never requested a receipt from the vendor ( XXXX XXXX ) to compare the signature with other receipts on file and he also shared that there were two successive charges in two  different counties in XXXX that they didn\\'t take into account when reviewing it because I couldn\\'t possibly be in two places at once. I also continued to request to see the receipt for the fraudulent charge, receipts for all other charges on XX/XX/XXXX, and the report that detailed the denial of the fraudulent claim. As of XX/XX/XXXX, Chase refuses to send me this information about my fraudulent charge claim, and I believe I have a right to see this as a Chase customer. \\n\\nOn XX/XX/XXXX, I received notice that my appeal of my fraudulent charge dispute had been denied, meaning that Chase is holding me responsible to pay the {$5500.00} fraudulent charge. It is at this point that I am filing a complaint with the CFPB.', Target: b'Credit card or prepaid card'\n",
            "Complaint: b'I deposited a client check in the amount of {$10000.00} and funds were transferred from XXXX XXXX  to Wells Fargo on XX/XX/XXXX. Wells Fargo has put a hold on the funds until XX/XX/XXXX. They have given me a range of excuses such as there were not sufficient funds in the payees account to a suspicious signature. I have asked Wells Fargo to contact the XXXX XXXX   employee that handles the account and XXXX XXXX continues to refuse to release the funds to my account. This appears to be yet another Wells Fargo scam. They are holding my funds and earning interest from XX/XX/XXXX to XX/XX/XXXX. I have full documentation.', Target: b'Checking or savings account'\n"
          ],
          "name": "stdout"
        }
      ]
    },
    {
      "cell_type": "code",
      "metadata": {
        "id": "1gVAVaNeoNEH",
        "colab_type": "code",
        "colab": {
          "base_uri": "https://localhost:8080/",
          "height": 121
        },
        "outputId": "6eea340d-d8ef-462c-a582-c8e6ef47d4ae"
      },
      "source": [
        "for text, target in dataset_test.take(5):\n",
        "  print ('Complaint: {}, Target: {}'.format(text, target))"
      ],
      "execution_count": null,
      "outputs": [
        {
          "output_type": "stream",
          "text": [
            "Complaint: b'I have a business checking account at BB & T. On XX/XX/2019, I attempted to deposit a check into my account and I received a message stating that I was over my monthly mobile deposit limit. I was confused because it was the first of the month and I had not deposited any checks since the previous month. I called BB & T and they said that I couldnt deposit checks into business accounts via the mobile app even though I had done that before. \\n\\nI was instructed to open a personal account, into which I could deposit checks via the mobile app. I was told that if I opened the account online I would have immediate access, that I could link my personal and business accounts, and immediately be able to transfer money between them. \\n\\nOn XX/XX/XXXX, I opened my personal account online. Though I successfully opened online, I did not have online access as I had been promised. Because I was traveling in an area where there were no BB & T branches, I could not go into a branch until XX/XX/2019. In the intervening time, my business account became overdrawn. I had the money in my personal account to bring it back into the black, but BB & T could not make the transfer until I went into a branch. During this time, I incurred an astonishing {$320.00} in overdraft fees in my business account because I had no way of transferring money between the two accounts. \\n\\nWhen I went into the branch, I met with XXXX XXXX in XXXX XXXX County, Florida. She investigated the accounts and told me she would link them and that I would have online access in XXXX hours. The online access still never material, I was not able to transfer money and I received an additional {$36.00} overdraft fee. This brought the total to {$360.00} in overdraft fees. \\n\\nI had only opened the second account on BB & Ts advice ; I could have had my customer send a bank wire directly into business account in the first week of XXXX to keep the account positive. My TOTAL deposits between the two accounts was always positive. \\n\\nI requested a refund and was told they would not refund any of the fees.', Target: b'Checking or savings account'\n",
            "Complaint: b'To who it may concern, My concern is regarding Shellpoint Mortgage Servicing Company. This company has received my monthly mortgage payments and have failed to account it as payments received. My bank has sent me proof the account was cleared and paid. This company is trying to foreclosed on my house and has sent me a letter indicating they sent my file to their Loss Mitigation dept. The person who they assigned it to is XXXX XXXX XXXX x XXXX. Their corporate number is XXXX. \\n\\nI have can send proof of my claim from above should you need it. Please assist.', Target: b'Mortgage'\n",
            "Complaint: b'I contacted XXXX about fraudulent charges that were made on my account and the customer service representative told me that they wouldnt be able to issue anew card or remove my fraudulent charges since the account was closed due to non-payment. I was unaware of this these charging that were made.. To my knowledge I didnt owe a payment because the account wasnt being used.', Target: b'Credit card or prepaid card'\n",
            "Complaint: b'I first applied for the Fedloan Serving program in XXXX in hopes of getting loan forgiveness since I\\'ve been paying on my student loans since late XXXX or early XXXX and I have been a public servant since XXXX, XXXX. I have never missed a payment to any of the various loan companies that owned my loans. The Fedloan Program turned me down in XXXX, saying my loans, which were originally Federal Stafford Loans, did not qualify me for the Program. In XXXX, XXXX, I was solicited by XXXX XXXX   and told I could get into this program to reduce my loan payments. I was charged {$690.00} by XXXX XXXX to get me into the Fedloan Serving program. My loan payments went down to $ XXXX/month for the first year. In XXXX, XXXX, Fedloan Servicing informed me via email that I needed to recertify my \" income-driven repayment plan. Their customer service helped me submit the form XXXX XXXX ) via the internet and it involved the IRS. For reasons I don\\'t understand, Fedloan is now increasing my monthly payments to {$380.00}, effective XX/XX/XXXX. This is a 60 % increase. On XX/XX/XXXX, I called Fedloan regarding this issue. The customer service person suggested I ask for a recalculation and provide pay-stubs rather than IRS information. On the same call, I was transferred to a second agent who listened to my concern and suggested I get out of the Fedloan Program since I really didn\\'t qualify for it anyway and I could save money by going to a regular payment plan with a different servicer such as XXXX which had serviced my loan previously. I feel like I\\'ve been miss-lead by the Fedloan Serving Program and by Mr. XXXX XXXX, the case manager at XXXX XXXX ( http : //www.nexum-servicing.com ). After receiving my {$690.00}, I was never able to talk to XXXX on the phone again. He had convinced me I could save money with Fedloan and he told me my payments would go down to {$0.00} when I retire from State Service in XXXX. He told me I would receive loan forgiveness once my payments went to {$0.00}. I have concluded his advise was incorrect and or miss-leading. I regret having my loan transferred to the Fedloan Program because its representatives have indicated I will not receive loan forgiveness for my 20 years of public service. I am very concerned about the cost of my student loan debt, especially since I intend to retire from State service in XXXX. I am also concerned about how I will be able to afford these student loan payments once I am receiving a pension. I am also very disappointed that I haven\\'t been able to \" qualify \\'\\' for loan forgiveness based on my long years of public service. I think this whole Fedloan Program is complete scam and I have been duped.', Target: b'Student loan'\n",
            "Complaint: b'On several occasions ( XXXX ) I have tried to reach someone in costumer service today XX/XX/2020 I tried again to get through and was on hold for over 20 minutes and hung up. \\n\\n3 Years ago I have made no more than {$600.00} in purchases, and while making payments on my account with a {$9000.00} limit the interest charges are deducted from the credit limit and the interest was based on the balance each month. this left my interest and charge fess higher than my monthly payment which amounted to around {$240.00} each month. \\n\\nIn all of this time the interest was so big that it completely eat up the limit balance on the card, which left in me in a vicious cycle of never paying down the money owed. with in 2 years I was able to get the balance down {$2000.00} and I asked Walmart Capital One to reduce the balance down. Now it is back up to the high bank fees and interest charges that have again gone beyond what I can afford monthly the {$240.00}. This is a unfair and infantile game that is forced on me as an consumer.', Target: b'Credit card or prepaid card'\n"
          ],
          "name": "stdout"
        }
      ]
    },
    {
      "cell_type": "code",
      "metadata": {
        "id": "posXzJ1PvHZl",
        "colab_type": "code",
        "colab": {}
      },
      "source": [
        "table = tf.lookup.StaticHashTable(\n",
        "    initializer=tf.lookup.KeyValueTensorInitializer(\n",
        "        keys=tf.constant(['Debt collection', 'Credit card or prepaid card', 'Mortgage', 'Checking or savings account', 'Student loan', 'Vehicle loan or lease']),\n",
        "        values=tf.constant([0, 1, 2, 3, 4, 5]),\n",
        "    ),\n",
        "    default_value=tf.constant(-1),\n",
        "    name=\"target_encoding\"\n",
        ")\n",
        "\n",
        "@tf.function\n",
        "def target(x):\n",
        "  return table.lookup(x)"
      ],
      "execution_count": null,
      "outputs": []
    },
    {
      "cell_type": "code",
      "metadata": {
        "id": "dDr8nLr8vIe-",
        "colab_type": "code",
        "colab": {}
      },
      "source": [
        "def show_batch(dataset, size=5):\n",
        "  for batch, label in dataset.take(size):\n",
        "      print(batch.numpy())\n",
        "      print(target(label).numpy())"
      ],
      "execution_count": null,
      "outputs": []
    },
    {
      "cell_type": "code",
      "metadata": {
        "id": "YbJgzzAmIqTp",
        "colab_type": "code",
        "colab": {
          "base_uri": "https://localhost:8080/",
          "height": 238
        },
        "outputId": "8b68fee6-cc49-4438-fa26-f1400eb2e6a1"
      },
      "source": [
        "show_batch(dataset_test,6)"
      ],
      "execution_count": null,
      "outputs": [
        {
          "output_type": "stream",
          "text": [
            "b'I have a business checking account at BB & T. On XX/XX/2019, I attempted to deposit a check into my account and I received a message stating that I was over my monthly mobile deposit limit. I was confused because it was the first of the month and I had not deposited any checks since the previous month. I called BB & T and they said that I couldnt deposit checks into business accounts via the mobile app even though I had done that before. \\n\\nI was instructed to open a personal account, into which I could deposit checks via the mobile app. I was told that if I opened the account online I would have immediate access, that I could link my personal and business accounts, and immediately be able to transfer money between them. \\n\\nOn XX/XX/XXXX, I opened my personal account online. Though I successfully opened online, I did not have online access as I had been promised. Because I was traveling in an area where there were no BB & T branches, I could not go into a branch until XX/XX/2019. In the intervening time, my business account became overdrawn. I had the money in my personal account to bring it back into the black, but BB & T could not make the transfer until I went into a branch. During this time, I incurred an astonishing {$320.00} in overdraft fees in my business account because I had no way of transferring money between the two accounts. \\n\\nWhen I went into the branch, I met with XXXX XXXX in XXXX XXXX County, Florida. She investigated the accounts and told me she would link them and that I would have online access in XXXX hours. The online access still never material, I was not able to transfer money and I received an additional {$36.00} overdraft fee. This brought the total to {$360.00} in overdraft fees. \\n\\nI had only opened the second account on BB & Ts advice ; I could have had my customer send a bank wire directly into business account in the first week of XXXX to keep the account positive. My TOTAL deposits between the two accounts was always positive. \\n\\nI requested a refund and was told they would not refund any of the fees.'\n",
            "3\n",
            "b'To who it may concern, My concern is regarding Shellpoint Mortgage Servicing Company. This company has received my monthly mortgage payments and have failed to account it as payments received. My bank has sent me proof the account was cleared and paid. This company is trying to foreclosed on my house and has sent me a letter indicating they sent my file to their Loss Mitigation dept. The person who they assigned it to is XXXX XXXX XXXX x XXXX. Their corporate number is XXXX. \\n\\nI have can send proof of my claim from above should you need it. Please assist.'\n",
            "2\n",
            "b'I contacted XXXX about fraudulent charges that were made on my account and the customer service representative told me that they wouldnt be able to issue anew card or remove my fraudulent charges since the account was closed due to non-payment. I was unaware of this these charging that were made.. To my knowledge I didnt owe a payment because the account wasnt being used.'\n",
            "1\n",
            "b'I first applied for the Fedloan Serving program in XXXX in hopes of getting loan forgiveness since I\\'ve been paying on my student loans since late XXXX or early XXXX and I have been a public servant since XXXX, XXXX. I have never missed a payment to any of the various loan companies that owned my loans. The Fedloan Program turned me down in XXXX, saying my loans, which were originally Federal Stafford Loans, did not qualify me for the Program. In XXXX, XXXX, I was solicited by XXXX XXXX   and told I could get into this program to reduce my loan payments. I was charged {$690.00} by XXXX XXXX to get me into the Fedloan Serving program. My loan payments went down to $ XXXX/month for the first year. In XXXX, XXXX, Fedloan Servicing informed me via email that I needed to recertify my \" income-driven repayment plan. Their customer service helped me submit the form XXXX XXXX ) via the internet and it involved the IRS. For reasons I don\\'t understand, Fedloan is now increasing my monthly payments to {$380.00}, effective XX/XX/XXXX. This is a 60 % increase. On XX/XX/XXXX, I called Fedloan regarding this issue. The customer service person suggested I ask for a recalculation and provide pay-stubs rather than IRS information. On the same call, I was transferred to a second agent who listened to my concern and suggested I get out of the Fedloan Program since I really didn\\'t qualify for it anyway and I could save money by going to a regular payment plan with a different servicer such as XXXX which had serviced my loan previously. I feel like I\\'ve been miss-lead by the Fedloan Serving Program and by Mr. XXXX XXXX, the case manager at XXXX XXXX ( http : //www.nexum-servicing.com ). After receiving my {$690.00}, I was never able to talk to XXXX on the phone again. He had convinced me I could save money with Fedloan and he told me my payments would go down to {$0.00} when I retire from State Service in XXXX. He told me I would receive loan forgiveness once my payments went to {$0.00}. I have concluded his advise was incorrect and or miss-leading. I regret having my loan transferred to the Fedloan Program because its representatives have indicated I will not receive loan forgiveness for my 20 years of public service. I am very concerned about the cost of my student loan debt, especially since I intend to retire from State service in XXXX. I am also concerned about how I will be able to afford these student loan payments once I am receiving a pension. I am also very disappointed that I haven\\'t been able to \" qualify \\'\\' for loan forgiveness based on my long years of public service. I think this whole Fedloan Program is complete scam and I have been duped.'\n",
            "4\n",
            "b'On several occasions ( XXXX ) I have tried to reach someone in costumer service today XX/XX/2020 I tried again to get through and was on hold for over 20 minutes and hung up. \\n\\n3 Years ago I have made no more than {$600.00} in purchases, and while making payments on my account with a {$9000.00} limit the interest charges are deducted from the credit limit and the interest was based on the balance each month. this left my interest and charge fess higher than my monthly payment which amounted to around {$240.00} each month. \\n\\nIn all of this time the interest was so big that it completely eat up the limit balance on the card, which left in me in a vicious cycle of never paying down the money owed. with in 2 years I was able to get the balance down {$2000.00} and I asked Walmart Capital One to reduce the balance down. Now it is back up to the high bank fees and interest charges that have again gone beyond what I can afford monthly the {$240.00}. This is a unfair and infantile game that is forced on me as an consumer.'\n",
            "1\n",
            "b'Hi, If i am writing today, is to bring to your attention something that happened between myself and XXXX dealership of XXXX XXXX FL. \\n\\nOn XX/XX/2019, date of my end of lease experience, i headed out to the XXXX dealership of XXXX XXXX to return my vehicle and try to negotiate to buy or lease another vehicle. \\nAs soon as i walked in with my wife, we have been introduced to the salesman and the sales manager of this dealership. We then started to negotiate the return of our leased vehicle and asked the team there to please help us getting an interesting deal on another vehicle and explaining our difficult credit situation of my wife and myself. \\nThe leased car we were returning had a that time about {$2800.00} dollar amount of excess millage on the lease terms, and we were assured by the sales manager that by purchasing a new XXXX that day at the dealership that we will be able to negotiate that bill with the financial department of the company later on. Also, when you return a lease, you must pay a excess wear and use of the car but can be waived that fee again by purchasing a new vehicle. \\nAfter a couple of hours of negotiation and a lot of persuasion from the sales team who promised us a lot of benefits, we ended up returning the lease and purchasing a brand new XXXX vehicle. \\nDue to our bad credit history, we got a the new car financed with an APR of 8.39 %. \\n\\nA couple days following our purchase, me and my wife got very surprised about 2 things. \\n\\nFirst of all, as we both checked our credit on XXXX XXXX, we realized that the dealership submitted a lot of credit check to our accounts, not even telling us that will happen. This really affected both our credit history and score. Knowing our credit situation at the dealership, i really do believe that we got kind of scammed that time. \\n\\nSecond, after receiving the end of lease bill by mail, i have contacted the financial department like i was instructed by the sales manager at the dealership in order to discuss it, knowing that he promised me since i have bought a new XXXX vehicle. \\nover the phone with the financial consultant, i was very surprised to hear that nothing was possible, no negotiation on the total amount and no waiver for the excess wear as well, since that apparently we did not get the new car financed with the in-house XXXX financing agency. thing that nor the salesman, or the sales manager told us upon signing the new car purchasing contract. \\n\\ni really need your help in that matter, i really believe we got scammed by the XXXX team, pursuing us to buy a brand new XXXX vehicle in order to get all the benefits that we will never get at the end.'\n",
            "5\n"
          ],
          "name": "stdout"
        }
      ]
    },
    {
      "cell_type": "code",
      "metadata": {
        "id": "d6D4lGAezmjL",
        "colab_type": "code",
        "colab": {}
      },
      "source": [
        "def fetch(text, labels):\n",
        "  return text, tf.one_hot(target(labels),6)"
      ],
      "execution_count": null,
      "outputs": []
    },
    {
      "cell_type": "code",
      "metadata": {
        "id": "DQX8hZl60WaK",
        "colab_type": "code",
        "colab": {}
      },
      "source": [
        "train_data_f=dataset_train.map(fetch)\n",
        "test_data_f=dataset_test.map(fetch)"
      ],
      "execution_count": null,
      "outputs": []
    },
    {
      "cell_type": "code",
      "metadata": {
        "id": "xOzA_Tz4vIcV",
        "colab_type": "code",
        "colab": {
          "base_uri": "https://localhost:8080/",
          "height": 70
        },
        "outputId": "b45ba68a-dab0-4f77-fec8-40f29705798f"
      },
      "source": [
        "next(iter(train_data_f))"
      ],
      "execution_count": null,
      "outputs": [
        {
          "output_type": "execute_result",
          "data": {
            "text/plain": [
              "(<tf.Tensor: shape=(), dtype=string, numpy=b\"The below complaint was submitted to the CFPB numerous times prior, the Wells Fargo rep, XXXX XXXX, replies with the same general form response stating numerous attempts at resolution have been made and exhausted which is a lie. He also attempts to state he can not comment due to past litigation which is also a lie, he reverts to this reply so as to avoid detailing any supposed attempt at resolution which he can not as there is none. Further, he should be aware of resolution which is to refund fees totaling {$610.00} and has not done so, no refund received to date. Please see complaint below. The below complaint was submitted prior, a duplicate form response received from XXXX XXXX with Wells Fargo, one of several. Based on this, my complaint was not addressed. Further, a reply in XXXX was never received as was mentioned. XXXX replied by stating numerous attempts at resolution have been made but has not detailed one, there was no contact from anyone at Wells Fargo aside from XXXX XXXX whom offered a bogus settlement offer. Wells Fargo failed to honor this settlement offer made to me in XXXX by XXXX XXXX, a rep with Wells Fargo. The offer amount, {$3700.00}, was never received and it is now XXXX. Prior to this, I requested a refund in the amount of {$610.00} which includes mainly overdraft fees charged to accounts not authorized. A total of four mediation request forms were sent in, XXXX XXXX contacted me, offered settlement amount in XXXX, no payment received to date.. Since no payment was received in re, additional CFPB complaints were filed. XXXX replied most recently stating numerous attempts at resolution were made, which is a lie and seems to provide the same general form response to each and every complaint. I can assure the CPFB there were no such attempts and Wells Fargo is fully aware of resolution which has been detailed numerous times. I will reiterate again here, refund of {$610.00} will resolve matter since no settlement payment was received. I have contacted the XXXX XXXX XXXX Attorney as per instructions from a XXXX, a rep with class counsel for Wells Fargo Settlement. XXXX informed me Wells Fargo is involved in at least three class actions, XXXX Settlement, WF Settlement, also a settlement with all 50 states, the Attorney General of each state.. I have also contacted Attorney General here in Connecticut as well as California, advised them of my situation. I suspect XXXX will provide the same carbon copy reply in which case I can assure any third party Wells Fargo claims of attempts at resolution are 100 % false and bogus, he has not detailed one such attempt. Most recently as of, XX/XX/30, I spoke with XXXX XXXX in their Executive Office, she could not find any cases under my name despite numerous CFPB complaints filed as well as OCC, ( Office Of Comptroller Currency ). It appears Wells Fargo has not looked into this matter, evident in the fact they have not opened any cases in re. Another mediation request form was received recently, I've filed out a total of four of these forms, sent them in, was denied mediation. Complaints marked as unable to respond directly or due to litigation will be resubmitted\">,\n",
              " <tf.Tensor: shape=(6,), dtype=float32, numpy=array([0., 0., 0., 1., 0., 0.], dtype=float32)>)"
            ]
          },
          "metadata": {
            "tags": []
          },
          "execution_count": 31
        }
      ]
    },
    {
      "cell_type": "code",
      "metadata": {
        "id": "Zad9I-x19Vvo",
        "colab_type": "code",
        "colab": {
          "base_uri": "https://localhost:8080/",
          "height": 238
        },
        "outputId": "4c51d1af-fa39-4123-cf53-9ea4ffcc596b"
      },
      "source": [
        "train_data, train_labels = next(iter(train_data_f.batch(5)))\n",
        "train_data, train_labels"
      ],
      "execution_count": null,
      "outputs": [
        {
          "output_type": "execute_result",
          "data": {
            "text/plain": [
              "(<tf.Tensor: shape=(5,), dtype=string, numpy=\n",
              " array([b\"The below complaint was submitted to the CFPB numerous times prior, the Wells Fargo rep, XXXX XXXX, replies with the same general form response stating numerous attempts at resolution have been made and exhausted which is a lie. He also attempts to state he can not comment due to past litigation which is also a lie, he reverts to this reply so as to avoid detailing any supposed attempt at resolution which he can not as there is none. Further, he should be aware of resolution which is to refund fees totaling {$610.00} and has not done so, no refund received to date. Please see complaint below. The below complaint was submitted prior, a duplicate form response received from XXXX XXXX with Wells Fargo, one of several. Based on this, my complaint was not addressed. Further, a reply in XXXX was never received as was mentioned. XXXX replied by stating numerous attempts at resolution have been made but has not detailed one, there was no contact from anyone at Wells Fargo aside from XXXX XXXX whom offered a bogus settlement offer. Wells Fargo failed to honor this settlement offer made to me in XXXX by XXXX XXXX, a rep with Wells Fargo. The offer amount, {$3700.00}, was never received and it is now XXXX. Prior to this, I requested a refund in the amount of {$610.00} which includes mainly overdraft fees charged to accounts not authorized. A total of four mediation request forms were sent in, XXXX XXXX contacted me, offered settlement amount in XXXX, no payment received to date.. Since no payment was received in re, additional CFPB complaints were filed. XXXX replied most recently stating numerous attempts at resolution were made, which is a lie and seems to provide the same general form response to each and every complaint. I can assure the CPFB there were no such attempts and Wells Fargo is fully aware of resolution which has been detailed numerous times. I will reiterate again here, refund of {$610.00} will resolve matter since no settlement payment was received. I have contacted the XXXX XXXX XXXX Attorney as per instructions from a XXXX, a rep with class counsel for Wells Fargo Settlement. XXXX informed me Wells Fargo is involved in at least three class actions, XXXX Settlement, WF Settlement, also a settlement with all 50 states, the Attorney General of each state.. I have also contacted Attorney General here in Connecticut as well as California, advised them of my situation. I suspect XXXX will provide the same carbon copy reply in which case I can assure any third party Wells Fargo claims of attempts at resolution are 100 % false and bogus, he has not detailed one such attempt. Most recently as of, XX/XX/30, I spoke with XXXX XXXX in their Executive Office, she could not find any cases under my name despite numerous CFPB complaints filed as well as OCC, ( Office Of Comptroller Currency ). It appears Wells Fargo has not looked into this matter, evident in the fact they have not opened any cases in re. Another mediation request form was received recently, I've filed out a total of four of these forms, sent them in, was denied mediation. Complaints marked as unable to respond directly or due to litigation will be resubmitted\",\n",
              "        b'The following items were all placed on my credit report at the same time. Phoenix Financial Services called and threatened to ruin by credit by placing the same item in collection multiple times. There should be only one ( 1 ) item, not four as submitted by Phoenix Financial Services. There is also an error in the Opened date. This one medical debt is several years old. I did not go to the doctor XX/XX/2019. I do not think Collection Agencies should be able to deliberately place multiple items on your credit in an effort to threaten me into paying. Can you please help me. My credit score dropped 24 points due to the four ( 4 ) Collection items added erroneously by Phoenix Financial Services. \\n\\nXXXX XXXX XXXX Phoenix Financial Servic Opened XX/XX/2019 {$1200.00} Original creditor : XXXX XXXX XXXX XXXX XXXX XXXX Phoenix Financial Servic Opened XX/XX/2019 {$1200.00} Original creditor : XXXXXXXX XXXX XXXX XXXX XXXX XXXX Phoenix Financial Servic Opened XX/XX/2019 {$1200.00} Original creditor : XXXX XXXX XXXX XXXX XXXX XXXX Phoenix Financial Servic Opened XX/XX/2019 {$1200.00} Original creditor : XXXX XXXX XXXX XXXX XXXX XXXX',\n",
              "        b'Credit Management Lp. Did not contact about a debit that they received from XXXX XXXX XXXX. They did not follow Fair Debt Collection Practices Act and Consumer Credit Protection Act.',\n",
              "        b'My husband and I visited XXXX for vacation from XX/XX/XXXX through XX/XX/XXXX. We have no family, friends, nor business connections in the country - we were simply there to visit a new place and experience a new culture. Except for one elegant XXXX XXXX XXXX   dinner ( {$200.00} USD ) and a cash advance to take out Euros ( {$250.00} USD ), all of our purchases were below {$70.00} USD. \\n\\nOn our final day in XXXX, XX/XX/XXXX, we were eating lunch at a restaurant and I planned to pay with my Chase Sapphire card. The waiter said there was a problem with the wireless internet and took my Chase Sapphire card inside the restaurant ( we were seated outside on the patio ). He was in possession of my Chase Sapphire care for approximately 10 minutes outside of my supervision. He returned and claimed the internet was down and said we could pay in USD or go get Euros from a specific ATM that he directed us to in the back of a neighboring store. I opted to go to the ATM and get Euros in order to pay for our lunch because we were worried we would get scammed on the exchange rate he would try and offer us if we paid in USD. \\n\\nAfter resolving the issue at the restaurant and returning home within the next couple of days, I noticed a fraudulent charge for {$5500.00} on my Chase Sapphire card and another attempted charge for about the same amount that was declined by Chase. The statement showed that the fraudulent charge was made at XXXX XXXX, and after some research online I found this to be a marble gravestone/tomb manufacturing business. The charge was made on XX/XX/XXXX, it posted to my account on XX/XX/XXXX, and I noticed the charge on XX/XX/XXXX and immediately called Chase to dispute the charge. My mind immediately jumped to the situation with the restaurant ( see above ) when the card was out of my possession for about 10 minutes and I was directed to use a specific ATM. I relayed these same facts during my dispute claim and answered all questions and provided all details they asked for, and then I waited to hear back from Chase with a resolution. In addition to disputing the fraudulent charge with Chase, I also tracked down an email for the vendor where the fraudulent charge was made, XXXX XXXX, and emailed them on multiple occasions ( XX/XX/XXXX and XX/XX/XXXX ) to explain the situation and request a refund for the fraudulent charge. I also submitted the same inquiry and request on the \" messages \\'\\' portion of their website on XX/XX/XXXX. I haven\\'t heard any response from the business as of XX/XX/XXXX. Due to their lack of response, I also left a negative, public review of the business on XXXX explaining their lack of response to my inquiries about the fraudulent charge in hopes of deterring any potential REAL customers of using their services in the future. \\n\\nOn XX/XX/XXXX, I finally received a letter from Chase saying that my fraud claim had been denied because they deemed that I had received a benefit from the fraudulent charge. I immediately started the appeal process by calling Chase. After waiting on hold for 3 hours, I was told to send an email with my credit card number and full name to XXXX in order to file an appeal. Despite my security concerns of sending my credit card number via email, I felt I had no other options and on XX/XX/XXXX, I sent an email to XXXX with my name and credit card number and requested to start the appeal process. I also requested the following information : a copy of the receipt of this fraudulent charge ( {$5500.00} on XX/XX/XXXX ) and/or all relevant information ( time, date, address, swipe/chip/punch in numbers, etc. ), a copy of the receipts of all other charges made on XX/XX/XXXX on this account and/or all relevant information ( time, date, address, swipe/chip/punch in numbers, etc. ), and a copy of the report that includes a. ) all information that I provided to Chase about this fraudulent charge and b. ) an explanation of exactly why it was denied and deemed that I received a benefit. \\n\\nAfter not hearing back from Chase, I sent another email to XXXX on XX/XX/XXXX to confirm that my appeal request had been received and to request a phone call or email to confirm that it had been received and let me know that the appeal was in process. \\n\\nI received a phone call from Chase \\'s fraud dispute review department on XX/XX/XXXX confirming that my appeal request had been received. The representative who I talked with told me that he believed my claim was indeed fraudulent and relayed that he didn\\'t believe the fraud department looked at the claim closely enough. He said that they never requested a receipt from the vendor ( XXXX XXXX ) to compare the signature with other receipts on file and he also shared that there were two successive charges in two  different counties in XXXX that they didn\\'t take into account when reviewing it because I couldn\\'t possibly be in two places at once. I also continued to request to see the receipt for the fraudulent charge, receipts for all other charges on XX/XX/XXXX, and the report that detailed the denial of the fraudulent claim. As of XX/XX/XXXX, Chase refuses to send me this information about my fraudulent charge claim, and I believe I have a right to see this as a Chase customer. \\n\\nOn XX/XX/XXXX, I received notice that my appeal of my fraudulent charge dispute had been denied, meaning that Chase is holding me responsible to pay the {$5500.00} fraudulent charge. It is at this point that I am filing a complaint with the CFPB.',\n",
              "        b'I deposited a client check in the amount of {$10000.00} and funds were transferred from XXXX XXXX  to Wells Fargo on XX/XX/XXXX. Wells Fargo has put a hold on the funds until XX/XX/XXXX. They have given me a range of excuses such as there were not sufficient funds in the payees account to a suspicious signature. I have asked Wells Fargo to contact the XXXX XXXX   employee that handles the account and XXXX XXXX continues to refuse to release the funds to my account. This appears to be yet another Wells Fargo scam. They are holding my funds and earning interest from XX/XX/XXXX to XX/XX/XXXX. I have full documentation.'],\n",
              "       dtype=object)>, <tf.Tensor: shape=(5, 6), dtype=float32, numpy=\n",
              " array([[0., 0., 0., 1., 0., 0.],\n",
              "        [1., 0., 0., 0., 0., 0.],\n",
              "        [1., 0., 0., 0., 0., 0.],\n",
              "        [0., 1., 0., 0., 0., 0.],\n",
              "        [0., 0., 0., 1., 0., 0.]], dtype=float32)>)"
            ]
          },
          "metadata": {
            "tags": []
          },
          "execution_count": 32
        }
      ]
    },
    {
      "cell_type": "code",
      "metadata": {
        "id": "ifU5cdUp9VnZ",
        "colab_type": "code",
        "colab": {
          "base_uri": "https://localhost:8080/",
          "height": 756
        },
        "outputId": "174d9452-371d-4dd9-b3be-c5a9e7902616"
      },
      "source": [
        "embedding = \"https://tfhub.dev/google/tf2-preview/nnlm-en-dim128/1\"\n",
        "hub_layer = hub.KerasLayer(embedding, output_shape=[128], input_shape=[], \n",
        "                           dtype=tf.string, trainable=True)\n",
        "hub_layer(train_data[:1])"
      ],
      "execution_count": null,
      "outputs": [
        {
          "output_type": "execute_result",
          "data": {
            "text/plain": [
              "<tf.Tensor: shape=(1, 128), dtype=float32, numpy=\n",
              "array([[ 1.92570090e+00,  1.04540564e-01,  1.63910031e-01,\n",
              "        -1.11070231e-01, -5.49944043e-02,  7.91307315e-02,\n",
              "         4.86127660e-02,  2.75555283e-01, -8.30120146e-02,\n",
              "         1.80027023e-01,  1.44885316e-01, -1.59288287e-01,\n",
              "        -1.94997236e-01, -4.00722414e-01, -1.37285963e-01,\n",
              "         3.61927778e-01, -3.39035988e-01, -3.47756073e-02,\n",
              "        -6.16503179e-01,  1.44515026e+00,  3.19949985e-01,\n",
              "         3.94565135e-01, -3.26071948e-01,  2.14843497e-01,\n",
              "        -3.63146365e-02, -4.13899511e-01,  1.67138502e-01,\n",
              "        -5.15444636e-01, -1.83536708e-01,  3.90481912e-02,\n",
              "         9.09547061e-02, -2.18187377e-01,  1.16193175e-01,\n",
              "        -2.13140637e-01,  2.62742490e-01,  3.77820075e-01,\n",
              "        -2.58993626e-01, -5.08686364e-01, -2.61283755e-01,\n",
              "        -5.75724877e-02,  5.14812469e-02, -1.78749681e-01,\n",
              "        -8.78547728e-02, -5.78522384e-01,  3.56190205e-01,\n",
              "         3.41897160e-01, -3.03279817e-01, -3.03550176e-02,\n",
              "        -4.70123470e-01, -6.96404815e-01,  1.62134487e-02,\n",
              "        -3.87831405e-02,  6.85421228e-02,  1.98899955e-01,\n",
              "        -7.82101810e-01, -1.35865554e-01, -1.31267518e-01,\n",
              "         1.27851665e-01,  1.52239844e-01, -6.36673495e-02,\n",
              "        -5.62574565e-01,  1.91325899e-02,  3.62875342e-01,\n",
              "        -6.03927970e-02, -2.69309342e-01,  1.28497675e-01,\n",
              "        -1.49441198e-01, -3.01388532e-01, -1.52954683e-01,\n",
              "        -3.83431196e-01,  2.21330807e-01, -1.67852506e-01,\n",
              "         3.89674446e-04,  3.65042575e-02,  4.15654242e-01,\n",
              "         1.34781197e-01, -2.18334168e-01, -7.22495019e-01,\n",
              "        -1.58712074e-01, -1.74010061e-02,  3.06339294e-01,\n",
              "        -5.35981134e-02,  4.18226235e-02,  2.28714302e-01,\n",
              "         7.09751621e-02, -1.26337364e-01, -2.77076334e-01,\n",
              "         1.18260644e-01,  1.11755562e+00,  7.18856454e-01,\n",
              "        -3.11814666e-01,  2.28470713e-01, -1.82997324e-02,\n",
              "        -8.61904323e-01,  3.73503327e-01,  1.84735581e-01,\n",
              "         2.92017497e-02, -3.68890353e-02, -6.15575194e-01,\n",
              "         4.54581738e-01, -1.55454516e-01,  1.36230350e-01,\n",
              "        -1.23098336e-01,  1.63286954e-01, -1.19803384e-01,\n",
              "         1.46758646e-01,  1.66010574e-01, -5.56072772e-01,\n",
              "        -2.62751460e-01,  1.49585783e-01, -1.43142784e+00,\n",
              "        -2.67757148e-01, -2.60787487e-01, -5.25002778e-01,\n",
              "         2.55412459e-01, -5.43521106e-01,  1.06378779e-01,\n",
              "         5.77819467e-01, -2.61732899e-02,  5.84780760e-02,\n",
              "         4.17428136e-01, -3.53781693e-02,  3.45459767e-02,\n",
              "         1.40228033e-01, -5.39429858e-02,  5.79532623e-01,\n",
              "        -1.59285054e-01,  4.09487247e-01]], dtype=float32)>"
            ]
          },
          "metadata": {
            "tags": []
          },
          "execution_count": 33
        }
      ]
    },
    {
      "cell_type": "code",
      "metadata": {
        "id": "1AI7BhDe9Vif",
        "colab_type": "code",
        "colab": {
          "base_uri": "https://localhost:8080/",
          "height": 487
        },
        "outputId": "000bb6f8-f3ff-44bb-a0bf-41dd2a71d47f"
      },
      "source": [
        "model = tf.keras.Sequential()\n",
        "model.add(hub_layer)\n",
        "for units in [128, 128, 64 , 32]:\n",
        "  model.add(tf.keras.layers.Dense(units, activation='relu'))\n",
        "  model.add(tf.keras.layers.Dropout(0.3))\n",
        "model.add(tf.keras.layers.Dense(6, activation='softmax'))\n",
        "\n",
        "model.summary()"
      ],
      "execution_count": null,
      "outputs": [
        {
          "output_type": "stream",
          "text": [
            "Model: \"sequential\"\n",
            "_________________________________________________________________\n",
            "Layer (type)                 Output Shape              Param #   \n",
            "=================================================================\n",
            "keras_layer (KerasLayer)     (None, 128)               124642688 \n",
            "_________________________________________________________________\n",
            "dense (Dense)                (None, 128)               16512     \n",
            "_________________________________________________________________\n",
            "dropout (Dropout)            (None, 128)               0         \n",
            "_________________________________________________________________\n",
            "dense_1 (Dense)              (None, 128)               16512     \n",
            "_________________________________________________________________\n",
            "dropout_1 (Dropout)          (None, 128)               0         \n",
            "_________________________________________________________________\n",
            "dense_2 (Dense)              (None, 64)                8256      \n",
            "_________________________________________________________________\n",
            "dropout_2 (Dropout)          (None, 64)                0         \n",
            "_________________________________________________________________\n",
            "dense_3 (Dense)              (None, 32)                2080      \n",
            "_________________________________________________________________\n",
            "dropout_3 (Dropout)          (None, 32)                0         \n",
            "_________________________________________________________________\n",
            "dense_4 (Dense)              (None, 6)                 198       \n",
            "=================================================================\n",
            "Total params: 124,686,246\n",
            "Trainable params: 124,686,246\n",
            "Non-trainable params: 0\n",
            "_________________________________________________________________\n"
          ],
          "name": "stdout"
        }
      ]
    },
    {
      "cell_type": "code",
      "metadata": {
        "id": "Z_HPHq3W9VeT",
        "colab_type": "code",
        "colab": {}
      },
      "source": [
        "model.compile(optimizer='adam',\n",
        "              loss=tf.keras.losses.CategoricalCrossentropy(from_logits=True),\n",
        "              metrics=['accuracy'])"
      ],
      "execution_count": null,
      "outputs": []
    },
    {
      "cell_type": "code",
      "metadata": {
        "id": "jSCeGUYF9TlL",
        "colab_type": "code",
        "colab": {}
      },
      "source": [
        "train_data_f=train_data_f.shuffle(70000).batch(512)\n",
        "test_data_f=test_data_f.batch(512)"
      ],
      "execution_count": null,
      "outputs": []
    },
    {
      "cell_type": "code",
      "metadata": {
        "id": "E_h5I4StQj5E",
        "colab_type": "code",
        "colab": {
          "base_uri": "https://localhost:8080/",
          "height": 180
        },
        "outputId": "98f61cb1-2e0c-4a15-9dbc-9a0c1b375d75"
      },
      "source": [
        "history = model.fit(train_data_f,\n",
        "                    epochs=4,\n",
        "                    validation_data=test_data_f,\n",
        "                    verbose=1,\n",
        "                    class_weight=weights)"
      ],
      "execution_count": null,
      "outputs": [
        {
          "output_type": "stream",
          "text": [
            "Epoch 1/4\n",
            "90/90 [==============================] - 9s 100ms/step - loss: 1.6476 - accuracy: 0.4482 - val_loss: 1.2779 - val_accuracy: 0.7771\n",
            "Epoch 2/4\n",
            "90/90 [==============================] - 9s 100ms/step - loss: 1.3280 - accuracy: 0.7920 - val_loss: 1.1924 - val_accuracy: 0.8509\n",
            "Epoch 3/4\n",
            "90/90 [==============================] - 9s 101ms/step - loss: 1.1963 - accuracy: 0.8554 - val_loss: 1.1780 - val_accuracy: 0.8651\n",
            "Epoch 4/4\n",
            "90/90 [==============================] - 9s 101ms/step - loss: 1.1556 - accuracy: 0.8848 - val_loss: 1.1696 - val_accuracy: 0.8739\n"
          ],
          "name": "stdout"
        }
      ]
    },
    {
      "cell_type": "code",
      "metadata": {
        "id": "hy55ceBpjL7E",
        "colab_type": "code",
        "colab": {
          "base_uri": "https://localhost:8080/",
          "height": 35
        },
        "outputId": "4141c279-216d-4e36-e291-ffa0d7de14f6"
      },
      "source": [
        "len(list(dataset_test))"
      ],
      "execution_count": null,
      "outputs": [
        {
          "output_type": "execute_result",
          "data": {
            "text/plain": [
              "11491"
            ]
          },
          "metadata": {
            "tags": []
          },
          "execution_count": 28
        }
      ]
    },
    {
      "cell_type": "code",
      "metadata": {
        "id": "MwG1bP-TC5fE",
        "colab_type": "code",
        "colab": {
          "base_uri": "https://localhost:8080/",
          "height": 53
        },
        "outputId": "244428b1-c662-41ff-96b6-aeb19095e49f"
      },
      "source": [
        "results = model.evaluate(dataset_test.map(fetch).batch(11491), verbose=2)\n",
        "\n",
        "print(results)"
      ],
      "execution_count": null,
      "outputs": [
        {
          "output_type": "stream",
          "text": [
            "1/1 - 0s - loss: 1.1696 - accuracy: 0.8739\n",
            "[1.1696072816848755, 0.8739013075828552]\n"
          ],
          "name": "stdout"
        }
      ]
    },
    {
      "cell_type": "code",
      "metadata": {
        "id": "-nQdChwqbFer",
        "colab_type": "code",
        "colab": {}
      },
      "source": [
        "test_data, test_labels = next(iter(dataset_test.map(fetch).batch(45963)))"
      ],
      "execution_count": null,
      "outputs": []
    },
    {
      "cell_type": "code",
      "metadata": {
        "id": "nZ9qnGJ7cHlc",
        "colab_type": "code",
        "colab": {}
      },
      "source": [
        "y_pred=model.predict(test_data)"
      ],
      "execution_count": null,
      "outputs": []
    },
    {
      "cell_type": "code",
      "metadata": {
        "id": "ZzzDvHTAcnIv",
        "colab_type": "code",
        "colab": {}
      },
      "source": [
        "from sklearn.metrics import classification_report"
      ],
      "execution_count": null,
      "outputs": []
    },
    {
      "cell_type": "code",
      "metadata": {
        "id": "Vz8L4sgJcTqI",
        "colab_type": "code",
        "colab": {
          "base_uri": "https://localhost:8080/",
          "height": 249
        },
        "outputId": "ad67bc27-14ce-42dc-d46b-7dcd82b60093"
      },
      "source": [
        "print(classification_report(test_labels.numpy().argmax(axis=1), y_pred.argmax(axis=1)))"
      ],
      "execution_count": null,
      "outputs": [
        {
          "output_type": "stream",
          "text": [
            "              precision    recall  f1-score   support\n",
            "\n",
            "           0       0.94      0.89      0.91      4295\n",
            "           1       0.85      0.86      0.86      2583\n",
            "           2       0.93      0.92      0.92      2015\n",
            "           3       0.87      0.82      0.85      1461\n",
            "           4       0.81      0.84      0.82       611\n",
            "           5       0.55      0.84      0.66       526\n",
            "\n",
            "    accuracy                           0.87     11491\n",
            "   macro avg       0.82      0.86      0.84     11491\n",
            "weighted avg       0.88      0.87      0.88     11491\n",
            "\n"
          ],
          "name": "stdout"
        }
      ]
    },
    {
      "cell_type": "markdown",
      "metadata": {
        "id": "rduQJeGyVbA5",
        "colab_type": "text"
      },
      "source": [
        "Classification Report with no class weights assigned\n",
        "           \n",
        "\n",
        "\n",
        "```\n",
        "              precision    recall  f1-score   support\n",
        "\n",
        "           0       0.92      0.91      0.92      4295\n",
        "           1       0.84      0.88      0.86      2583\n",
        "           2       0.90      0.94      0.92      2015\n",
        "           3       0.86      0.84      0.85      1461\n",
        "           4       0.86      0.78      0.81       611\n",
        "           5       0.69      0.62      0.65       526\n",
        "\n",
        "    accuracy                           0.88     11491\n",
        "   macro avg       0.85      0.83      0.84     11491\n",
        "weighted avg       0.88      0.88      0.88     11491\n",
        "```\n",
        "\n",
        "\n"
      ]
    },
    {
      "cell_type": "code",
      "metadata": {
        "id": "KGQ59jwIQjgX",
        "colab_type": "code",
        "colab": {
          "base_uri": "https://localhost:8080/",
          "height": 124
        },
        "outputId": "7fb0c5b8-d47b-43b7-d330-1442db4b9376"
      },
      "source": [
        "from sklearn.metrics import confusion_matrix\n",
        "confusion_matrix(test_labels.numpy().argmax(axis=1), y_pred.argmax(axis=1))"
      ],
      "execution_count": null,
      "outputs": [
        {
          "output_type": "execute_result",
          "data": {
            "text/plain": [
              "array([[3815,  167,   76,   32,   80,  125],\n",
              "       [ 125, 2222,   13,  109,   10,  104],\n",
              "       [  37,   21, 1848,   23,   21,   65],\n",
              "       [  37,  162,   30, 1204,    5,   23],\n",
              "       [  18,   18,   11,    4,  511,   49],\n",
              "       [  29,   21,   17,   10,    7,  442]])"
            ]
          },
          "metadata": {
            "tags": []
          },
          "execution_count": 34
        }
      ]
    },
    {
      "cell_type": "markdown",
      "metadata": {
        "id": "6ixm_2WMmHHt",
        "colab_type": "text"
      },
      "source": [
        "Confusion matrix without weights assigned\n",
        "\n",
        "```\n",
        "array([[3910,  165,   80,   34,   50,   56],\n",
        "       [ 128, 2274,   20,  128,    3,   30],\n",
        "       [  36,   27, 1893,   18,   16,   25],\n",
        "       [  41,  149,   29, 1227,    5,   10],\n",
        "       [  41,   35,   30,    6,  474,   25],\n",
        "       [  72,   50,   60,   14,    5,  325]])\n",
        "```\n",
        "\n"
      ]
    },
    {
      "cell_type": "code",
      "metadata": {
        "id": "wC7ymBCknK98",
        "colab_type": "code",
        "colab": {}
      },
      "source": [
        ""
      ],
      "execution_count": null,
      "outputs": []
    },
    {
      "cell_type": "code",
      "metadata": {
        "id": "bo6sh1pGnK6B",
        "colab_type": "code",
        "colab": {}
      },
      "source": [
        ""
      ],
      "execution_count": null,
      "outputs": []
    },
    {
      "cell_type": "code",
      "metadata": {
        "id": "vhtjA7qGnK07",
        "colab_type": "code",
        "colab": {}
      },
      "source": [
        ""
      ],
      "execution_count": null,
      "outputs": []
    },
    {
      "cell_type": "code",
      "metadata": {
        "id": "BQqC8MAknJD4",
        "colab_type": "code",
        "colab": {}
      },
      "source": [
        ""
      ],
      "execution_count": null,
      "outputs": []
    },
    {
      "cell_type": "code",
      "metadata": {
        "id": "cMjeT_DkpPQ2",
        "colab_type": "code",
        "colab": {}
      },
      "source": [
        ""
      ],
      "execution_count": null,
      "outputs": []
    },
    {
      "cell_type": "code",
      "metadata": {
        "id": "9nWmBBwIpPMx",
        "colab_type": "code",
        "colab": {}
      },
      "source": [
        ""
      ],
      "execution_count": null,
      "outputs": []
    },
    {
      "cell_type": "code",
      "metadata": {
        "id": "eSGPqXKcpPI1",
        "colab_type": "code",
        "colab": {}
      },
      "source": [
        ""
      ],
      "execution_count": null,
      "outputs": []
    },
    {
      "cell_type": "code",
      "metadata": {
        "id": "tjVDPmZDpPEo",
        "colab_type": "code",
        "colab": {}
      },
      "source": [
        ""
      ],
      "execution_count": null,
      "outputs": []
    },
    {
      "cell_type": "code",
      "metadata": {
        "id": "YfAACV1ipO-d",
        "colab_type": "code",
        "colab": {}
      },
      "source": [
        ""
      ],
      "execution_count": null,
      "outputs": []
    },
    {
      "cell_type": "code",
      "metadata": {
        "id": "xM7snwiBpO4v",
        "colab_type": "code",
        "colab": {}
      },
      "source": [
        ""
      ],
      "execution_count": null,
      "outputs": []
    },
    {
      "cell_type": "code",
      "metadata": {
        "id": "JzfPjub9pOxl",
        "colab_type": "code",
        "colab": {}
      },
      "source": [
        ""
      ],
      "execution_count": null,
      "outputs": []
    }
  ]
}