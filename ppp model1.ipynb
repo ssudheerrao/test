{
  "nbformat": 4,
  "nbformat_minor": 0,
  "metadata": {
    "colab": {
      "name": "Untitled10.ipynb",
      "provenance": [],
      "authorship_tag": "ABX9TyOzR4PzxnRCZMTIKfEKD8U0",
      "include_colab_link": true
    },
    "kernelspec": {
      "name": "python3",
      "display_name": "Python 3"
    }
  },
  "cells": [
    {
      "cell_type": "markdown",
      "metadata": {
        "id": "view-in-github",
        "colab_type": "text"
      },
      "source": [
        "<a href=\"https://colab.research.google.com/github/ssudheerrao/test/blob/master/ppp%20model1.ipynb\" target=\"_parent\"><img src=\"https://colab.research.google.com/assets/colab-badge.svg\" alt=\"Open In Colab\"/></a>"
      ]
    },
    {
      "cell_type": "code",
      "metadata": {
        "id": "vhD4OTk2eENT"
      },
      "source": [
        "from sklearn.linear_model import LinearRegression,Ridge\r\n",
        "from sklearn import metrics\r\n",
        "import numpy as np\r\n",
        "import pandas as pd"
      ],
      "execution_count": 73,
      "outputs": []
    },
    {
      "cell_type": "code",
      "metadata": {
        "id": "0N0LzCv0eMQ5"
      },
      "source": [
        "X=[30,72,95,61,90,96,65,56,45,55,85,25,70,17,96,17,40,19,22,38,95]\r\n",
        "y=[978,5204,9082,3812,8191,9250,4246,3152,2088,3079,7321,647,4967,361,9308,373,1652,444,556,1514,9115]"
      ],
      "execution_count": 74,
      "outputs": []
    },
    {
      "cell_type": "code",
      "metadata": {
        "id": "rnvgF20bzzPf"
      },
      "source": [
        "X_arr=np.array(X).reshape(-1, 1)\r\n",
        "y_arr=np.array(y).reshape(-1, 1)"
      ],
      "execution_count": 75,
      "outputs": []
    },
    {
      "cell_type": "code",
      "metadata": {
        "id": "8MBfQLp5eP7e"
      },
      "source": [
        "from sklearn.model_selection import train_test_split\r\n",
        "X_train, X_test, y_train, y_test = train_test_split(X_arr, y_arr, test_size=0.1, random_state=0)"
      ],
      "execution_count": 76,
      "outputs": []
    },
    {
      "cell_type": "code",
      "metadata": {
        "colab": {
          "base_uri": "https://localhost:8080/"
        },
        "id": "nAUpsqoreTe5",
        "outputId": "f107f582-f601-4550-eeb7-ea495d0efe6d"
      },
      "source": [
        "model=LinearRegression()\r\n",
        "model.fit(X_train,y_train)\r\n",
        "acuracy=model.score(X_test,y_test)\r\n",
        "print(acuracy , '%')\r\n",
        "y_pred=model.predict(X_test)\r\n",
        "y_pred\r\n",
        "acuracy_test=model.score(y_test,y_pred)\r\n",
        "print(acuracy_test , '% test')"
      ],
      "execution_count": 79,
      "outputs": [
        {
          "output_type": "stream",
          "text": [
            "0.962127176675224 %\n",
            "-27428.307749786516 % test\n"
          ],
          "name": "stdout"
        }
      ]
    },
    {
      "cell_type": "code",
      "metadata": {
        "colab": {
          "base_uri": "https://localhost:8080/"
        },
        "id": "JOlPsFoA84bI",
        "outputId": "131d7766-1759-4f2d-9efb-f5cf0c342a0b"
      },
      "source": [
        "print('Mean Absolute Error:', metrics.mean_absolute_error(y_test, y_pred))\r\n",
        "print('Mean Squared Error:', metrics.mean_squared_error(y_test, y_pred))\r\n",
        "print('Root Mean Squared Error:', np.sqrt(metrics.mean_squared_error(y_test, y_pred)))\r\n",
        "print('r2',metrics.r2_score(y_pred,y_test))"
      ],
      "execution_count": 81,
      "outputs": [
        {
          "output_type": "stream",
          "text": [
            "Mean Absolute Error: 727.4437041424017\n",
            "Mean Squared Error: 542817.6014108993\n",
            "Root Mean Squared Error: 736.7615634728099\n",
            "r2 0.9602345363031937\n"
          ],
          "name": "stdout"
        }
      ]
    },
    {
      "cell_type": "code",
      "metadata": {
        "colab": {
          "base_uri": "https://localhost:8080/"
        },
        "id": "2cgizCj740g7",
        "outputId": "406f52db-4dcd-44a9-dace-0c6deacdceba"
      },
      "source": [
        "print(model.intercept_)\r\n",
        "print(model.coef_)\r\n"
      ],
      "execution_count": 41,
      "outputs": [
        {
          "output_type": "stream",
          "text": [
            "-2467.001678017964\n",
            "[114.51747113]\n"
          ],
          "name": "stdout"
        }
      ]
    },
    {
      "cell_type": "code",
      "metadata": {
        "colab": {
          "base_uri": "https://localhost:8080/"
        },
        "id": "tgM8uEI15txG",
        "outputId": "0bf1deef-23e2-41e9-bfaa-c015162f6bc8"
      },
      "source": [
        "model=Ridge()\r\n",
        "model.fit(X_train,y_train)\r\n",
        "model.score(X_train,y_train)\r\n",
        "y_pred=model.predict(X_test)\r\n",
        "print(model.score(y_test,y_pred))"
      ],
      "execution_count": 82,
      "outputs": [
        {
          "output_type": "stream",
          "text": [
            "-27428.307749786505\n"
          ],
          "name": "stdout"
        }
      ]
    },
    {
      "cell_type": "code",
      "metadata": {
        "colab": {
          "base_uri": "https://localhost:8080/"
        },
        "id": "9bN-_xl_3Gvc",
        "outputId": "6889faab-20bb-4ed8-9822-ba562e9b5371"
      },
      "source": [
        "import statsmodels.api as sm\r\n",
        "x = sm.add_constant(X_train)\r\n",
        "model = sm.OLS(y_train, X_train)\r\n",
        "results = model.fit()\r\n",
        "print(results.summary())"
      ],
      "execution_count": 71,
      "outputs": [
        {
          "output_type": "stream",
          "text": [
            "                                 OLS Regression Results                                \n",
            "=======================================================================================\n",
            "Dep. Variable:                      y   R-squared (uncentered):                   0.945\n",
            "Model:                            OLS   Adj. R-squared (uncentered):              0.941\n",
            "Method:                 Least Squares   F-statistic:                              289.4\n",
            "Date:                Tue, 23 Feb 2021   Prob (F-statistic):                    4.14e-12\n",
            "Time:                        13:28:47   Log-Likelihood:                         -153.52\n",
            "No. Observations:                  18   AIC:                                      309.0\n",
            "Df Residuals:                      17   BIC:                                      309.9\n",
            "Df Model:                           1                                                  \n",
            "Covariance Type:            nonrobust                                                  \n",
            "==============================================================================\n",
            "                 coef    std err          t      P>|t|      [0.025      0.975]\n",
            "------------------------------------------------------------------------------\n",
            "x1            79.4860      4.673     17.011      0.000      69.628      89.344\n",
            "==============================================================================\n",
            "Omnibus:                        3.895   Durbin-Watson:                   1.164\n",
            "Prob(Omnibus):                  0.143   Jarque-Bera (JB):                3.116\n",
            "Skew:                           0.945   Prob(JB):                        0.211\n",
            "Kurtosis:                       2.235   Cond. No.                         1.00\n",
            "==============================================================================\n",
            "\n",
            "Warnings:\n",
            "[1] Standard Errors assume that the covariance matrix of the errors is correctly specified.\n"
          ],
          "name": "stdout"
        },
        {
          "output_type": "stream",
          "text": [
            "/usr/local/lib/python3.6/dist-packages/scipy/stats/stats.py:1535: UserWarning: kurtosistest only valid for n>=20 ... continuing anyway, n=18\n",
            "  \"anyway, n=%i\" % int(n))\n"
          ],
          "name": "stderr"
        }
      ]
    }
  ]
}