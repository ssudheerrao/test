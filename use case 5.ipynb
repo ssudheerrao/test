{
  "nbformat": 4,
  "nbformat_minor": 0,
  "metadata": {
    "colab": {
      "name": "Untitled28.ipynb",
      "provenance": [],
      "authorship_tag": "ABX9TyOU5Dum6HXLEjvL6jv/JwiP",
      "include_colab_link": true
    },
    "kernelspec": {
      "name": "python3",
      "display_name": "Python 3"
    },
    "language_info": {
      "name": "python"
    }
  },
  "cells": [
    {
      "cell_type": "markdown",
      "metadata": {
        "id": "view-in-github",
        "colab_type": "text"
      },
      "source": [
        "<a href=\"https://colab.research.google.com/github/ssudheerrao/test/blob/master/use%20case%205.ipynb\" target=\"_parent\"><img src=\"https://colab.research.google.com/assets/colab-badge.svg\" alt=\"Open In Colab\"/></a>"
      ]
    },
    {
      "cell_type": "code",
      "metadata": {
        "id": "Lmj6fP8xcj8R"
      },
      "source": [
        "import numpy as np\n",
        "import pandas as pd\n",
        "import matplotlib.pyplot as plt"
      ],
      "execution_count": 3,
      "outputs": []
    },
    {
      "cell_type": "code",
      "metadata": {
        "colab": {
          "resources": {
            "http://localhost:8080/nbextensions/google.colab/files.js": {
              "data": "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",
              "ok": true,
              "headers": [
                [
                  "content-type",
                  "application/javascript"
                ]
              ],
              "status": 200,
              "status_text": ""
            }
          },
          "base_uri": "https://localhost:8080/",
          "height": 73
        },
        "id": "FztrMe1ziECW",
        "outputId": "71c42351-5f1b-4bd6-c8bc-feab4b4bd1b3"
      },
      "source": [
        "from google.colab import files\n",
        "uploaded= files.upload()"
      ],
      "execution_count": 5,
      "outputs": [
        {
          "output_type": "display_data",
          "data": {
            "text/html": [
              "\n",
              "     <input type=\"file\" id=\"files-70323f17-8b24-4bd3-9dba-d0b838ba309e\" name=\"files[]\" multiple disabled\n",
              "        style=\"border:none\" />\n",
              "     <output id=\"result-70323f17-8b24-4bd3-9dba-d0b838ba309e\">\n",
              "      Upload widget is only available when the cell has been executed in the\n",
              "      current browser session. Please rerun this cell to enable.\n",
              "      </output>\n",
              "      <script src=\"/nbextensions/google.colab/files.js\"></script> "
            ],
            "text/plain": [
              "<IPython.core.display.HTML object>"
            ]
          },
          "metadata": {
            "tags": []
          }
        },
        {
          "output_type": "stream",
          "text": [
            "Saving train.csv to train.csv\n"
          ],
          "name": "stdout"
        }
      ]
    },
    {
      "cell_type": "code",
      "metadata": {
        "id": "-CVg_bp3i4UA"
      },
      "source": [
        "import io\n",
        "df=pd.read_csv(io.BytesIO(uploaded['train.csv']))\n",
        "df"
      ],
      "execution_count": null,
      "outputs": []
    },
    {
      "cell_type": "code",
      "metadata": {
        "colab": {
          "base_uri": "https://localhost:8080/"
        },
        "id": "6BGlhDt0i_hH",
        "outputId": "f0b7beed-7266-4947-b199-296139ab21db"
      },
      "source": [
        "df.shape"
      ],
      "execution_count": 9,
      "outputs": [
        {
          "output_type": "execute_result",
          "data": {
            "text/plain": [
              "(73147, 16)"
            ]
          },
          "metadata": {
            "tags": []
          },
          "execution_count": 9
        }
      ]
    },
    {
      "cell_type": "code",
      "metadata": {
        "colab": {
          "base_uri": "https://localhost:8080/"
        },
        "id": "YIvgzhBjkDUU",
        "outputId": "0b0523f4-9791-4a34-fad8-10d53456c70c"
      },
      "source": [
        "df.info()"
      ],
      "execution_count": 13,
      "outputs": [
        {
          "output_type": "stream",
          "text": [
            "<class 'pandas.core.frame.DataFrame'>\n",
            "RangeIndex: 73147 entries, 0 to 73146\n",
            "Data columns (total 16 columns):\n",
            " #   Column                     Non-Null Count  Dtype  \n",
            "---  ------                     --------------  -----  \n",
            " 0   id                         73147 non-null  object \n",
            " 1   program_id                 73147 non-null  object \n",
            " 2   program_type               73147 non-null  object \n",
            " 3   program_duration           73147 non-null  int64  \n",
            " 4   test_id                    73147 non-null  int64  \n",
            " 5   test_type                  73147 non-null  object \n",
            " 6   difficulty_level           73147 non-null  object \n",
            " 7   trainee_id                 73147 non-null  int64  \n",
            " 8   gender                     73147 non-null  object \n",
            " 9   education                  73147 non-null  object \n",
            " 10  city_tier                  73147 non-null  int64  \n",
            " 11  age                        45418 non-null  float64\n",
            " 12  total_programs_enrolled    73147 non-null  int64  \n",
            " 13  is_handicapped             73147 non-null  object \n",
            " 14  trainee_engagement_rating  73070 non-null  float64\n",
            " 15  is_pass                    73147 non-null  int64  \n",
            "dtypes: float64(2), int64(6), object(8)\n",
            "memory usage: 8.9+ MB\n"
          ],
          "name": "stdout"
        }
      ]
    },
    {
      "cell_type": "code",
      "metadata": {
        "id": "FsvLr9dYjPhm"
      },
      "source": [
        "df[df.isnull().any(axis=1)]"
      ],
      "execution_count": null,
      "outputs": []
    },
    {
      "cell_type": "code",
      "metadata": {
        "colab": {
          "base_uri": "https://localhost:8080/"
        },
        "id": "sxsODiaqlsWF",
        "outputId": "c21b52cb-0a63-4de2-fd36-450ea1fc774c"
      },
      "source": [
        "df.isnull().sum()"
      ],
      "execution_count": 24,
      "outputs": [
        {
          "output_type": "execute_result",
          "data": {
            "text/plain": [
              "id                               0\n",
              "program_id                       0\n",
              "program_type                     0\n",
              "program_duration                 0\n",
              "test_id                          0\n",
              "test_type                        0\n",
              "difficulty_level                 0\n",
              "trainee_id                       0\n",
              "gender                           0\n",
              "education                        0\n",
              "city_tier                        0\n",
              "age                          27729\n",
              "total_programs_enrolled          0\n",
              "is_handicapped                   0\n",
              "trainee_engagement_rating       77\n",
              "is_pass                          0\n",
              "dtype: int64"
            ]
          },
          "metadata": {
            "tags": []
          },
          "execution_count": 24
        }
      ]
    },
    {
      "cell_type": "code",
      "metadata": {
        "colab": {
          "base_uri": "https://localhost:8080/"
        },
        "id": "1r6na8_njDJ2",
        "outputId": "81c868a4-7f45-400b-a9a2-8bfdbabda9d1"
      },
      "source": [
        "df['gender'].value_counts()"
      ],
      "execution_count": 41,
      "outputs": [
        {
          "output_type": "execute_result",
          "data": {
            "text/plain": [
              "M    39043\n",
              "F    34104\n",
              "Name: gender, dtype: int64"
            ]
          },
          "metadata": {
            "tags": []
          },
          "execution_count": 41
        }
      ]
    },
    {
      "cell_type": "code",
      "metadata": {
        "colab": {
          "base_uri": "https://localhost:8080/",
          "height": 525
        },
        "id": "9qrwodGrsxv3",
        "outputId": "701950d0-dbd3-4ae9-8829-1bdf65c836c1"
      },
      "source": [
        "df.drop('id',axis=1,inplace=True)\n",
        "df"
      ],
      "execution_count": 44,
      "outputs": [
        {
          "output_type": "execute_result",
          "data": {
            "text/html": [
              "<div>\n",
              "<style scoped>\n",
              "    .dataframe tbody tr th:only-of-type {\n",
              "        vertical-align: middle;\n",
              "    }\n",
              "\n",
              "    .dataframe tbody tr th {\n",
              "        vertical-align: top;\n",
              "    }\n",
              "\n",
              "    .dataframe thead th {\n",
              "        text-align: right;\n",
              "    }\n",
              "</style>\n",
              "<table border=\"1\" class=\"dataframe\">\n",
              "  <thead>\n",
              "    <tr style=\"text-align: right;\">\n",
              "      <th></th>\n",
              "      <th>program_id</th>\n",
              "      <th>program_type</th>\n",
              "      <th>program_duration</th>\n",
              "      <th>test_id</th>\n",
              "      <th>test_type</th>\n",
              "      <th>difficulty_level</th>\n",
              "      <th>trainee_id</th>\n",
              "      <th>gender</th>\n",
              "      <th>education</th>\n",
              "      <th>city_tier</th>\n",
              "      <th>age</th>\n",
              "      <th>total_programs_enrolled</th>\n",
              "      <th>is_handicapped</th>\n",
              "      <th>trainee_engagement_rating</th>\n",
              "      <th>is_pass</th>\n",
              "    </tr>\n",
              "  </thead>\n",
              "  <tbody>\n",
              "    <tr>\n",
              "      <th>0</th>\n",
              "      <td>Y_1</td>\n",
              "      <td>Y</td>\n",
              "      <td>136</td>\n",
              "      <td>150</td>\n",
              "      <td>offline</td>\n",
              "      <td>intermediate</td>\n",
              "      <td>9389</td>\n",
              "      <td>M</td>\n",
              "      <td>Matriculation</td>\n",
              "      <td>3</td>\n",
              "      <td>24.0</td>\n",
              "      <td>5</td>\n",
              "      <td>N</td>\n",
              "      <td>1.0</td>\n",
              "      <td>0</td>\n",
              "    </tr>\n",
              "    <tr>\n",
              "      <th>1</th>\n",
              "      <td>T_1</td>\n",
              "      <td>T</td>\n",
              "      <td>131</td>\n",
              "      <td>44</td>\n",
              "      <td>offline</td>\n",
              "      <td>easy</td>\n",
              "      <td>16523</td>\n",
              "      <td>F</td>\n",
              "      <td>High School Diploma</td>\n",
              "      <td>4</td>\n",
              "      <td>26.0</td>\n",
              "      <td>2</td>\n",
              "      <td>N</td>\n",
              "      <td>3.0</td>\n",
              "      <td>1</td>\n",
              "    </tr>\n",
              "    <tr>\n",
              "      <th>2</th>\n",
              "      <td>Z_2</td>\n",
              "      <td>Z</td>\n",
              "      <td>120</td>\n",
              "      <td>178</td>\n",
              "      <td>online</td>\n",
              "      <td>easy</td>\n",
              "      <td>13987</td>\n",
              "      <td>M</td>\n",
              "      <td>Matriculation</td>\n",
              "      <td>1</td>\n",
              "      <td>40.0</td>\n",
              "      <td>1</td>\n",
              "      <td>N</td>\n",
              "      <td>2.0</td>\n",
              "      <td>1</td>\n",
              "    </tr>\n",
              "    <tr>\n",
              "      <th>3</th>\n",
              "      <td>T_2</td>\n",
              "      <td>T</td>\n",
              "      <td>117</td>\n",
              "      <td>32</td>\n",
              "      <td>offline</td>\n",
              "      <td>easy</td>\n",
              "      <td>13158</td>\n",
              "      <td>F</td>\n",
              "      <td>Matriculation</td>\n",
              "      <td>3</td>\n",
              "      <td>NaN</td>\n",
              "      <td>4</td>\n",
              "      <td>N</td>\n",
              "      <td>1.0</td>\n",
              "      <td>1</td>\n",
              "    </tr>\n",
              "    <tr>\n",
              "      <th>4</th>\n",
              "      <td>V_3</td>\n",
              "      <td>V</td>\n",
              "      <td>131</td>\n",
              "      <td>84</td>\n",
              "      <td>offline</td>\n",
              "      <td>intermediate</td>\n",
              "      <td>10591</td>\n",
              "      <td>F</td>\n",
              "      <td>High School Diploma</td>\n",
              "      <td>1</td>\n",
              "      <td>42.0</td>\n",
              "      <td>2</td>\n",
              "      <td>N</td>\n",
              "      <td>4.0</td>\n",
              "      <td>1</td>\n",
              "    </tr>\n",
              "    <tr>\n",
              "      <th>...</th>\n",
              "      <td>...</td>\n",
              "      <td>...</td>\n",
              "      <td>...</td>\n",
              "      <td>...</td>\n",
              "      <td>...</td>\n",
              "      <td>...</td>\n",
              "      <td>...</td>\n",
              "      <td>...</td>\n",
              "      <td>...</td>\n",
              "      <td>...</td>\n",
              "      <td>...</td>\n",
              "      <td>...</td>\n",
              "      <td>...</td>\n",
              "      <td>...</td>\n",
              "      <td>...</td>\n",
              "    </tr>\n",
              "    <tr>\n",
              "      <th>73142</th>\n",
              "      <td>Z_3</td>\n",
              "      <td>Z</td>\n",
              "      <td>130</td>\n",
              "      <td>161</td>\n",
              "      <td>offline</td>\n",
              "      <td>easy</td>\n",
              "      <td>3882</td>\n",
              "      <td>F</td>\n",
              "      <td>High School Diploma</td>\n",
              "      <td>3</td>\n",
              "      <td>NaN</td>\n",
              "      <td>1</td>\n",
              "      <td>N</td>\n",
              "      <td>2.0</td>\n",
              "      <td>1</td>\n",
              "    </tr>\n",
              "    <tr>\n",
              "      <th>73143</th>\n",
              "      <td>T_2</td>\n",
              "      <td>T</td>\n",
              "      <td>117</td>\n",
              "      <td>38</td>\n",
              "      <td>online</td>\n",
              "      <td>easy</td>\n",
              "      <td>3426</td>\n",
              "      <td>F</td>\n",
              "      <td>High School Diploma</td>\n",
              "      <td>2</td>\n",
              "      <td>45.0</td>\n",
              "      <td>2</td>\n",
              "      <td>N</td>\n",
              "      <td>2.0</td>\n",
              "      <td>1</td>\n",
              "    </tr>\n",
              "    <tr>\n",
              "      <th>73144</th>\n",
              "      <td>Y_2</td>\n",
              "      <td>Y</td>\n",
              "      <td>120</td>\n",
              "      <td>142</td>\n",
              "      <td>online</td>\n",
              "      <td>easy</td>\n",
              "      <td>13063</td>\n",
              "      <td>M</td>\n",
              "      <td>Matriculation</td>\n",
              "      <td>2</td>\n",
              "      <td>NaN</td>\n",
              "      <td>3</td>\n",
              "      <td>N</td>\n",
              "      <td>4.0</td>\n",
              "      <td>1</td>\n",
              "    </tr>\n",
              "    <tr>\n",
              "      <th>73145</th>\n",
              "      <td>V_3</td>\n",
              "      <td>V</td>\n",
              "      <td>131</td>\n",
              "      <td>82</td>\n",
              "      <td>offline</td>\n",
              "      <td>intermediate</td>\n",
              "      <td>5667</td>\n",
              "      <td>M</td>\n",
              "      <td>High School Diploma</td>\n",
              "      <td>3</td>\n",
              "      <td>27.0</td>\n",
              "      <td>2</td>\n",
              "      <td>N</td>\n",
              "      <td>2.0</td>\n",
              "      <td>1</td>\n",
              "    </tr>\n",
              "    <tr>\n",
              "      <th>73146</th>\n",
              "      <td>Y_4</td>\n",
              "      <td>Y</td>\n",
              "      <td>121</td>\n",
              "      <td>119</td>\n",
              "      <td>online</td>\n",
              "      <td>easy</td>\n",
              "      <td>4467</td>\n",
              "      <td>F</td>\n",
              "      <td>High School Diploma</td>\n",
              "      <td>3</td>\n",
              "      <td>31.0</td>\n",
              "      <td>2</td>\n",
              "      <td>N</td>\n",
              "      <td>4.0</td>\n",
              "      <td>1</td>\n",
              "    </tr>\n",
              "  </tbody>\n",
              "</table>\n",
              "<p>73147 rows × 15 columns</p>\n",
              "</div>"
            ],
            "text/plain": [
              "      program_id program_type  ...  trainee_engagement_rating  is_pass\n",
              "0            Y_1            Y  ...                        1.0        0\n",
              "1            T_1            T  ...                        3.0        1\n",
              "2            Z_2            Z  ...                        2.0        1\n",
              "3            T_2            T  ...                        1.0        1\n",
              "4            V_3            V  ...                        4.0        1\n",
              "...          ...          ...  ...                        ...      ...\n",
              "73142        Z_3            Z  ...                        2.0        1\n",
              "73143        T_2            T  ...                        2.0        1\n",
              "73144        Y_2            Y  ...                        4.0        1\n",
              "73145        V_3            V  ...                        2.0        1\n",
              "73146        Y_4            Y  ...                        4.0        1\n",
              "\n",
              "[73147 rows x 15 columns]"
            ]
          },
          "metadata": {
            "tags": []
          },
          "execution_count": 44
        }
      ]
    },
    {
      "cell_type": "code",
      "metadata": {
        "colab": {
          "base_uri": "https://localhost:8080/",
          "height": 404
        },
        "id": "YD3zBc1vmXZX",
        "outputId": "0ba88fae-be5d-47ec-fada-13712f2f8bd6"
      },
      "source": [
        "df_cat=df.select_dtypes(include=['object']).copy()\n",
        "df_cat"
      ],
      "execution_count": 45,
      "outputs": [
        {
          "output_type": "execute_result",
          "data": {
            "text/html": [
              "<div>\n",
              "<style scoped>\n",
              "    .dataframe tbody tr th:only-of-type {\n",
              "        vertical-align: middle;\n",
              "    }\n",
              "\n",
              "    .dataframe tbody tr th {\n",
              "        vertical-align: top;\n",
              "    }\n",
              "\n",
              "    .dataframe thead th {\n",
              "        text-align: right;\n",
              "    }\n",
              "</style>\n",
              "<table border=\"1\" class=\"dataframe\">\n",
              "  <thead>\n",
              "    <tr style=\"text-align: right;\">\n",
              "      <th></th>\n",
              "      <th>program_id</th>\n",
              "      <th>program_type</th>\n",
              "      <th>test_type</th>\n",
              "      <th>difficulty_level</th>\n",
              "      <th>gender</th>\n",
              "      <th>education</th>\n",
              "      <th>is_handicapped</th>\n",
              "    </tr>\n",
              "  </thead>\n",
              "  <tbody>\n",
              "    <tr>\n",
              "      <th>0</th>\n",
              "      <td>Y_1</td>\n",
              "      <td>Y</td>\n",
              "      <td>offline</td>\n",
              "      <td>intermediate</td>\n",
              "      <td>M</td>\n",
              "      <td>Matriculation</td>\n",
              "      <td>N</td>\n",
              "    </tr>\n",
              "    <tr>\n",
              "      <th>1</th>\n",
              "      <td>T_1</td>\n",
              "      <td>T</td>\n",
              "      <td>offline</td>\n",
              "      <td>easy</td>\n",
              "      <td>F</td>\n",
              "      <td>High School Diploma</td>\n",
              "      <td>N</td>\n",
              "    </tr>\n",
              "    <tr>\n",
              "      <th>2</th>\n",
              "      <td>Z_2</td>\n",
              "      <td>Z</td>\n",
              "      <td>online</td>\n",
              "      <td>easy</td>\n",
              "      <td>M</td>\n",
              "      <td>Matriculation</td>\n",
              "      <td>N</td>\n",
              "    </tr>\n",
              "    <tr>\n",
              "      <th>3</th>\n",
              "      <td>T_2</td>\n",
              "      <td>T</td>\n",
              "      <td>offline</td>\n",
              "      <td>easy</td>\n",
              "      <td>F</td>\n",
              "      <td>Matriculation</td>\n",
              "      <td>N</td>\n",
              "    </tr>\n",
              "    <tr>\n",
              "      <th>4</th>\n",
              "      <td>V_3</td>\n",
              "      <td>V</td>\n",
              "      <td>offline</td>\n",
              "      <td>intermediate</td>\n",
              "      <td>F</td>\n",
              "      <td>High School Diploma</td>\n",
              "      <td>N</td>\n",
              "    </tr>\n",
              "    <tr>\n",
              "      <th>...</th>\n",
              "      <td>...</td>\n",
              "      <td>...</td>\n",
              "      <td>...</td>\n",
              "      <td>...</td>\n",
              "      <td>...</td>\n",
              "      <td>...</td>\n",
              "      <td>...</td>\n",
              "    </tr>\n",
              "    <tr>\n",
              "      <th>73142</th>\n",
              "      <td>Z_3</td>\n",
              "      <td>Z</td>\n",
              "      <td>offline</td>\n",
              "      <td>easy</td>\n",
              "      <td>F</td>\n",
              "      <td>High School Diploma</td>\n",
              "      <td>N</td>\n",
              "    </tr>\n",
              "    <tr>\n",
              "      <th>73143</th>\n",
              "      <td>T_2</td>\n",
              "      <td>T</td>\n",
              "      <td>online</td>\n",
              "      <td>easy</td>\n",
              "      <td>F</td>\n",
              "      <td>High School Diploma</td>\n",
              "      <td>N</td>\n",
              "    </tr>\n",
              "    <tr>\n",
              "      <th>73144</th>\n",
              "      <td>Y_2</td>\n",
              "      <td>Y</td>\n",
              "      <td>online</td>\n",
              "      <td>easy</td>\n",
              "      <td>M</td>\n",
              "      <td>Matriculation</td>\n",
              "      <td>N</td>\n",
              "    </tr>\n",
              "    <tr>\n",
              "      <th>73145</th>\n",
              "      <td>V_3</td>\n",
              "      <td>V</td>\n",
              "      <td>offline</td>\n",
              "      <td>intermediate</td>\n",
              "      <td>M</td>\n",
              "      <td>High School Diploma</td>\n",
              "      <td>N</td>\n",
              "    </tr>\n",
              "    <tr>\n",
              "      <th>73146</th>\n",
              "      <td>Y_4</td>\n",
              "      <td>Y</td>\n",
              "      <td>online</td>\n",
              "      <td>easy</td>\n",
              "      <td>F</td>\n",
              "      <td>High School Diploma</td>\n",
              "      <td>N</td>\n",
              "    </tr>\n",
              "  </tbody>\n",
              "</table>\n",
              "<p>73147 rows × 7 columns</p>\n",
              "</div>"
            ],
            "text/plain": [
              "      program_id program_type  ...            education is_handicapped\n",
              "0            Y_1            Y  ...        Matriculation              N\n",
              "1            T_1            T  ...  High School Diploma              N\n",
              "2            Z_2            Z  ...        Matriculation              N\n",
              "3            T_2            T  ...        Matriculation              N\n",
              "4            V_3            V  ...  High School Diploma              N\n",
              "...          ...          ...  ...                  ...            ...\n",
              "73142        Z_3            Z  ...  High School Diploma              N\n",
              "73143        T_2            T  ...  High School Diploma              N\n",
              "73144        Y_2            Y  ...        Matriculation              N\n",
              "73145        V_3            V  ...  High School Diploma              N\n",
              "73146        Y_4            Y  ...  High School Diploma              N\n",
              "\n",
              "[73147 rows x 7 columns]"
            ]
          },
          "metadata": {
            "tags": []
          },
          "execution_count": 45
        }
      ]
    },
    {
      "cell_type": "code",
      "metadata": {
        "colab": {
          "base_uri": "https://localhost:8080/"
        },
        "id": "v7WiBKDErCFe",
        "outputId": "af60cb95-4e21-4555-9c0d-6ee85fc6fb49"
      },
      "source": [
        "df['program_type'].value_counts()"
      ],
      "execution_count": 49,
      "outputs": [
        {
          "output_type": "execute_result",
          "data": {
            "text/plain": [
              "Y    22560\n",
              "T    18458\n",
              "V    13025\n",
              "U     7821\n",
              "Z     6629\n",
              "X     3328\n",
              "S     1326\n",
              "Name: program_type, dtype: int64"
            ]
          },
          "metadata": {
            "tags": []
          },
          "execution_count": 49
        }
      ]
    },
    {
      "cell_type": "code",
      "metadata": {
        "colab": {
          "base_uri": "https://localhost:8080/",
          "height": 404
        },
        "id": "5lMUPWqCuUl0",
        "outputId": "36074ef6-2cf7-4812-81d9-c8d9b3de618a"
      },
      "source": [
        "\n",
        "# Import label encoder for single column\n",
        "from sklearn import preprocessing \n",
        "  \n",
        "# label_encoder object knows how to understand word labels. \n",
        "label_encoder = preprocessing.LabelEncoder() \n",
        "  \n",
        "# Encode labels in column 'species'. \n",
        "df_cat['difficulty_level']= label_encoder.fit_transform(df_cat['difficulty_level']) \n",
        "  \n",
        "df_cat\n",
        "\n",
        "## Label encoder Multiple columns\n",
        "\n",
        "columns=['difficulty_level','education']\n",
        "from sklearn.preprocessing import LabelEncoder\n",
        "le_dict = { col: LabelEncoder() for col in columns }\n",
        "for col in columns:\n",
        "   df_cat[col]= le_dict[col].fit_transform(df_cat[col])\n",
        "\n",
        "df_cat"
      ],
      "execution_count": 60,
      "outputs": [
        {
          "output_type": "execute_result",
          "data": {
            "text/html": [
              "<div>\n",
              "<style scoped>\n",
              "    .dataframe tbody tr th:only-of-type {\n",
              "        vertical-align: middle;\n",
              "    }\n",
              "\n",
              "    .dataframe tbody tr th {\n",
              "        vertical-align: top;\n",
              "    }\n",
              "\n",
              "    .dataframe thead th {\n",
              "        text-align: right;\n",
              "    }\n",
              "</style>\n",
              "<table border=\"1\" class=\"dataframe\">\n",
              "  <thead>\n",
              "    <tr style=\"text-align: right;\">\n",
              "      <th></th>\n",
              "      <th>program_id</th>\n",
              "      <th>program_type</th>\n",
              "      <th>test_type</th>\n",
              "      <th>difficulty_level</th>\n",
              "      <th>gender</th>\n",
              "      <th>education</th>\n",
              "      <th>is_handicapped</th>\n",
              "    </tr>\n",
              "  </thead>\n",
              "  <tbody>\n",
              "    <tr>\n",
              "      <th>0</th>\n",
              "      <td>Y_1</td>\n",
              "      <td>Y</td>\n",
              "      <td>offline</td>\n",
              "      <td>2</td>\n",
              "      <td>M</td>\n",
              "      <td>Matriculation</td>\n",
              "      <td>N</td>\n",
              "    </tr>\n",
              "    <tr>\n",
              "      <th>1</th>\n",
              "      <td>T_1</td>\n",
              "      <td>T</td>\n",
              "      <td>offline</td>\n",
              "      <td>0</td>\n",
              "      <td>F</td>\n",
              "      <td>High School Diploma</td>\n",
              "      <td>N</td>\n",
              "    </tr>\n",
              "    <tr>\n",
              "      <th>2</th>\n",
              "      <td>Z_2</td>\n",
              "      <td>Z</td>\n",
              "      <td>online</td>\n",
              "      <td>0</td>\n",
              "      <td>M</td>\n",
              "      <td>Matriculation</td>\n",
              "      <td>N</td>\n",
              "    </tr>\n",
              "    <tr>\n",
              "      <th>3</th>\n",
              "      <td>T_2</td>\n",
              "      <td>T</td>\n",
              "      <td>offline</td>\n",
              "      <td>0</td>\n",
              "      <td>F</td>\n",
              "      <td>Matriculation</td>\n",
              "      <td>N</td>\n",
              "    </tr>\n",
              "    <tr>\n",
              "      <th>4</th>\n",
              "      <td>V_3</td>\n",
              "      <td>V</td>\n",
              "      <td>offline</td>\n",
              "      <td>2</td>\n",
              "      <td>F</td>\n",
              "      <td>High School Diploma</td>\n",
              "      <td>N</td>\n",
              "    </tr>\n",
              "    <tr>\n",
              "      <th>...</th>\n",
              "      <td>...</td>\n",
              "      <td>...</td>\n",
              "      <td>...</td>\n",
              "      <td>...</td>\n",
              "      <td>...</td>\n",
              "      <td>...</td>\n",
              "      <td>...</td>\n",
              "    </tr>\n",
              "    <tr>\n",
              "      <th>73142</th>\n",
              "      <td>Z_3</td>\n",
              "      <td>Z</td>\n",
              "      <td>offline</td>\n",
              "      <td>0</td>\n",
              "      <td>F</td>\n",
              "      <td>High School Diploma</td>\n",
              "      <td>N</td>\n",
              "    </tr>\n",
              "    <tr>\n",
              "      <th>73143</th>\n",
              "      <td>T_2</td>\n",
              "      <td>T</td>\n",
              "      <td>online</td>\n",
              "      <td>0</td>\n",
              "      <td>F</td>\n",
              "      <td>High School Diploma</td>\n",
              "      <td>N</td>\n",
              "    </tr>\n",
              "    <tr>\n",
              "      <th>73144</th>\n",
              "      <td>Y_2</td>\n",
              "      <td>Y</td>\n",
              "      <td>online</td>\n",
              "      <td>0</td>\n",
              "      <td>M</td>\n",
              "      <td>Matriculation</td>\n",
              "      <td>N</td>\n",
              "    </tr>\n",
              "    <tr>\n",
              "      <th>73145</th>\n",
              "      <td>V_3</td>\n",
              "      <td>V</td>\n",
              "      <td>offline</td>\n",
              "      <td>2</td>\n",
              "      <td>M</td>\n",
              "      <td>High School Diploma</td>\n",
              "      <td>N</td>\n",
              "    </tr>\n",
              "    <tr>\n",
              "      <th>73146</th>\n",
              "      <td>Y_4</td>\n",
              "      <td>Y</td>\n",
              "      <td>online</td>\n",
              "      <td>0</td>\n",
              "      <td>F</td>\n",
              "      <td>High School Diploma</td>\n",
              "      <td>N</td>\n",
              "    </tr>\n",
              "  </tbody>\n",
              "</table>\n",
              "<p>73147 rows × 7 columns</p>\n",
              "</div>"
            ],
            "text/plain": [
              "      program_id program_type  ...            education  is_handicapped\n",
              "0            Y_1            Y  ...        Matriculation               N\n",
              "1            T_1            T  ...  High School Diploma               N\n",
              "2            Z_2            Z  ...        Matriculation               N\n",
              "3            T_2            T  ...        Matriculation               N\n",
              "4            V_3            V  ...  High School Diploma               N\n",
              "...          ...          ...  ...                  ...             ...\n",
              "73142        Z_3            Z  ...  High School Diploma               N\n",
              "73143        T_2            T  ...  High School Diploma               N\n",
              "73144        Y_2            Y  ...        Matriculation               N\n",
              "73145        V_3            V  ...  High School Diploma               N\n",
              "73146        Y_4            Y  ...  High School Diploma               N\n",
              "\n",
              "[73147 rows x 7 columns]"
            ]
          },
          "metadata": {
            "tags": []
          },
          "execution_count": 60
        }
      ]
    },
    {
      "cell_type": "code",
      "metadata": {
        "colab": {
          "base_uri": "https://localhost:8080/",
          "height": 404
        },
        "id": "HWoIwW3zuFK2",
        "outputId": "e18d69d8-614f-48c2-a54f-20d13b48f012"
      },
      "source": [
        "\n"
      ],
      "execution_count": 63,
      "outputs": [
        {
          "output_type": "execute_result",
          "data": {
            "text/html": [
              "<div>\n",
              "<style scoped>\n",
              "    .dataframe tbody tr th:only-of-type {\n",
              "        vertical-align: middle;\n",
              "    }\n",
              "\n",
              "    .dataframe tbody tr th {\n",
              "        vertical-align: top;\n",
              "    }\n",
              "\n",
              "    .dataframe thead th {\n",
              "        text-align: right;\n",
              "    }\n",
              "</style>\n",
              "<table border=\"1\" class=\"dataframe\">\n",
              "  <thead>\n",
              "    <tr style=\"text-align: right;\">\n",
              "      <th></th>\n",
              "      <th>program_id</th>\n",
              "      <th>program_type</th>\n",
              "      <th>test_type</th>\n",
              "      <th>difficulty_level</th>\n",
              "      <th>gender</th>\n",
              "      <th>education</th>\n",
              "      <th>is_handicapped</th>\n",
              "    </tr>\n",
              "  </thead>\n",
              "  <tbody>\n",
              "    <tr>\n",
              "      <th>0</th>\n",
              "      <td>Y_1</td>\n",
              "      <td>Y</td>\n",
              "      <td>offline</td>\n",
              "      <td>2</td>\n",
              "      <td>M</td>\n",
              "      <td>3</td>\n",
              "      <td>N</td>\n",
              "    </tr>\n",
              "    <tr>\n",
              "      <th>1</th>\n",
              "      <td>T_1</td>\n",
              "      <td>T</td>\n",
              "      <td>offline</td>\n",
              "      <td>0</td>\n",
              "      <td>F</td>\n",
              "      <td>1</td>\n",
              "      <td>N</td>\n",
              "    </tr>\n",
              "    <tr>\n",
              "      <th>2</th>\n",
              "      <td>Z_2</td>\n",
              "      <td>Z</td>\n",
              "      <td>online</td>\n",
              "      <td>0</td>\n",
              "      <td>M</td>\n",
              "      <td>3</td>\n",
              "      <td>N</td>\n",
              "    </tr>\n",
              "    <tr>\n",
              "      <th>3</th>\n",
              "      <td>T_2</td>\n",
              "      <td>T</td>\n",
              "      <td>offline</td>\n",
              "      <td>0</td>\n",
              "      <td>F</td>\n",
              "      <td>3</td>\n",
              "      <td>N</td>\n",
              "    </tr>\n",
              "    <tr>\n",
              "      <th>4</th>\n",
              "      <td>V_3</td>\n",
              "      <td>V</td>\n",
              "      <td>offline</td>\n",
              "      <td>2</td>\n",
              "      <td>F</td>\n",
              "      <td>1</td>\n",
              "      <td>N</td>\n",
              "    </tr>\n",
              "    <tr>\n",
              "      <th>...</th>\n",
              "      <td>...</td>\n",
              "      <td>...</td>\n",
              "      <td>...</td>\n",
              "      <td>...</td>\n",
              "      <td>...</td>\n",
              "      <td>...</td>\n",
              "      <td>...</td>\n",
              "    </tr>\n",
              "    <tr>\n",
              "      <th>73142</th>\n",
              "      <td>Z_3</td>\n",
              "      <td>Z</td>\n",
              "      <td>offline</td>\n",
              "      <td>0</td>\n",
              "      <td>F</td>\n",
              "      <td>1</td>\n",
              "      <td>N</td>\n",
              "    </tr>\n",
              "    <tr>\n",
              "      <th>73143</th>\n",
              "      <td>T_2</td>\n",
              "      <td>T</td>\n",
              "      <td>online</td>\n",
              "      <td>0</td>\n",
              "      <td>F</td>\n",
              "      <td>1</td>\n",
              "      <td>N</td>\n",
              "    </tr>\n",
              "    <tr>\n",
              "      <th>73144</th>\n",
              "      <td>Y_2</td>\n",
              "      <td>Y</td>\n",
              "      <td>online</td>\n",
              "      <td>0</td>\n",
              "      <td>M</td>\n",
              "      <td>3</td>\n",
              "      <td>N</td>\n",
              "    </tr>\n",
              "    <tr>\n",
              "      <th>73145</th>\n",
              "      <td>V_3</td>\n",
              "      <td>V</td>\n",
              "      <td>offline</td>\n",
              "      <td>2</td>\n",
              "      <td>M</td>\n",
              "      <td>1</td>\n",
              "      <td>N</td>\n",
              "    </tr>\n",
              "    <tr>\n",
              "      <th>73146</th>\n",
              "      <td>Y_4</td>\n",
              "      <td>Y</td>\n",
              "      <td>online</td>\n",
              "      <td>0</td>\n",
              "      <td>F</td>\n",
              "      <td>1</td>\n",
              "      <td>N</td>\n",
              "    </tr>\n",
              "  </tbody>\n",
              "</table>\n",
              "<p>73147 rows × 7 columns</p>\n",
              "</div>"
            ],
            "text/plain": [
              "      program_id program_type test_type  ...  gender education  is_handicapped\n",
              "0            Y_1            Y   offline  ...       M         3               N\n",
              "1            T_1            T   offline  ...       F         1               N\n",
              "2            Z_2            Z    online  ...       M         3               N\n",
              "3            T_2            T   offline  ...       F         3               N\n",
              "4            V_3            V   offline  ...       F         1               N\n",
              "...          ...          ...       ...  ...     ...       ...             ...\n",
              "73142        Z_3            Z   offline  ...       F         1               N\n",
              "73143        T_2            T    online  ...       F         1               N\n",
              "73144        Y_2            Y    online  ...       M         3               N\n",
              "73145        V_3            V   offline  ...       M         1               N\n",
              "73146        Y_4            Y    online  ...       F         1               N\n",
              "\n",
              "[73147 rows x 7 columns]"
            ]
          },
          "metadata": {
            "tags": []
          },
          "execution_count": 63
        }
      ]
    }
  ]
}