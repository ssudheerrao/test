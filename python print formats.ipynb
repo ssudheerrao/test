{
  "nbformat": 4,
  "nbformat_minor": 0,
  "metadata": {
    "colab": {
      "name": "Untitled4.ipynb",
      "provenance": [],
      "authorship_tag": "ABX9TyMTGBEv5qdVgxISRX2GcQnu",
      "include_colab_link": true
    },
    "kernelspec": {
      "name": "python3",
      "display_name": "Python 3"
    }
  },
  "cells": [
    {
      "cell_type": "markdown",
      "metadata": {
        "id": "view-in-github",
        "colab_type": "text"
      },
      "source": [
        "<a href=\"https://colab.research.google.com/github/ssudheerrao/test/blob/master/python%20print%20formats.ipynb\" target=\"_parent\"><img src=\"https://colab.research.google.com/assets/colab-badge.svg\" alt=\"Open In Colab\"/></a>"
      ]
    },
    {
      "cell_type": "code",
      "metadata": {
        "id": "hBUknLnZeqfn",
        "colab_type": "code",
        "colab": {
          "base_uri": "https://localhost:8080/",
          "height": 118
        },
        "outputId": "c823c7de-2b2c-4516-bdc7-0d7e78171f93"
      },
      "source": [
        "# Python program showing how to use \n",
        "# string modulo operator(%) to print \n",
        "# fancier output \n",
        "  \n",
        "# print integer and float value \n",
        "print('Geeks : % 2d, Portal : % 5.2f' %(1, 05.333))  \n",
        "  \n",
        "# print integer value \n",
        "print('Total students : % 3d, Boys : % 2d' %(240, 120)) \n",
        "  \n",
        "print('my name is %d' %859) \n",
        "\n",
        "print('my name is', 455)\n",
        "# print octal value \n",
        "print('% 7.3o'% (25)) \n",
        "  \n",
        "# print exponential value \n",
        "print(\"% 10.3E\"% (356.08977))"
      ],
      "execution_count": 32,
      "outputs": [
        {
          "output_type": "stream",
          "text": [
            "Geeks :  1, Portal :  5.33\n",
            "Total students :  240, Boys :  120\n",
            "my name is 859\n",
            "my name is 455\n",
            "    031\n",
            " 3.561E+02\n"
          ],
          "name": "stdout"
        }
      ]
    },
    {
      "cell_type": "code",
      "metadata": {
        "id": "gsgqwNzafH5S",
        "colab_type": "code",
        "colab": {
          "base_uri": "https://localhost:8080/",
          "height": 67
        },
        "outputId": "b5a08143-abca-4cad-e260-f503422df807"
      },
      "source": [
        "# Python program showing  \n",
        "# use of format() method \n",
        "  \n",
        "# using format() method \n",
        "print('I love {} for \"{}!\"'.format('Geeks', 'Geeks')) \n",
        "  \n",
        "# using format() method and refering  \n",
        "# a position of the object \n",
        "print('{0} and {1}'.format('Geeks', 'Portal')) \n",
        "  \n",
        "print('{1} and {0}'.format('Geeks', 'Portal')) "
      ],
      "execution_count": 30,
      "outputs": [
        {
          "output_type": "stream",
          "text": [
            "I love Geeks for \"Geeks!\"\n",
            "Geeks and Portal\n",
            "Portal and Geeks\n"
          ],
          "name": "stdout"
        }
      ]
    },
    {
      "cell_type": "code",
      "metadata": {
        "id": "Wjh4wdFxiVMg",
        "colab_type": "code",
        "colab": {
          "base_uri": "https://localhost:8080/",
          "height": 34
        },
        "outputId": "67d5730a-6625-412d-d2ef-d5cf0418aea4"
      },
      "source": [
        "data = dict(fun =\"GeeksForGeeks\", adj =\"Portal\") \n",
        "  \n",
        "# using format() in dictionary \n",
        "print(\"I love {fun} computer {adj}\".format(**data)) "
      ],
      "execution_count": 33,
      "outputs": [
        {
          "output_type": "stream",
          "text": [
            "I love GeeksForGeeks computer Portal\n"
          ],
          "name": "stdout"
        }
      ]
    },
    {
      "cell_type": "code",
      "metadata": {
        "id": "5s_l_kQoigeI",
        "colab_type": "code",
        "colab": {
          "base_uri": "https://localhost:8080/",
          "height": 84
        },
        "outputId": "1a1ccbf4-ad19-4fae-f1ae-198b6d9f8fec"
      },
      "source": [
        "# combining positional and keyword arguments \n",
        "print('Number one portal is {0}, {1}, and {other}.'\n",
        "     .format('Geeks', 'For', other ='Geeks')) \n",
        "  \n",
        "# using format() method with number  \n",
        "print(\"Geeks :{0:2d}, Portal :{1:8.2f}\". \n",
        "      format(12, 00.546)) \n",
        "  \n",
        "# Changing positional argument \n",
        "print(\"Second argument: {1:3d}, first one: {0:7.2f}\". \n",
        "      format(47.42, 11)) \n",
        "  \n",
        "print(\"Geeks: {a:5d},  Portal: {p:8.2f}\". \n",
        "     format(a = 453, p = 59.058)) "
      ],
      "execution_count": 34,
      "outputs": [
        {
          "output_type": "stream",
          "text": [
            "Number one portal is Geeks, For, and Geeks.\n",
            "Geeks :12, Portal :    0.55\n",
            "Second argument:  11, first one:   47.42\n",
            "Geeks:   453,  Portal:    59.06\n"
          ],
          "name": "stdout"
        }
      ]
    }
  ]
}