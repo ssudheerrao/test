{
  "nbformat": 4,
  "nbformat_minor": 0,
  "metadata": {
    "colab": {
      "name": "Untitled10.ipynb",
      "provenance": [],
      "authorship_tag": "ABX9TyPz0/zuOuaLNT8O7EOHG/wx",
      "include_colab_link": true
    },
    "kernelspec": {
      "name": "python3",
      "display_name": "Python 3"
    }
  },
  "cells": [
    {
      "cell_type": "markdown",
      "metadata": {
        "id": "view-in-github",
        "colab_type": "text"
      },
      "source": [
        "<a href=\"https://colab.research.google.com/github/ssudheerrao/test/blob/master/pp%20model.ipynb\" target=\"_parent\"><img src=\"https://colab.research.google.com/assets/colab-badge.svg\" alt=\"Open In Colab\"/></a>"
      ]
    },
    {
      "cell_type": "code",
      "metadata": {
        "id": "vhD4OTk2eENT"
      },
      "source": [
        "from sklearn.linear_model import LinearRegression,Ridge\r\n",
        "from sklearn import metrics\r\n",
        "import numpy as np\r\n",
        "import pandas as pd"
      ],
      "execution_count": 53,
      "outputs": []
    },
    {
      "cell_type": "code",
      "metadata": {
        "id": "0N0LzCv0eMQ5"
      },
      "source": [
        "X=[30,72,95,61,90,96,65,56,45,55,85,25,70,17,96,17,40,19,22,38,95]\r\n",
        "y=[978,5204,9082,3812,8191,9250,4246,3152,2088,3079,7321,647,4967,361,9308,373,1652,444,556,1514,9115]"
      ],
      "execution_count": 54,
      "outputs": []
    },
    {
      "cell_type": "code",
      "metadata": {
        "id": "rnvgF20bzzPf"
      },
      "source": [
        "X_arr=np.array(X).reshape(-1, 1)\r\n",
        "y_arr=np.array(y).reshape(-1, 1)"
      ],
      "execution_count": 55,
      "outputs": []
    },
    {
      "cell_type": "code",
      "metadata": {
        "id": "8MBfQLp5eP7e"
      },
      "source": [
        "from sklearn.model_selection import train_test_split\r\n",
        "X_train, X_test, y_train, y_test = train_test_split(X_arr, y_arr, test_size=0.1, random_state=0)"
      ],
      "execution_count": 56,
      "outputs": []
    },
    {
      "cell_type": "code",
      "metadata": {
        "colab": {
          "base_uri": "https://localhost:8080/"
        },
        "id": "nAUpsqoreTe5",
        "outputId": "90a37659-feee-493b-b303-22710e49e2b1"
      },
      "source": [
        "model=LinearRegression()\r\n",
        "model.fit(X_train,y_train)\r\n",
        "acuracy=model.score(X_train,y_train)\r\n",
        "print(acuracy , '%')\r\n",
        "y_pred=model.predict(X_test)\r\n",
        "y_pred\r\n",
        "acuracy_test=model.score(y_test,y_pred)\r\n",
        "print(acuracy_test , '% test')"
      ],
      "execution_count": 59,
      "outputs": [
        {
          "output_type": "stream",
          "text": [
            "0.9640140731064011 %\n",
            "-27428.307749786516 % test\n"
          ],
          "name": "stdout"
        }
      ]
    },
    {
      "cell_type": "code",
      "metadata": {
        "colab": {
          "base_uri": "https://localhost:8080/"
        },
        "id": "JOlPsFoA84bI",
        "outputId": "aedb4fd9-69a3-4ab3-df70-e2a2ccd8366f"
      },
      "source": [
        "print('Mean Absolute Error:', metrics.mean_absolute_error(y_test, y_pred))\r\n",
        "print('Mean Squared Error:', metrics.mean_squared_error(y_test, y_pred))\r\n",
        "print('Root Mean Squared Error:', np.sqrt(metrics.mean_squared_error(y_test, y_pred)))\r\n",
        "##print('r2',metrics.r2_score)"
      ],
      "execution_count": 65,
      "outputs": [
        {
          "output_type": "stream",
          "text": [
            "Mean Absolute Error: 727.4437041424017\n",
            "Mean Squared Error: 542817.6014108993\n",
            "Root Mean Squared Error: 736.7615634728099\n"
          ],
          "name": "stdout"
        }
      ]
    },
    {
      "cell_type": "code",
      "metadata": {
        "colab": {
          "base_uri": "https://localhost:8080/"
        },
        "id": "GqeX31Y8BSG1",
        "outputId": "9f80c88c-9b26-4276-a7f3-cb22ef07cd7e"
      },
      "source": [
        "import statsmodels.api as sm\r\n",
        "x = sm.add_constant(X_train)\r\n",
        "model = sm.OLS(y_train, X_train)\r\n",
        "results = model.fit()\r\n",
        "print(results.summary())"
      ],
      "execution_count": 68,
      "outputs": [
        {
          "output_type": "stream",
          "text": [
            "                                 OLS Regression Results                                \n",
            "=======================================================================================\n",
            "Dep. Variable:                      y   R-squared (uncentered):                   0.945\n",
            "Model:                            OLS   Adj. R-squared (uncentered):              0.941\n",
            "Method:                 Least Squares   F-statistic:                              289.4\n",
            "Date:                Tue, 23 Feb 2021   Prob (F-statistic):                    4.14e-12\n",
            "Time:                        13:16:40   Log-Likelihood:                         -153.52\n",
            "No. Observations:                  18   AIC:                                      309.0\n",
            "Df Residuals:                      17   BIC:                                      309.9\n",
            "Df Model:                           1                                                  \n",
            "Covariance Type:            nonrobust                                                  \n",
            "==============================================================================\n",
            "                 coef    std err          t      P>|t|      [0.025      0.975]\n",
            "------------------------------------------------------------------------------\n",
            "x1            79.4860      4.673     17.011      0.000      69.628      89.344\n",
            "==============================================================================\n",
            "Omnibus:                        3.895   Durbin-Watson:                   1.164\n",
            "Prob(Omnibus):                  0.143   Jarque-Bera (JB):                3.116\n",
            "Skew:                           0.945   Prob(JB):                        0.211\n",
            "Kurtosis:                       2.235   Cond. No.                         1.00\n",
            "==============================================================================\n",
            "\n",
            "Warnings:\n",
            "[1] Standard Errors assume that the covariance matrix of the errors is correctly specified.\n"
          ],
          "name": "stdout"
        },
        {
          "output_type": "stream",
          "text": [
            "/usr/local/lib/python3.6/dist-packages/scipy/stats/stats.py:1535: UserWarning: kurtosistest only valid for n>=20 ... continuing anyway, n=18\n",
            "  \"anyway, n=%i\" % int(n))\n"
          ],
          "name": "stderr"
        }
      ]
    },
    {
      "cell_type": "code",
      "metadata": {
        "colab": {
          "base_uri": "https://localhost:8080/"
        },
        "id": "2cgizCj740g7",
        "outputId": "406f52db-4dcd-44a9-dace-0c6deacdceba"
      },
      "source": [
        "print(model.intercept_)\r\n",
        "print(model.coef_)\r\n"
      ],
      "execution_count": 41,
      "outputs": [
        {
          "output_type": "stream",
          "text": [
            "-2467.001678017964\n",
            "[114.51747113]\n"
          ],
          "name": "stdout"
        }
      ]
    },
    {
      "cell_type": "code",
      "metadata": {
        "colab": {
          "base_uri": "https://localhost:8080/"
        },
        "id": "tgM8uEI15txG",
        "outputId": "b9808ed9-e44b-4e9b-a7ab-61065ac35b46"
      },
      "source": [
        "model=Ridge()\r\n",
        "model.fit(X_train,y_train)\r\n",
        "model.score(X_train,y_train)\r\n",
        "y_pred=model.predict(X_test)\r\n",
        "print(model.score(y_test,y_pred))"
      ],
      "execution_count": 58,
      "outputs": [
        {
          "output_type": "stream",
          "text": [
            "-27428.307749786505\n"
          ],
          "name": "stdout"
        }
      ]
    },
    {
      "cell_type": "code",
      "metadata": {
        "id": "9bN-_xl_3Gvc"
      },
      "source": [
        ""
      ],
      "execution_count": null,
      "outputs": []
    }
  ]
}