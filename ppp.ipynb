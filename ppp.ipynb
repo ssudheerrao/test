{
  "nbformat": 4,
  "nbformat_minor": 0,
  "metadata": {
    "colab": {
      "name": "Untitled8.ipynb",
      "provenance": [],
      "authorship_tag": "ABX9TyP4rKchtLryKPRnBxttOr++",
      "include_colab_link": true
    },
    "kernelspec": {
      "name": "python3",
      "display_name": "Python 3"
    }
  },
  "cells": [
    {
      "cell_type": "markdown",
      "metadata": {
        "id": "view-in-github",
        "colab_type": "text"
      },
      "source": [
        "<a href=\"https://colab.research.google.com/github/ssudheerrao/test/blob/master/ppp.ipynb\" target=\"_parent\"><img src=\"https://colab.research.google.com/assets/colab-badge.svg\" alt=\"Open In Colab\"/></a>"
      ]
    },
    {
      "cell_type": "code",
      "metadata": {
        "colab": {
          "base_uri": "https://localhost:8080/"
        },
        "id": "-cBlLFr_leXR",
        "outputId": "a2bdc239-4c0d-4936-92ea-f07f903c1b6c"
      },
      "source": [
        "def ssd():\r\n",
        "  print('sudheer python')\r\n",
        "\r\n",
        "ssd()"
      ],
      "execution_count": 10,
      "outputs": [
        {
          "output_type": "stream",
          "text": [
            "sudheer python\n"
          ],
          "name": "stdout"
        }
      ]
    },
    {
      "cell_type": "code",
      "metadata": {
        "colab": {
          "base_uri": "https://localhost:8080/"
        },
        "id": "W6_En8wHRYYJ",
        "outputId": "90e3b00b-9088-4ee9-e72b-77ca1f6f58cc"
      },
      "source": [
        "def ssr_new(a1,a2):\r\n",
        "  print(a1,\"ssr\")\r\n",
        "\r\n",
        "ssr_new('hi','how')\r\n",
        "\r\n"
      ],
      "execution_count": 15,
      "outputs": [
        {
          "output_type": "stream",
          "text": [
            "hi ssr\n"
          ],
          "name": "stdout"
        }
      ]
    },
    {
      "cell_type": "code",
      "metadata": {
        "colab": {
          "base_uri": "https://localhost:8080/"
        },
        "id": "Npyk9PmkR__A",
        "outputId": "20160e95-78ab-4609-c6bf-bbe2926eca57"
      },
      "source": [
        "def ssr_new1(*a1):\r\n",
        "  print('sssd',a1)\r\n",
        "ssr_new1('hi','how','are')"
      ],
      "execution_count": 27,
      "outputs": [
        {
          "output_type": "stream",
          "text": [
            "sssd ('hi', 'how', 'are')\n"
          ],
          "name": "stdout"
        }
      ]
    },
    {
      "cell_type": "code",
      "metadata": {
        "colab": {
          "base_uri": "https://localhost:8080/"
        },
        "id": "qwtCqHe_Sx4v",
        "outputId": "c8d2af58-bcae-4d07-d9b0-f19d62c51dca"
      },
      "source": [
        "def ssr_new1(**a1):\r\n",
        "  print('sssd',a1[\"see\"])\r\n",
        "\r\n",
        "ssr_new1(se='aa',see='bb',sed='cc')"
      ],
      "execution_count": 38,
      "outputs": [
        {
          "output_type": "stream",
          "text": [
            "sssd bb\n"
          ],
          "name": "stdout"
        }
      ]
    },
    {
      "cell_type": "code",
      "metadata": {
        "colab": {
          "base_uri": "https://localhost:8080/"
        },
        "id": "NonfzGtWUxtA",
        "outputId": "dd4b4281-13d7-4028-e97e-752b213faf9b"
      },
      "source": [
        "def my_function(country = \"Norway\"):\r\n",
        "  print(\"I am from \" + country)\r\n",
        "\r\n",
        "my_function(\"Sweden\")\r\n",
        "my_function(\"India\")\r\n",
        "my_function()\r\n",
        "my_function(\"Brazil\")"
      ],
      "execution_count": 39,
      "outputs": [
        {
          "output_type": "stream",
          "text": [
            "I am from Sweden\n",
            "I am from India\n",
            "I am from Norway\n",
            "I am from Brazil\n"
          ],
          "name": "stdout"
        }
      ]
    },
    {
      "cell_type": "code",
      "metadata": {
        "colab": {
          "base_uri": "https://localhost:8080/",
          "height": 35
        },
        "id": "WXenvfnTVA2X",
        "outputId": "462f00f4-c5a6-49a3-b8b9-6cea655c9eee"
      },
      "source": [
        "def ss_fuc(sss):\r\n",
        "  for i in sss:\r\n",
        "    return(i*2)\r\n",
        "\r\n",
        "ss_fuc(['ss','ssr'])\r\n"
      ],
      "execution_count": 46,
      "outputs": [
        {
          "output_type": "execute_result",
          "data": {
            "application/vnd.google.colaboratory.intrinsic+json": {
              "type": "string"
            },
            "text/plain": [
              "'ssss'"
            ]
          },
          "metadata": {
            "tags": []
          },
          "execution_count": 46
        }
      ]
    },
    {
      "cell_type": "code",
      "metadata": {
        "id": "A-0EGycWW-Yw"
      },
      "source": [
        "def ss_method(aa):\r\n",
        "  pass"
      ],
      "execution_count": 48,
      "outputs": []
    },
    {
      "cell_type": "code",
      "metadata": {
        "colab": {
          "base_uri": "https://localhost:8080/"
        },
        "id": "Y0wvlWJ_Xm23",
        "outputId": "7b6c3a69-fe0a-44dc-cc55-7e576bb662f7"
      },
      "source": [
        "def tri_recursion11(k):\r\n",
        "  if(k > 0):\r\n",
        "    result = k + tri_recursion11(k - 1)\r\n",
        "    print(result)\r\n",
        "  else:\r\n",
        "    result = 0\r\n",
        "  return result\r\n",
        "\r\n",
        "print(\"\\n\\nRecursion Example Results\")\r\n",
        "tri_recursion11(6)"
      ],
      "execution_count": 58,
      "outputs": [
        {
          "output_type": "stream",
          "text": [
            "\n",
            "\n",
            "Recursion Example Results\n",
            "1\n",
            "3\n",
            "6\n",
            "10\n",
            "15\n",
            "21\n"
          ],
          "name": "stdout"
        },
        {
          "output_type": "execute_result",
          "data": {
            "text/plain": [
              "21"
            ]
          },
          "metadata": {
            "tags": []
          },
          "execution_count": 58
        }
      ]
    },
    {
      "cell_type": "code",
      "metadata": {
        "colab": {
          "base_uri": "https://localhost:8080/"
        },
        "id": "1uZles-OZ0Rn",
        "outputId": "6d22e9af-48a9-4ce2-d023-d8be0c2705a2"
      },
      "source": [
        "def tri_sse(k):\r\n",
        "  if(k > 0):\r\n",
        "    result = k + tri_sse(k - 1)\r\n",
        "    print(result)\r\n",
        "  else:\r\n",
        "    result = 0\r\n",
        "  return result\r\n",
        "\r\n",
        "print(\"\\n\\nRecursion Example Results\")\r\n",
        "tri_sse(3)"
      ],
      "execution_count": 60,
      "outputs": [
        {
          "output_type": "stream",
          "text": [
            "\n",
            "\n",
            "Recursion Example Results\n",
            "1\n",
            "3\n",
            "6\n"
          ],
          "name": "stdout"
        },
        {
          "output_type": "execute_result",
          "data": {
            "text/plain": [
              "6"
            ]
          },
          "metadata": {
            "tags": []
          },
          "execution_count": 60
        }
      ]
    },
    {
      "cell_type": "code",
      "metadata": {
        "colab": {
          "base_uri": "https://localhost:8080/"
        },
        "id": "xhkP0dEBda16",
        "outputId": "9f8bf9b9-df11-47b8-f332-f0ea7d245e51"
      },
      "source": [
        "def ssr_ide(a1,a2):\r\n",
        "  if a1>a2:\r\n",
        "    return a1\r\n",
        "  else:\r\n",
        "        return a2\r\n",
        "\r\n",
        "ssr_ide(1,10)\r\n"
      ],
      "execution_count": 63,
      "outputs": [
        {
          "output_type": "execute_result",
          "data": {
            "text/plain": [
              "10"
            ]
          },
          "metadata": {
            "tags": []
          },
          "execution_count": 63
        }
      ]
    },
    {
      "cell_type": "code",
      "metadata": {
        "colab": {
          "base_uri": "https://localhost:8080/"
        },
        "id": "h_O_zuqgd9vP",
        "outputId": "7458051d-97be-4638-8d64-3a1231a0d378"
      },
      "source": [
        "def ssr_add(a1,a2):\r\n",
        "  print( a1+a2)\r\n",
        "\r\n",
        "ssr_add(10,12)"
      ],
      "execution_count": 65,
      "outputs": [
        {
          "output_type": "stream",
          "text": [
            "22\n"
          ],
          "name": "stdout"
        }
      ]
    },
    {
      "cell_type": "code",
      "metadata": {
        "colab": {
          "base_uri": "https://localhost:8080/"
        },
        "id": "u_CedA9Jfmi0",
        "outputId": "36a791da-c2b3-4cae-beb5-657ba5009773"
      },
      "source": [
        "def printme( str ):\r\n",
        "   \"This prints a passed string into this function\"\r\n",
        "   print (str)\r\n",
        "\r\n",
        "# Now you can call printme function\r\n",
        "printme(\"I'm first call to user defined function!\")\r\n",
        "printme(\"Again second call to the same function\")"
      ],
      "execution_count": 68,
      "outputs": [
        {
          "output_type": "stream",
          "text": [
            "I'm first call to user defined function!\n",
            "Again second call to the same function\n"
          ],
          "name": "stdout"
        }
      ]
    },
    {
      "cell_type": "code",
      "metadata": {
        "colab": {
          "base_uri": "https://localhost:8080/"
        },
        "id": "x53NAIG_f6cW",
        "outputId": "e638f892-522c-4058-fd0f-3cce4a6f6243"
      },
      "source": [
        "def ss_list(a1):\r\n",
        "  a1.append([1,2,3])\r\n",
        "  ##list=list_1.append(a1)\r\n",
        "  print('elements are',a1)\r\n",
        "\r\n",
        "ss_list([4,5,6]) "
      ],
      "execution_count": 83,
      "outputs": [
        {
          "output_type": "stream",
          "text": [
            "elements are [4, 5, 6, [1, 2, 3]]\n"
          ],
          "name": "stdout"
        }
      ]
    },
    {
      "cell_type": "code",
      "metadata": {
        "colab": {
          "base_uri": "https://localhost:8080/"
        },
        "id": "4BcbaiXewo0A",
        "outputId": "5b3de153-f948-4de0-ecc7-cc6208462ad6"
      },
      "source": [
        "def factorial(x):\r\n",
        "    if x==1:\r\n",
        "        return 1\r\n",
        "    else:\r\n",
        "        return x*factorial(x-1)\r\n",
        "\r\n",
        "f=factorial(1)\r\n",
        "print (\"factorial of 5 is \",f)\r\n",
        "\r\n",
        "def factorial(n): \r\n",
        "      \r\n",
        "    # single line to find factorial \r\n",
        "    return 1 if (n==1 or n==0) else n * factorial(n - 1);\r\n",
        "\r\n",
        "f=factorial(2)\r\n",
        "print (\"factorial of 5 is \",f)\r\n"
      ],
      "execution_count": 91,
      "outputs": [
        {
          "output_type": "stream",
          "text": [
            "factorial of 5 is  1\n",
            "factorial of 5 is  2\n"
          ],
          "name": "stdout"
        }
      ]
    },
    {
      "cell_type": "code",
      "metadata": {
        "colab": {
          "base_uri": "https://localhost:8080/"
        },
        "id": "viM8aNLJynvR",
        "outputId": "45ff4ba7-fe7d-4405-aabf-42df674f9a33"
      },
      "source": [
        "# Python program to display the Fibonacci sequence\r\n",
        "\r\n",
        "def recur_fibo(n):\r\n",
        "   if n <= 1:\r\n",
        "       return n\r\n",
        "   else:\r\n",
        "       return(recur_fibo(n-1) + recur_fibo(n-2))\r\n",
        "\r\n",
        "nterms = 10\r\n",
        "\r\n",
        "# check if the number of terms is valid\r\n",
        "if nterms <= 0:\r\n",
        "   print(\"Plese enter a positive integer\")\r\n",
        "else:\r\n",
        "   print(\"Fibonacci sequence:\")\r\n",
        "   for i in range(nterms):\r\n",
        "       print(recur_fibo(i))"
      ],
      "execution_count": 94,
      "outputs": [
        {
          "output_type": "stream",
          "text": [
            "Fibonacci sequence:\n",
            "0\n",
            "1\n",
            "1\n",
            "2\n",
            "3\n",
            "5\n",
            "8\n",
            "13\n",
            "21\n",
            "34\n"
          ],
          "name": "stdout"
        }
      ]
    },
    {
      "cell_type": "code",
      "metadata": {
        "colab": {
          "base_uri": "https://localhost:8080/"
        },
        "id": "rd5UtRiJYcl3",
        "outputId": "0d74ae6f-efd5-4df4-8a4d-56d08e1e08c0"
      },
      "source": [
        "class Person:\r\n",
        "  def __init__(self, name, age):\r\n",
        "    self.name = name\r\n",
        "    self.age = age\r\n",
        "\r\n",
        "p1 = Person(\"John\", 36)\r\n",
        "\r\n",
        "print(p1.name)\r\n",
        "print(p1.age)"
      ],
      "execution_count": 95,
      "outputs": [
        {
          "output_type": "stream",
          "text": [
            "John\n",
            "36\n"
          ],
          "name": "stdout"
        }
      ]
    },
    {
      "cell_type": "code",
      "metadata": {
        "colab": {
          "base_uri": "https://localhost:8080/"
        },
        "id": "mj2ayuJ6EICX",
        "outputId": "4e6d3206-7f14-4155-fc37-8fdf6f6ef134"
      },
      "source": [
        "class Person:\r\n",
        "  def __init__(mysillyobject, name, age):\r\n",
        "    mysillyobject.name = name\r\n",
        "    mysillyobject.age = age\r\n",
        "\r\n",
        "  def myfunc(abc):\r\n",
        "    print(\"Hello my name is \" + abc.name)\r\n",
        "    print(\"Hello my age is \" , abc.age)\r\n",
        "\r\n",
        "\r\n",
        "p1 = Person(\"John\", 36)\r\n",
        "p1.myfunc()"
      ],
      "execution_count": 103,
      "outputs": [
        {
          "output_type": "stream",
          "text": [
            "Hello my name is John\n",
            "Hello my age is  36\n"
          ],
          "name": "stdout"
        }
      ]
    },
    {
      "cell_type": "code",
      "metadata": {
        "id": "wjcvbBfeENHc"
      },
      "source": [
        "p1.age = 40\r\n"
      ],
      "execution_count": 104,
      "outputs": []
    },
    {
      "cell_type": "code",
      "metadata": {
        "id": "J0G-HfKgERFp"
      },
      "source": [
        "del p1.age"
      ],
      "execution_count": 105,
      "outputs": []
    },
    {
      "cell_type": "code",
      "metadata": {
        "id": "YZjQ6KDGFDAV"
      },
      "source": [
        "del p1"
      ],
      "execution_count": 106,
      "outputs": []
    }
  ]
}