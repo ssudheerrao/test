{
  "nbformat": 4,
  "nbformat_minor": 0,
  "metadata": {
    "colab": {
      "name": "Untitled5.ipynb",
      "provenance": [],
      "authorship_tag": "ABX9TyOTqBP8q+ErVFPwtGvt7UAL",
      "include_colab_link": true
    },
    "kernelspec": {
      "name": "python3",
      "display_name": "Python 3"
    }
  },
  "cells": [
    {
      "cell_type": "markdown",
      "metadata": {
        "id": "view-in-github",
        "colab_type": "text"
      },
      "source": [
        "<a href=\"https://colab.research.google.com/github/ssudheerrao/test/blob/master/OLS_and_Linear_Reg_testing.ipynb\" target=\"_parent\"><img src=\"https://colab.research.google.com/assets/colab-badge.svg\" alt=\"Open In Colab\"/></a>"
      ]
    },
    {
      "cell_type": "code",
      "metadata": {
        "id": "_3C3z7OiGZMJ",
        "colab_type": "code",
        "colab": {}
      },
      "source": [
        "from __future__ import print_function\n",
        "import sys,tempfile, urllib, os\n",
        "import pandas as pd"
      ],
      "execution_count": 0,
      "outputs": []
    },
    {
      "cell_type": "code",
      "metadata": {
        "id": "2waJDuAVGyOg",
        "colab_type": "code",
        "colab": {}
      },
      "source": [
        "BASE_DIR = tempfile.mkdtemp(prefix='tfx-data1')\n",
        "OUTPUT_FILE = os.path.join(BASE_DIR, 'churn_data_st.csv')"
      ],
      "execution_count": 0,
      "outputs": []
    },
    {
      "cell_type": "code",
      "metadata": {
        "id": "xA8GWd2-G3PF",
        "colab_type": "code",
        "colab": {}
      },
      "source": [
        "bank_data=urllib.request.urlretrieve('https://raw.githubusercontent.com/bhattbhavesh91/linear-regression-assumptions/master/data.csv', OUTPUT_FILE)\n",
        "#bank_data.shape()"
      ],
      "execution_count": 0,
      "outputs": []
    },
    {
      "cell_type": "code",
      "metadata": {
        "id": "xVfYyToIJqML",
        "colab_type": "code",
        "colab": {
          "base_uri": "https://localhost:8080/",
          "height": 402
        },
        "outputId": "d697e185-5900-46de-bc46-201e12c93462"
      },
      "source": [
        "df = pd.read_csv(OUTPUT_FILE)\n",
        "df"
      ],
      "execution_count": 4,
      "outputs": [
        {
          "output_type": "execute_result",
          "data": {
            "text/html": [
              "<div>\n",
              "<style scoped>\n",
              "    .dataframe tbody tr th:only-of-type {\n",
              "        vertical-align: middle;\n",
              "    }\n",
              "\n",
              "    .dataframe tbody tr th {\n",
              "        vertical-align: top;\n",
              "    }\n",
              "\n",
              "    .dataframe thead th {\n",
              "        text-align: right;\n",
              "    }\n",
              "</style>\n",
              "<table border=\"1\" class=\"dataframe\">\n",
              "  <thead>\n",
              "    <tr style=\"text-align: right;\">\n",
              "      <th></th>\n",
              "      <th>Feature 1</th>\n",
              "      <th>Feature 2</th>\n",
              "      <th>Feature 3</th>\n",
              "      <th>Target</th>\n",
              "    </tr>\n",
              "  </thead>\n",
              "  <tbody>\n",
              "    <tr>\n",
              "      <th>0</th>\n",
              "      <td>230.1</td>\n",
              "      <td>37.8</td>\n",
              "      <td>69.2</td>\n",
              "      <td>22.1</td>\n",
              "    </tr>\n",
              "    <tr>\n",
              "      <th>1</th>\n",
              "      <td>44.5</td>\n",
              "      <td>39.3</td>\n",
              "      <td>45.1</td>\n",
              "      <td>10.4</td>\n",
              "    </tr>\n",
              "    <tr>\n",
              "      <th>2</th>\n",
              "      <td>17.2</td>\n",
              "      <td>45.9</td>\n",
              "      <td>69.3</td>\n",
              "      <td>9.3</td>\n",
              "    </tr>\n",
              "    <tr>\n",
              "      <th>3</th>\n",
              "      <td>151.5</td>\n",
              "      <td>41.3</td>\n",
              "      <td>58.5</td>\n",
              "      <td>18.5</td>\n",
              "    </tr>\n",
              "    <tr>\n",
              "      <th>4</th>\n",
              "      <td>180.8</td>\n",
              "      <td>10.8</td>\n",
              "      <td>58.4</td>\n",
              "      <td>12.9</td>\n",
              "    </tr>\n",
              "    <tr>\n",
              "      <th>...</th>\n",
              "      <td>...</td>\n",
              "      <td>...</td>\n",
              "      <td>...</td>\n",
              "      <td>...</td>\n",
              "    </tr>\n",
              "    <tr>\n",
              "      <th>195</th>\n",
              "      <td>38.2</td>\n",
              "      <td>3.7</td>\n",
              "      <td>13.8</td>\n",
              "      <td>7.6</td>\n",
              "    </tr>\n",
              "    <tr>\n",
              "      <th>196</th>\n",
              "      <td>94.2</td>\n",
              "      <td>4.9</td>\n",
              "      <td>8.1</td>\n",
              "      <td>9.7</td>\n",
              "    </tr>\n",
              "    <tr>\n",
              "      <th>197</th>\n",
              "      <td>177.0</td>\n",
              "      <td>9.3</td>\n",
              "      <td>6.4</td>\n",
              "      <td>12.8</td>\n",
              "    </tr>\n",
              "    <tr>\n",
              "      <th>198</th>\n",
              "      <td>283.6</td>\n",
              "      <td>42.0</td>\n",
              "      <td>66.2</td>\n",
              "      <td>25.5</td>\n",
              "    </tr>\n",
              "    <tr>\n",
              "      <th>199</th>\n",
              "      <td>232.1</td>\n",
              "      <td>8.6</td>\n",
              "      <td>8.7</td>\n",
              "      <td>13.4</td>\n",
              "    </tr>\n",
              "  </tbody>\n",
              "</table>\n",
              "<p>200 rows × 4 columns</p>\n",
              "</div>"
            ],
            "text/plain": [
              "     Feature 1  Feature 2  Feature 3  Target\n",
              "0        230.1       37.8       69.2    22.1\n",
              "1         44.5       39.3       45.1    10.4\n",
              "2         17.2       45.9       69.3     9.3\n",
              "3        151.5       41.3       58.5    18.5\n",
              "4        180.8       10.8       58.4    12.9\n",
              "..         ...        ...        ...     ...\n",
              "195       38.2        3.7       13.8     7.6\n",
              "196       94.2        4.9        8.1     9.7\n",
              "197      177.0        9.3        6.4    12.8\n",
              "198      283.6       42.0       66.2    25.5\n",
              "199      232.1        8.6        8.7    13.4\n",
              "\n",
              "[200 rows x 4 columns]"
            ]
          },
          "metadata": {
            "tags": []
          },
          "execution_count": 4
        }
      ]
    },
    {
      "cell_type": "code",
      "metadata": {
        "id": "OUzmQL7zMwxh",
        "colab_type": "code",
        "colab": {
          "base_uri": "https://localhost:8080/",
          "height": 70
        },
        "outputId": "bc484999-ebd8-461a-d9fe-d6e70c7c1ce8"
      },
      "source": [
        "\n",
        "import matplotlib.pyplot as plt\n",
        "import numpy as np\n",
        "import pandas as pd\n",
        "import scipy as sp\n",
        "import seaborn as sns\n",
        "import statsmodels.api as sm\n",
        "import statsmodels.tsa.api as smt\n",
        "import warnings\n",
        "from google.colab import drive\n",
        "from sklearn.linear_model import LinearRegression\n",
        "from sklearn.model_selection import train_test_split\n",
        "from statsmodels.stats.outliers_influence import variance_inflation_factor"
      ],
      "execution_count": 5,
      "outputs": [
        {
          "output_type": "stream",
          "text": [
            "/usr/local/lib/python3.6/dist-packages/statsmodels/tools/_testing.py:19: FutureWarning: pandas.util.testing is deprecated. Use the functions in the public API at pandas.testing instead.\n",
            "  import pandas.util.testing as tm\n"
          ],
          "name": "stderr"
        }
      ]
    },
    {
      "cell_type": "code",
      "metadata": {
        "id": "OqsPAL_aM9Ox",
        "colab_type": "code",
        "colab": {}
      },
      "source": [
        "target_col = \"Target\"\n",
        "\n",
        "X = df.loc[:, df.columns != target_col]\n",
        "y = df.loc[:, target_col]"
      ],
      "execution_count": 0,
      "outputs": []
    },
    {
      "cell_type": "code",
      "metadata": {
        "id": "QOe9VvK-NEsh",
        "colab_type": "code",
        "colab": {}
      },
      "source": [
        "\n",
        "# Split the data into train and test with 70% data being used for training\n",
        "X_train, X_test, y_train, y_test = train_test_split(X, y, \n",
        "                                                    test_size=0.30, \n",
        "                                                    random_state=42)"
      ],
      "execution_count": 0,
      "outputs": []
    },
    {
      "cell_type": "code",
      "metadata": {
        "id": "-jlCT5j4NHs6",
        "colab_type": "code",
        "colab": {}
      },
      "source": [
        "X_with_constant = sm.add_constant(X_train)\n",
        "model = sm.OLS(y_train, X_with_constant)"
      ],
      "execution_count": 0,
      "outputs": []
    },
    {
      "cell_type": "code",
      "metadata": {
        "id": "bRS2ZlplNLYi",
        "colab_type": "code",
        "colab": {
          "base_uri": "https://localhost:8080/",
          "height": 101
        },
        "outputId": "dd017bc8-091a-4592-99ad-63c3d48a4063"
      },
      "source": [
        "results = model.fit()\n",
        "results.params"
      ],
      "execution_count": 9,
      "outputs": [
        {
          "output_type": "execute_result",
          "data": {
            "text/plain": [
              "const        2.708949\n",
              "Feature 1    0.044059\n",
              "Feature 2    0.199287\n",
              "Feature 3    0.006882\n",
              "dtype: float64"
            ]
          },
          "metadata": {
            "tags": []
          },
          "execution_count": 9
        }
      ]
    },
    {
      "cell_type": "code",
      "metadata": {
        "id": "07-x70I0NO5r",
        "colab_type": "code",
        "colab": {
          "base_uri": "https://localhost:8080/",
          "height": 470
        },
        "outputId": "27af6cda-9e6c-45a2-8e7a-fec58c39d736"
      },
      "source": [
        "print(results.summary())"
      ],
      "execution_count": 10,
      "outputs": [
        {
          "output_type": "stream",
          "text": [
            "                            OLS Regression Results                            \n",
            "==============================================================================\n",
            "Dep. Variable:                 Target   R-squared:                       0.906\n",
            "Model:                            OLS   Adj. R-squared:                  0.903\n",
            "Method:                 Least Squares   F-statistic:                     434.5\n",
            "Date:                Wed, 13 May 2020   Prob (F-statistic):           1.88e-69\n",
            "Time:                        14:18:27   Log-Likelihood:                -262.21\n",
            "No. Observations:                 140   AIC:                             532.4\n",
            "Df Residuals:                     136   BIC:                             544.2\n",
            "Df Model:                           3                                         \n",
            "Covariance Type:            nonrobust                                         \n",
            "==============================================================================\n",
            "                 coef    std err          t      P>|t|      [0.025      0.975]\n",
            "------------------------------------------------------------------------------\n",
            "const          2.7089      0.374      7.250      0.000       1.970       3.448\n",
            "Feature 1      0.0441      0.002     27.219      0.000       0.041       0.047\n",
            "Feature 2      0.1993      0.010     20.195      0.000       0.180       0.219\n",
            "Feature 3      0.0069      0.007      0.988      0.325      -0.007       0.021\n",
            "==============================================================================\n",
            "Omnibus:                       68.437   Durbin-Watson:                   2.285\n",
            "Prob(Omnibus):                  0.000   Jarque-Bera (JB):              325.342\n",
            "Skew:                          -1.709   Prob(JB):                     2.25e-71\n",
            "Kurtosis:                       9.640   Cond. No.                         500.\n",
            "==============================================================================\n",
            "\n",
            "Warnings:\n",
            "[1] Standard Errors assume that the covariance matrix of the errors is correctly specified.\n"
          ],
          "name": "stdout"
        }
      ]
    },
    {
      "cell_type": "code",
      "metadata": {
        "id": "Z0y99JDMWQNV",
        "colab_type": "code",
        "colab": {
          "base_uri": "https://localhost:8080/",
          "height": 1000
        },
        "outputId": "8099171a-a700-48fd-91ec-62f6542f23a0"
      },
      "source": [
        "X_test = sm.add_constant(X_test)\n",
        "y_pred = results.predict(X_test)\n",
        "y_pred"
      ],
      "execution_count": 11,
      "outputs": [
        {
          "output_type": "execute_result",
          "data": {
            "text/plain": [
              "95     16.565396\n",
              "15     21.188228\n",
              "30     21.551071\n",
              "158    10.889238\n",
              "128    22.202320\n",
              "115    13.355569\n",
              "69     21.196925\n",
              "170     7.350285\n",
              "174    13.275471\n",
              "45     15.124495\n",
              "66      9.014430\n",
              "182     6.525428\n",
              "165    14.302060\n",
              "78      8.970260\n",
              "186     9.456796\n",
              "177    12.004544\n",
              "56      8.915494\n",
              "152    16.156193\n",
              "82     10.295829\n",
              "68     18.724736\n",
              "124    19.768218\n",
              "16     13.774690\n",
              "148    12.496389\n",
              "93     21.535018\n",
              "65      7.608607\n",
              "60      5.611980\n",
              "84     20.917595\n",
              "67     11.806277\n",
              "125     9.080766\n",
              "132     8.514120\n",
              "9      12.176049\n",
              "18      9.969194\n",
              "55     21.730090\n",
              "75     12.777706\n",
              "150    18.101136\n",
              "104    20.075908\n",
              "135    14.262026\n",
              "137    20.938265\n",
              "164    10.839388\n",
              "76      4.381906\n",
              "79      9.513324\n",
              "197    12.404863\n",
              "38     10.170454\n",
              "24      8.090814\n",
              "122    13.163884\n",
              "195     5.224355\n",
              "29      9.288938\n",
              "19     14.093307\n",
              "143     8.690245\n",
              "86     11.661198\n",
              "114    15.718484\n",
              "173    11.631569\n",
              "5      13.353607\n",
              "126    11.153147\n",
              "117     6.336368\n",
              "73      9.761580\n",
              "140     9.419571\n",
              "98     24.255165\n",
              "172     7.695191\n",
              "96     12.153176\n",
              "dtype: float64"
            ]
          },
          "metadata": {
            "tags": []
          },
          "execution_count": 11
        }
      ]
    },
    {
      "cell_type": "code",
      "metadata": {
        "id": "JgqeJ6bPWmy_",
        "colab_type": "code",
        "colab": {
          "base_uri": "https://localhost:8080/",
          "height": 34
        },
        "outputId": "08621795-3893-4a43-cda6-9963df2cf552"
      },
      "source": [
        "from sklearn.metrics import mean_squared_error, mean_absolute_error,r2_score\n",
        "mse=mean_squared_error(y_pred,y_test)\n",
        "mae=mean_absolute_error(y_pred,y_test)\n",
        "rs=r2_score(y_pred,y_test)\n",
        "#mape=np.mean(np.abs(y_test,y_pred)/y_test)*100\n",
        "\n",
        "print(\"scores 2.f%\", mse,mae,rs)\n",
        "#print(\"scores 2.f%\", mape)"
      ],
      "execution_count": 12,
      "outputs": [
        {
          "output_type": "stream",
          "text": [
            "scores 2.f% 3.796797236715215 1.5116692224549082 0.8467730707328176\n"
          ],
          "name": "stdout"
        }
      ]
    },
    {
      "cell_type": "code",
      "metadata": {
        "id": "RsC0B60OZFna",
        "colab_type": "code",
        "colab": {}
      },
      "source": [
        "X_train, X_test, y_train, y_test = train_test_split(X, y, \n",
        "                                                    test_size=0.30, \n",
        "                                                    random_state=42)"
      ],
      "execution_count": 0,
      "outputs": []
    },
    {
      "cell_type": "code",
      "metadata": {
        "id": "cJowU4YzS1c9",
        "colab_type": "code",
        "colab": {}
      },
      "source": [
        "from sklearn.linear_model import LinearRegression\n",
        "regressor = LinearRegression()\n",
        "regressor.fit(X_train, y_train)\n",
        "regressor.score(X_train, y_train)\n",
        "y_pred = regressor.predict(X_test)"
      ],
      "execution_count": 0,
      "outputs": []
    },
    {
      "cell_type": "code",
      "metadata": {
        "id": "4Mzb19w-NzaL",
        "colab_type": "code",
        "colab": {
          "base_uri": "https://localhost:8080/",
          "height": 50
        },
        "outputId": "5128c6cd-4cec-4d76-8fcc-6d913e883589"
      },
      "source": [
        "from sklearn.metrics import mean_squared_error, mean_absolute_error,r2_score\n",
        "mse=mean_squared_error(y_pred,y_test)\n",
        "mae=mean_absolute_error(y_pred,y_test)\n",
        "rs=r2_score(y_pred,y_test)\n",
        "mape=np.mean(np.abs(y_test,y_pred)/y_test)*100\n",
        "\n",
        "print(\"scores 2.f%\", mse,mae,rs)\n",
        "print(\"scores 2.f%\", mape)"
      ],
      "execution_count": 15,
      "outputs": [
        {
          "output_type": "stream",
          "text": [
            "scores 2.f% 3.796797236715219 1.5116692224549086 0.8467730707328176\n",
            "scores 2.f% 100.0\n"
          ],
          "name": "stdout"
        }
      ]
    }
  ]
}