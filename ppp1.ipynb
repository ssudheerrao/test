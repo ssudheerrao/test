{
  "nbformat": 4,
  "nbformat_minor": 0,
  "metadata": {
    "colab": {
      "name": "Untitled8.ipynb",
      "provenance": [],
      "authorship_tag": "ABX9TyOu7qevqtP8cjFUL14vdbcF",
      "include_colab_link": true
    },
    "kernelspec": {
      "name": "python3",
      "display_name": "Python 3"
    }
  },
  "cells": [
    {
      "cell_type": "markdown",
      "metadata": {
        "id": "view-in-github",
        "colab_type": "text"
      },
      "source": [
        "<a href=\"https://colab.research.google.com/github/ssudheerrao/test/blob/master/ppp1.ipynb\" target=\"_parent\"><img src=\"https://colab.research.google.com/assets/colab-badge.svg\" alt=\"Open In Colab\"/></a>"
      ]
    },
    {
      "cell_type": "code",
      "metadata": {
        "id": "-cBlLFr_leXR"
      },
      "source": [
        "def ssd():\r\n",
        "  print('sudheer python')\r\n",
        "\r\n",
        "ssd()"
      ],
      "execution_count": null,
      "outputs": []
    },
    {
      "cell_type": "code",
      "metadata": {
        "id": "W6_En8wHRYYJ"
      },
      "source": [
        "def ssr_new(a1,a2):\r\n",
        "  print(a1,\"ssr\")\r\n",
        "\r\n",
        "ssr_new('hi','how')\r\n",
        "\r\n"
      ],
      "execution_count": null,
      "outputs": []
    },
    {
      "cell_type": "code",
      "metadata": {
        "id": "Npyk9PmkR__A"
      },
      "source": [
        "def ssr_new1(*a1):\r\n",
        "  print('sssd',a1)\r\n",
        "ssr_new1('hi','how','are')"
      ],
      "execution_count": null,
      "outputs": []
    },
    {
      "cell_type": "code",
      "metadata": {
        "id": "qwtCqHe_Sx4v"
      },
      "source": [
        "def ssr_new1(**a1):\r\n",
        "  print('sssd',a1[\"see\"])\r\n",
        "\r\n",
        "ssr_new1(se='aa',see='bb',sed='cc')"
      ],
      "execution_count": null,
      "outputs": []
    },
    {
      "cell_type": "code",
      "metadata": {
        "id": "NonfzGtWUxtA"
      },
      "source": [
        "def my_function(country = \"Norway\"):\r\n",
        "  print(\"I am from \" + country)\r\n",
        "\r\n",
        "my_function(\"Sweden\")\r\n",
        "my_function(\"India\")\r\n",
        "my_function()\r\n",
        "my_function(\"Brazil\")"
      ],
      "execution_count": null,
      "outputs": []
    },
    {
      "cell_type": "code",
      "metadata": {
        "id": "WXenvfnTVA2X"
      },
      "source": [
        "def ss_fuc(sss):\r\n",
        "  for i in sss:\r\n",
        "    return(i*2)\r\n",
        "\r\n",
        "ss_fuc(['ss','ssr'])\r\n"
      ],
      "execution_count": null,
      "outputs": []
    },
    {
      "cell_type": "code",
      "metadata": {
        "id": "A-0EGycWW-Yw"
      },
      "source": [
        "def ss_method(aa):\r\n",
        "  pass"
      ],
      "execution_count": null,
      "outputs": []
    },
    {
      "cell_type": "code",
      "metadata": {
        "id": "Y0wvlWJ_Xm23"
      },
      "source": [
        "def tri_recursion11(k):\r\n",
        "  if(k > 0):\r\n",
        "    result = k + tri_recursion11(k - 1)\r\n",
        "    print(result)\r\n",
        "  else:\r\n",
        "    result = 0\r\n",
        "  return result\r\n",
        "\r\n",
        "print(\"\\n\\nRecursion Example Results\")\r\n",
        "tri_recursion11(6)"
      ],
      "execution_count": null,
      "outputs": []
    },
    {
      "cell_type": "code",
      "metadata": {
        "id": "1uZles-OZ0Rn"
      },
      "source": [
        "def tri_sse(k):\r\n",
        "  if(k > 0):\r\n",
        "    result = k + tri_sse(k - 1)\r\n",
        "    print(result)\r\n",
        "  else:\r\n",
        "    result = 0\r\n",
        "  return result\r\n",
        "\r\n",
        "print(\"\\n\\nRecursion Example Results\")\r\n",
        "tri_sse(3)"
      ],
      "execution_count": null,
      "outputs": []
    },
    {
      "cell_type": "code",
      "metadata": {
        "id": "xhkP0dEBda16"
      },
      "source": [
        "def ssr_ide(a1,a2):\r\n",
        "  if a1>a2:\r\n",
        "    return a1\r\n",
        "  else:\r\n",
        "   return a2\r\n",
        "\r\n",
        "ssr_ide(1,10)\r\n"
      ],
      "execution_count": null,
      "outputs": []
    },
    {
      "cell_type": "code",
      "metadata": {
        "id": "h_O_zuqgd9vP"
      },
      "source": [
        "def ssr_add(a1,a2):\r\n",
        "  print( a1+a2)\r\n",
        "\r\n",
        "ssr_add(10,12)"
      ],
      "execution_count": null,
      "outputs": []
    },
    {
      "cell_type": "code",
      "metadata": {
        "id": "u_CedA9Jfmi0"
      },
      "source": [
        "def printme( str ):\r\n",
        "   \"This prints a passed string into this function\"\r\n",
        "   print (str)\r\n",
        "\r\n",
        "# Now you can call printme function\r\n",
        "printme(\"I'm first call to user defined function!\")\r\n",
        "printme(\"Again second call to the same function\")"
      ],
      "execution_count": null,
      "outputs": []
    },
    {
      "cell_type": "code",
      "metadata": {
        "id": "x53NAIG_f6cW"
      },
      "source": [
        "def ss_list(a1):\r\n",
        "  a1.append([1,2,3])\r\n",
        "  ##list=list_1.append(a1)\r\n",
        "  print('elements are',a1)\r\n",
        "\r\n",
        "ss_list([4,5,6]) "
      ],
      "execution_count": null,
      "outputs": []
    },
    {
      "cell_type": "code",
      "metadata": {
        "id": "4BcbaiXewo0A"
      },
      "source": [
        "def factorial(x):\r\n",
        "    if x==1:\r\n",
        "        return 1\r\n",
        "    else:\r\n",
        "        return x*factorial(x-1)\r\n",
        "\r\n",
        "f=factorial(1)\r\n",
        "print (\"factorial of 5 is \",f)\r\n",
        "\r\n",
        "def factorial(n): \r\n",
        "      \r\n",
        "    # single line to find factorial \r\n",
        "    return 1 if (n==1 or n==0) else n * factorial(n - 1);\r\n",
        "\r\n",
        "f=factorial(2)\r\n",
        "print (\"factorial of 5 is \",f)\r\n"
      ],
      "execution_count": null,
      "outputs": []
    },
    {
      "cell_type": "code",
      "metadata": {
        "id": "viM8aNLJynvR"
      },
      "source": [
        "# Python program to display the Fibonacci sequence\r\n",
        "\r\n",
        "def recur_fibo(n):\r\n",
        "   if n <= 1:\r\n",
        "       return n\r\n",
        "   else:\r\n",
        "       return(recur_fibo(n-1) + recur_fibo(n-2))\r\n",
        "\r\n",
        "nterms = 10\r\n",
        "\r\n",
        "# check if the number of terms is valid\r\n",
        "if nterms <= 0:\r\n",
        "   print(\"Plese enter a positive integer\")\r\n",
        "else:\r\n",
        "   print(\"Fibonacci sequence:\")\r\n",
        "   for i in range(nterms):\r\n",
        "       print(recur_fibo(i))"
      ],
      "execution_count": null,
      "outputs": []
    },
    {
      "cell_type": "code",
      "metadata": {
        "id": "rd5UtRiJYcl3"
      },
      "source": [
        "class Person:\r\n",
        "  def __init__(self, name, age):\r\n",
        "    self.name = name\r\n",
        "    self.age = age\r\n",
        "\r\n",
        "p1 = Person(\"John\", 36)\r\n",
        "\r\n",
        "print(p1.name)\r\n",
        "print(p1.age)"
      ],
      "execution_count": null,
      "outputs": []
    },
    {
      "cell_type": "code",
      "metadata": {
        "id": "mj2ayuJ6EICX"
      },
      "source": [
        "class Person:\r\n",
        "  def __init__(mysillyobject, name, age):\r\n",
        "    mysillyobject.name = name\r\n",
        "    mysillyobject.age = age\r\n",
        "\r\n",
        "  def myfunc(abc):\r\n",
        "    print(\"Hello my name is \" + abc.name)\r\n",
        "    print(\"Hello my age is \" , abc.age)\r\n",
        "\r\n",
        "\r\n",
        "p1 = Person(\"John\", 36)\r\n",
        "p1.myfunc()"
      ],
      "execution_count": null,
      "outputs": []
    },
    {
      "cell_type": "code",
      "metadata": {
        "id": "wjcvbBfeENHc"
      },
      "source": [
        "p1.age = 40\r\n"
      ],
      "execution_count": null,
      "outputs": []
    },
    {
      "cell_type": "code",
      "metadata": {
        "id": "J0G-HfKgERFp"
      },
      "source": [
        "del p1.age"
      ],
      "execution_count": null,
      "outputs": []
    },
    {
      "cell_type": "code",
      "metadata": {
        "id": "YZjQ6KDGFDAV"
      },
      "source": [
        "del p1"
      ],
      "execution_count": null,
      "outputs": []
    },
    {
      "cell_type": "code",
      "metadata": {
        "id": "6UEyB85HB8wY"
      },
      "source": [
        "class person:\r\n",
        "  pnmae='sudheer'\r\n",
        "  def __init__(self,age,weight):\r\n",
        "    self.age=age\r\n",
        "    self.weight=weight\r\n",
        "  def out_ss(self):\r\n",
        "    print(\"ss age\",self.age)\r\n",
        "    print('ss weight',self.weight)\r\n",
        "    print(\"ss age\",self.pnmae)\r\n",
        "\r\n",
        "p1=person(33,85)\r\n",
        "p1.out_ss()\r\n",
        "p1.pnmae\r\n"
      ],
      "execution_count": null,
      "outputs": []
    },
    {
      "cell_type": "code",
      "metadata": {
        "id": "QrZj3lV-nl-F"
      },
      "source": [
        "\r\n",
        "try:\r\n",
        "  a=2\r\n",
        "  b=0  \r\n",
        "  #print('sum of two',a/b)\r\n",
        "  c=int(input('enter value'))\r\n",
        "except ValueError as e:\r\n",
        "  print('value error')  \r\n",
        "except ZeroDivisionError as e:\r\n",
        "  print('zero division error')\r\n",
        "except Exception as e:\r\n",
        "  print('not possible', e)    \r\n",
        "finally:\r\n",
        "  print('official end')\r\n",
        "\r\n",
        "print('end')"
      ],
      "execution_count": null,
      "outputs": []
    },
    {
      "cell_type": "code",
      "metadata": {
        "id": "ifunvwEpvX1T"
      },
      "source": [
        "import pandas as pd\r\n",
        "from google.colab import files \r\n",
        "uploaded = files.upload()"
      ],
      "execution_count": null,
      "outputs": []
    },
    {
      "cell_type": "code",
      "metadata": {
        "id": "kwK5y1So896o",
        "colab": {
          "base_uri": "https://localhost:8080/"
        },
        "outputId": "4f74407b-7f1d-4e50-8bbf-52aacc634d35"
      },
      "source": [
        "import io \r\n",
        "df = pd.read_csv(io.BytesIO(uploaded['sss.csv'])) \r\n",
        "print(df)"
      ],
      "execution_count": 99,
      "outputs": [
        {
          "output_type": "stream",
          "text": [
            "    YearsExperience    Salary Class\n",
            "0               1.1   39343.0     A\n",
            "1               1.3   46205.0     A\n",
            "2               1.5   37731.0     A\n",
            "3               2.0   43525.0     A\n",
            "4               2.2   39891.0     A\n",
            "5               2.9   56642.0     A\n",
            "6               3.0   60150.0     A\n",
            "7               3.2       NaN   NaN\n",
            "8               3.2   64445.0   NaN\n",
            "9               3.7   57189.0   NaN\n",
            "10              3.9   63218.0     B\n",
            "11              4.0   55794.0     B\n",
            "12              4.0   56957.0     B\n",
            "13              4.1   57081.0     B\n",
            "14              4.5       NaN     B\n",
            "15              4.9   67938.0     B\n",
            "16              5.1   66029.0     B\n",
            "17              5.3       NaN     B\n",
            "18              5.9   81363.0     B\n",
            "19              6.0   93940.0     B\n",
            "20              6.8   91738.0     B\n",
            "21              7.1       NaN     B\n",
            "22              7.9  101302.0     B\n",
            "23              8.2       NaN     B\n",
            "24              8.7  109431.0     B\n",
            "25              9.0  105582.0     C\n",
            "26              9.5  116969.0     C\n",
            "27              9.6  112635.0     C\n",
            "28             10.3  122391.0     C\n",
            "29             10.5  121872.0     C\n"
          ],
          "name": "stdout"
        }
      ]
    },
    {
      "cell_type": "code",
      "metadata": {
        "id": "7_92Nta79EQ1"
      },
      "source": [
        "df[df.isnull().any(axis=1)]"
      ],
      "execution_count": null,
      "outputs": []
    },
    {
      "cell_type": "code",
      "metadata": {
        "id": "XT2r5ovJErQH"
      },
      "source": [
        "df_null=df[df.isnull()]\r\n",
        "df[df_null]"
      ],
      "execution_count": null,
      "outputs": []
    },
    {
      "cell_type": "code",
      "metadata": {
        "id": "kZ-aMOp3QyYE"
      },
      "source": [
        "df[df.isnull().T.any()]"
      ],
      "execution_count": null,
      "outputs": []
    },
    {
      "cell_type": "code",
      "metadata": {
        "id": "P5Pa9uIPSS-3"
      },
      "source": [
        "df.dropna(axis=0,inplace=True)\r\n",
        "df"
      ],
      "execution_count": null,
      "outputs": []
    },
    {
      "cell_type": "code",
      "metadata": {
        "id": "JZzGHUf-TXFj",
        "colab": {
          "base_uri": "https://localhost:8080/",
          "height": 950
        },
        "outputId": "dfd14b45-69f4-439d-dc7f-77c08f190b19"
      },
      "source": [
        "df.fillna(df.mean(),inplace=True)\r\n",
        "df"
      ],
      "execution_count": 93,
      "outputs": [
        {
          "output_type": "execute_result",
          "data": {
            "text/html": [
              "<div>\n",
              "<style scoped>\n",
              "    .dataframe tbody tr th:only-of-type {\n",
              "        vertical-align: middle;\n",
              "    }\n",
              "\n",
              "    .dataframe tbody tr th {\n",
              "        vertical-align: top;\n",
              "    }\n",
              "\n",
              "    .dataframe thead th {\n",
              "        text-align: right;\n",
              "    }\n",
              "</style>\n",
              "<table border=\"1\" class=\"dataframe\">\n",
              "  <thead>\n",
              "    <tr style=\"text-align: right;\">\n",
              "      <th></th>\n",
              "      <th>YearsExperience</th>\n",
              "      <th>Salary</th>\n",
              "      <th>Class</th>\n",
              "    </tr>\n",
              "  </thead>\n",
              "  <tbody>\n",
              "    <tr>\n",
              "      <th>0</th>\n",
              "      <td>1.1</td>\n",
              "      <td>39343.00</td>\n",
              "      <td>A</td>\n",
              "    </tr>\n",
              "    <tr>\n",
              "      <th>1</th>\n",
              "      <td>1.3</td>\n",
              "      <td>46205.00</td>\n",
              "      <td>A</td>\n",
              "    </tr>\n",
              "    <tr>\n",
              "      <th>2</th>\n",
              "      <td>1.5</td>\n",
              "      <td>37731.00</td>\n",
              "      <td>A</td>\n",
              "    </tr>\n",
              "    <tr>\n",
              "      <th>3</th>\n",
              "      <td>2.0</td>\n",
              "      <td>43525.00</td>\n",
              "      <td>A</td>\n",
              "    </tr>\n",
              "    <tr>\n",
              "      <th>4</th>\n",
              "      <td>2.2</td>\n",
              "      <td>39891.00</td>\n",
              "      <td>A</td>\n",
              "    </tr>\n",
              "    <tr>\n",
              "      <th>5</th>\n",
              "      <td>2.9</td>\n",
              "      <td>56642.00</td>\n",
              "      <td>A</td>\n",
              "    </tr>\n",
              "    <tr>\n",
              "      <th>6</th>\n",
              "      <td>3.0</td>\n",
              "      <td>60150.00</td>\n",
              "      <td>A</td>\n",
              "    </tr>\n",
              "    <tr>\n",
              "      <th>7</th>\n",
              "      <td>3.2</td>\n",
              "      <td>74774.44</td>\n",
              "      <td>NaN</td>\n",
              "    </tr>\n",
              "    <tr>\n",
              "      <th>8</th>\n",
              "      <td>3.2</td>\n",
              "      <td>64445.00</td>\n",
              "      <td>NaN</td>\n",
              "    </tr>\n",
              "    <tr>\n",
              "      <th>9</th>\n",
              "      <td>3.7</td>\n",
              "      <td>57189.00</td>\n",
              "      <td>NaN</td>\n",
              "    </tr>\n",
              "    <tr>\n",
              "      <th>10</th>\n",
              "      <td>3.9</td>\n",
              "      <td>63218.00</td>\n",
              "      <td>B</td>\n",
              "    </tr>\n",
              "    <tr>\n",
              "      <th>11</th>\n",
              "      <td>4.0</td>\n",
              "      <td>55794.00</td>\n",
              "      <td>B</td>\n",
              "    </tr>\n",
              "    <tr>\n",
              "      <th>12</th>\n",
              "      <td>4.0</td>\n",
              "      <td>56957.00</td>\n",
              "      <td>B</td>\n",
              "    </tr>\n",
              "    <tr>\n",
              "      <th>13</th>\n",
              "      <td>4.1</td>\n",
              "      <td>57081.00</td>\n",
              "      <td>B</td>\n",
              "    </tr>\n",
              "    <tr>\n",
              "      <th>14</th>\n",
              "      <td>4.5</td>\n",
              "      <td>74774.44</td>\n",
              "      <td>B</td>\n",
              "    </tr>\n",
              "    <tr>\n",
              "      <th>15</th>\n",
              "      <td>4.9</td>\n",
              "      <td>67938.00</td>\n",
              "      <td>B</td>\n",
              "    </tr>\n",
              "    <tr>\n",
              "      <th>16</th>\n",
              "      <td>5.1</td>\n",
              "      <td>66029.00</td>\n",
              "      <td>B</td>\n",
              "    </tr>\n",
              "    <tr>\n",
              "      <th>17</th>\n",
              "      <td>5.3</td>\n",
              "      <td>74774.44</td>\n",
              "      <td>B</td>\n",
              "    </tr>\n",
              "    <tr>\n",
              "      <th>18</th>\n",
              "      <td>5.9</td>\n",
              "      <td>81363.00</td>\n",
              "      <td>B</td>\n",
              "    </tr>\n",
              "    <tr>\n",
              "      <th>19</th>\n",
              "      <td>6.0</td>\n",
              "      <td>93940.00</td>\n",
              "      <td>B</td>\n",
              "    </tr>\n",
              "    <tr>\n",
              "      <th>20</th>\n",
              "      <td>6.8</td>\n",
              "      <td>91738.00</td>\n",
              "      <td>B</td>\n",
              "    </tr>\n",
              "    <tr>\n",
              "      <th>21</th>\n",
              "      <td>7.1</td>\n",
              "      <td>74774.44</td>\n",
              "      <td>B</td>\n",
              "    </tr>\n",
              "    <tr>\n",
              "      <th>22</th>\n",
              "      <td>7.9</td>\n",
              "      <td>101302.00</td>\n",
              "      <td>B</td>\n",
              "    </tr>\n",
              "    <tr>\n",
              "      <th>23</th>\n",
              "      <td>8.2</td>\n",
              "      <td>74774.44</td>\n",
              "      <td>B</td>\n",
              "    </tr>\n",
              "    <tr>\n",
              "      <th>24</th>\n",
              "      <td>8.7</td>\n",
              "      <td>109431.00</td>\n",
              "      <td>B</td>\n",
              "    </tr>\n",
              "    <tr>\n",
              "      <th>25</th>\n",
              "      <td>9.0</td>\n",
              "      <td>105582.00</td>\n",
              "      <td>C</td>\n",
              "    </tr>\n",
              "    <tr>\n",
              "      <th>26</th>\n",
              "      <td>9.5</td>\n",
              "      <td>116969.00</td>\n",
              "      <td>C</td>\n",
              "    </tr>\n",
              "    <tr>\n",
              "      <th>27</th>\n",
              "      <td>9.6</td>\n",
              "      <td>112635.00</td>\n",
              "      <td>C</td>\n",
              "    </tr>\n",
              "    <tr>\n",
              "      <th>28</th>\n",
              "      <td>10.3</td>\n",
              "      <td>122391.00</td>\n",
              "      <td>C</td>\n",
              "    </tr>\n",
              "    <tr>\n",
              "      <th>29</th>\n",
              "      <td>10.5</td>\n",
              "      <td>121872.00</td>\n",
              "      <td>C</td>\n",
              "    </tr>\n",
              "  </tbody>\n",
              "</table>\n",
              "</div>"
            ],
            "text/plain": [
              "    YearsExperience     Salary Class\n",
              "0               1.1   39343.00     A\n",
              "1               1.3   46205.00     A\n",
              "2               1.5   37731.00     A\n",
              "3               2.0   43525.00     A\n",
              "4               2.2   39891.00     A\n",
              "5               2.9   56642.00     A\n",
              "6               3.0   60150.00     A\n",
              "7               3.2   74774.44   NaN\n",
              "8               3.2   64445.00   NaN\n",
              "9               3.7   57189.00   NaN\n",
              "10              3.9   63218.00     B\n",
              "11              4.0   55794.00     B\n",
              "12              4.0   56957.00     B\n",
              "13              4.1   57081.00     B\n",
              "14              4.5   74774.44     B\n",
              "15              4.9   67938.00     B\n",
              "16              5.1   66029.00     B\n",
              "17              5.3   74774.44     B\n",
              "18              5.9   81363.00     B\n",
              "19              6.0   93940.00     B\n",
              "20              6.8   91738.00     B\n",
              "21              7.1   74774.44     B\n",
              "22              7.9  101302.00     B\n",
              "23              8.2   74774.44     B\n",
              "24              8.7  109431.00     B\n",
              "25              9.0  105582.00     C\n",
              "26              9.5  116969.00     C\n",
              "27              9.6  112635.00     C\n",
              "28             10.3  122391.00     C\n",
              "29             10.5  121872.00     C"
            ]
          },
          "metadata": {
            "tags": []
          },
          "execution_count": 93
        }
      ]
    },
    {
      "cell_type": "code",
      "metadata": {
        "id": "pGg4IaaBiX6o"
      },
      "source": [
        "df.fillna(df.median,inplace=True)\r\n",
        "df"
      ],
      "execution_count": null,
      "outputs": []
    },
    {
      "cell_type": "code",
      "metadata": {
        "id": "-ud2fcaJVUsj"
      },
      "source": [
        "from sklearn.impute import SimpleImputer\r\n",
        "import numpy as np\r\n",
        "imputer = SimpleImputer(missing_values=np.nan, strategy='mean')\r\n",
        "# transform the dataset\r\n",
        "transformed_values = imputer.fit_transform(df.values)\r\n",
        "transformed_values"
      ],
      "execution_count": null,
      "outputs": []
    },
    {
      "cell_type": "code",
      "metadata": {
        "id": "QK10HUJvw5uL"
      },
      "source": [
        "def imput_nan(df,variable,median):\r\n",
        "  df[variable+\"_median\"]=df[variable].fillna(median)"
      ],
      "execution_count": null,
      "outputs": []
    },
    {
      "cell_type": "code",
      "metadata": {
        "id": "z_Oy6gSEzfZe"
      },
      "source": [
        "median=df['Salary'].median()\r\n",
        "median"
      ],
      "execution_count": null,
      "outputs": []
    },
    {
      "cell_type": "code",
      "metadata": {
        "id": "GozMBZk7x4-n"
      },
      "source": [
        "imput_nan(df,'Salary',median)\r\n",
        "df"
      ],
      "execution_count": null,
      "outputs": []
    },
    {
      "cell_type": "code",
      "metadata": {
        "id": "M-L6K1kH12Kx"
      },
      "source": [
        "df.drop(['Salary_median'],axis=1)\r\n",
        "df"
      ],
      "execution_count": null,
      "outputs": []
    },
    {
      "cell_type": "code",
      "metadata": {
        "id": "npGzRUjnzeZ6",
        "outputId": "906d8d1e-b6cd-4efb-8e1e-9754b27bc2c2",
        "colab": {
          "base_uri": "https://localhost:8080/",
          "height": 740
        }
      },
      "source": [
        "pd.get_dummies(df['Class'])"
      ],
      "execution_count": 108,
      "outputs": [
        {
          "output_type": "execute_result",
          "data": {
            "text/html": [
              "<div>\n",
              "<style scoped>\n",
              "    .dataframe tbody tr th:only-of-type {\n",
              "        vertical-align: middle;\n",
              "    }\n",
              "\n",
              "    .dataframe tbody tr th {\n",
              "        vertical-align: top;\n",
              "    }\n",
              "\n",
              "    .dataframe thead th {\n",
              "        text-align: right;\n",
              "    }\n",
              "</style>\n",
              "<table border=\"1\" class=\"dataframe\">\n",
              "  <thead>\n",
              "    <tr style=\"text-align: right;\">\n",
              "      <th></th>\n",
              "      <th>A</th>\n",
              "      <th>B</th>\n",
              "      <th>C</th>\n",
              "    </tr>\n",
              "  </thead>\n",
              "  <tbody>\n",
              "    <tr>\n",
              "      <th>0</th>\n",
              "      <td>1</td>\n",
              "      <td>0</td>\n",
              "      <td>0</td>\n",
              "    </tr>\n",
              "    <tr>\n",
              "      <th>1</th>\n",
              "      <td>1</td>\n",
              "      <td>0</td>\n",
              "      <td>0</td>\n",
              "    </tr>\n",
              "    <tr>\n",
              "      <th>2</th>\n",
              "      <td>1</td>\n",
              "      <td>0</td>\n",
              "      <td>0</td>\n",
              "    </tr>\n",
              "    <tr>\n",
              "      <th>3</th>\n",
              "      <td>1</td>\n",
              "      <td>0</td>\n",
              "      <td>0</td>\n",
              "    </tr>\n",
              "    <tr>\n",
              "      <th>4</th>\n",
              "      <td>1</td>\n",
              "      <td>0</td>\n",
              "      <td>0</td>\n",
              "    </tr>\n",
              "    <tr>\n",
              "      <th>5</th>\n",
              "      <td>1</td>\n",
              "      <td>0</td>\n",
              "      <td>0</td>\n",
              "    </tr>\n",
              "    <tr>\n",
              "      <th>6</th>\n",
              "      <td>1</td>\n",
              "      <td>0</td>\n",
              "      <td>0</td>\n",
              "    </tr>\n",
              "    <tr>\n",
              "      <th>10</th>\n",
              "      <td>0</td>\n",
              "      <td>1</td>\n",
              "      <td>0</td>\n",
              "    </tr>\n",
              "    <tr>\n",
              "      <th>11</th>\n",
              "      <td>0</td>\n",
              "      <td>1</td>\n",
              "      <td>0</td>\n",
              "    </tr>\n",
              "    <tr>\n",
              "      <th>12</th>\n",
              "      <td>0</td>\n",
              "      <td>1</td>\n",
              "      <td>0</td>\n",
              "    </tr>\n",
              "    <tr>\n",
              "      <th>13</th>\n",
              "      <td>0</td>\n",
              "      <td>1</td>\n",
              "      <td>0</td>\n",
              "    </tr>\n",
              "    <tr>\n",
              "      <th>15</th>\n",
              "      <td>0</td>\n",
              "      <td>1</td>\n",
              "      <td>0</td>\n",
              "    </tr>\n",
              "    <tr>\n",
              "      <th>16</th>\n",
              "      <td>0</td>\n",
              "      <td>1</td>\n",
              "      <td>0</td>\n",
              "    </tr>\n",
              "    <tr>\n",
              "      <th>18</th>\n",
              "      <td>0</td>\n",
              "      <td>1</td>\n",
              "      <td>0</td>\n",
              "    </tr>\n",
              "    <tr>\n",
              "      <th>19</th>\n",
              "      <td>0</td>\n",
              "      <td>1</td>\n",
              "      <td>0</td>\n",
              "    </tr>\n",
              "    <tr>\n",
              "      <th>20</th>\n",
              "      <td>0</td>\n",
              "      <td>1</td>\n",
              "      <td>0</td>\n",
              "    </tr>\n",
              "    <tr>\n",
              "      <th>22</th>\n",
              "      <td>0</td>\n",
              "      <td>1</td>\n",
              "      <td>0</td>\n",
              "    </tr>\n",
              "    <tr>\n",
              "      <th>24</th>\n",
              "      <td>0</td>\n",
              "      <td>1</td>\n",
              "      <td>0</td>\n",
              "    </tr>\n",
              "    <tr>\n",
              "      <th>25</th>\n",
              "      <td>0</td>\n",
              "      <td>0</td>\n",
              "      <td>1</td>\n",
              "    </tr>\n",
              "    <tr>\n",
              "      <th>26</th>\n",
              "      <td>0</td>\n",
              "      <td>0</td>\n",
              "      <td>1</td>\n",
              "    </tr>\n",
              "    <tr>\n",
              "      <th>27</th>\n",
              "      <td>0</td>\n",
              "      <td>0</td>\n",
              "      <td>1</td>\n",
              "    </tr>\n",
              "    <tr>\n",
              "      <th>28</th>\n",
              "      <td>0</td>\n",
              "      <td>0</td>\n",
              "      <td>1</td>\n",
              "    </tr>\n",
              "    <tr>\n",
              "      <th>29</th>\n",
              "      <td>0</td>\n",
              "      <td>0</td>\n",
              "      <td>1</td>\n",
              "    </tr>\n",
              "  </tbody>\n",
              "</table>\n",
              "</div>"
            ],
            "text/plain": [
              "    A  B  C\n",
              "0   1  0  0\n",
              "1   1  0  0\n",
              "2   1  0  0\n",
              "3   1  0  0\n",
              "4   1  0  0\n",
              "5   1  0  0\n",
              "6   1  0  0\n",
              "10  0  1  0\n",
              "11  0  1  0\n",
              "12  0  1  0\n",
              "13  0  1  0\n",
              "15  0  1  0\n",
              "16  0  1  0\n",
              "18  0  1  0\n",
              "19  0  1  0\n",
              "20  0  1  0\n",
              "22  0  1  0\n",
              "24  0  1  0\n",
              "25  0  0  1\n",
              "26  0  0  1\n",
              "27  0  0  1\n",
              "28  0  0  1\n",
              "29  0  0  1"
            ]
          },
          "metadata": {
            "tags": []
          },
          "execution_count": 108
        }
      ]
    },
    {
      "cell_type": "code",
      "metadata": {
        "id": "YZ70bdoSWDQB"
      },
      "source": [
        "import numpy as np\r\n",
        "df['class_cov']=np.where(df['Class'].isnull(),1,0)\r\n",
        "df.drop('Class_cov')"
      ],
      "execution_count": null,
      "outputs": []
    },
    {
      "cell_type": "code",
      "metadata": {
        "id": "ZzI7ig9htrTe"
      },
      "source": [
        "df.dropna(axis=0,inplace=True)\r\n"
      ],
      "execution_count": 106,
      "outputs": []
    }
  ]
}